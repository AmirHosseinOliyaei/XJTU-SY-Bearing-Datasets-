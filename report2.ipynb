{
 "cells": [
  {
   "cell_type": "markdown",
   "id": "fa14104f",
   "metadata": {},
   "source": [
    "<div style=\"direction: rtl; text-align: right;\">\n",
    "\n",
    "# گزارش مدل (1D CNN با LSTM و SEBlock)\n",
    "\n",
    "## ۱. خواندن و آماده‌سازی داده‌ها\n",
    "\n",
    "### پیش‌پردازش\n",
    "- **خواندن داده‌ها**:\n",
    "  - فایل‌های CSV با استفاده از `pd.read_csv` خوانده می‌شوند.\n",
    "  - سیگنال‌ها (`sigs`) و برچسب‌ها (`labels`) جدا می‌شوند.\n",
    "- **پردازش سیگنال‌ها**:\n",
    "  - محدود کردن مقادیر خارج از ۹۹.۵ درصدile با `clip_signal`.\n",
    "  - صاف‌سازی سیگنال‌ها با `smooth_signal` و هسته ۵.\n",
    "  - کاهش اندازه به طول ثابت ۲۰۴۸ نمونه با `downsample_avg`.\n",
    "- **ذخیره‌سازی**:\n",
    "  - داده‌ها به صورت آرایه‌های NumPy ذخیره شده و در پوشه `cache_fast_norm` کش می‌شوند تا از بارگذاری مجدد جلوگیری شود.\n",
    "\n",
    "### تقسیم داده‌ها\n",
    "- داده‌ها به سه مجموعه تقسیم می‌شوند:\n",
    "  - **آموزشی**: ۶۰٪\n",
    "  - **اعتبارسنجی**: ۲۰٪\n",
    "  - **تست**: ۲۰٪\n",
    "- نرمال‌سازی با میانگین و انحراف معیار مجموعه آموزشی انجام می‌شود.\n",
    "\n",
    "### داده‌افزایی (Augmentation)\n",
    "- در مجموعه آموزشی:\n",
    "  - نویز گاوسی با مقیاس ۰.۰۱۶\n",
    "  - جابجایی تا حداکثر ۵\n",
    "  - مقیاس‌دهی بین ۰.۹۲۵ تا ۱.۰۷۵\n",
    "  - افزونگی فرکانسی بین ۰.۹ تا ۱.۱\n",
    "- احتمال اعمال: ۳۰٪\n",
    "\n",
    "## ۲. تعریف مدل\n",
    "\n",
    "مدل یک شبکه کانولوشنی یک‌بعدی (1D CNN) بهبودیافته با LSTM شامل موارد زیر است:\n",
    "\n",
    "### لایه‌های کانولوشنی\n",
    "- **conv1_large**:\n",
    "  - ۲۴ فیلتر، اندازه هسته ۱۵، پدینگ ۷\n",
    "  - MaxPooling با اندازه ۳\n",
    "- **conv1_small**:\n",
    "  - ۲۴ فیلتر، اندازه هسته ۵، پدینگ ۲\n",
    "  - MaxPooling با اندازه ۳\n",
    "- **ترکیب**:\n",
    "  - خروجی `conv1_large` و `conv1_small` با `torch.cat` ترکیب شده و به ۴۸ کانال می‌رسد.\n",
    "- **conv2**:\n",
    "  - ۹۶ فیلتر، هسته ۷، پدینگ ۳\n",
    "  - MaxPooling با اندازه ۳\n",
    "- **conv3**:\n",
    "  - ۱۲۸ فیلتر، هسته ۵، پدینگ ۲\n",
    "  - MaxPooling با اندازه ۳\n",
    "- **conv3_extra**:\n",
    "  - ۱۹۲ فیلتر، هسته ۵، پدینگ ۲\n",
    "  - MaxPooling با اندازه ۳\n",
    "- **conv4**:\n",
    "  - ۲۵۶ فیلتر، هسته ۳، پدینگ ۱\n",
    "  - `AdaptiveAvgPool1d` به طول ۱۶\n",
    "\n",
    "### بلوک Squeeze-and-Excitation (SE)\n",
    "- پس از `conv2`:\n",
    "  - کاهش ۱۶ کانالی برای تنظیم پویای کانال‌ها\n",
    "\n",
    "### Shortcut\n",
    "- مسیر مستقیم با کانولوشن ۱×۱ و BatchNorm برای ادغام با خروجی اصلی\n",
    "\n",
    "### لایه LSTM\n",
    "- ورودی با اندازه ۲۵۶\n",
    "- اندازه پنهان: ۱۲۸\n",
    "- تعداد لایه‌ها: ۲\n",
    "- دوجهته\n",
    "- Dropout: ۰.۲\n",
    "\n",
    "### لایه‌های Fully Connected\n",
    "- لایه‌های خطی:\n",
    "  - ۲۵۶ → ۲۵۶ → ۱۲۸ → ۶۴ → ۱\n",
    "  - هر لایه با ReLU و Dropout (نسبت‌های ۰.۴۵، ۰.۳۵، ۰.۲۵، ۰.۲)\n",
    "\n",
    "### جریان داده\n",
    "- خروجی‌های کانولوشنی با اتصال کوتاه جمع شده، سپس به LSTM منتقل شده و در نهایت به طبقه‌بندی‌کننده ارسال می‌شوند.\n",
    "\n",
    "## ۳. یادگیری مدل\n",
    "\n",
    "### بهینه‌سازی\n",
    "- بهینه‌ساز: **AdamW**\n",
    "  - نرخ یادگیری اولیه (گرم‌کردن): `1e-5` برای ۱۵ Epoch اول، سپس `7e-5`\n",
    "  - وزن‌دهی: `4e-4`\n",
    "- تابع هزینه: **Huber Loss**\n",
    "  - دلتا: ۰.۳\n",
    "  - ضرایب تنظیم:\n",
    "    - L1: ۰.۰۵\n",
    "    - L2: `2e-4`\n",
    "\n",
    "### داده‌افزایی در آموزش\n",
    "- **Mixup**:\n",
    "  - آلفا: ۰.۲۵\n",
    "  - احتمال: ۳۵٪\n",
    "\n",
    "### برنامه‌ریزی نرخ یادگیری\n",
    "- **ReduceLROnPlateau**:\n",
    "  - فاکتور: ۰.۳\n",
    "  - صبر: ۱۰\n",
    "\n",
    "### (Early Stopping)\n",
    "- توقف آموزش پس از ۳۰ Epoch بدون بهبود.\n",
    "\n",
    "### حفظ بهترین مدل\n",
    "- ذخیره در: `best_model_cnn_improved.pth` (بر اساس کمترین خطای اعتبارسنجی)\n",
    "\n",
    "## ۴. تست و نمایش نتایج\n",
    "\n",
    "### ارزیابی\n",
    "- معیارها:\n",
    "  - MSE\n",
    "  - MAE\n",
    "  - RMSE\n",
    "  - R²\n",
    "  - sMAPE\n",
    "\n",
    "### نمایش گرافیکی\n",
    "- **نمودار پراکندگی**: پیش‌بینی‌شده در مقابل واقعی\n",
    "- **Confusion Matrix**:\n",
    "  - دسته‌بندی RUL به بازه‌ها:\n",
    "    - [۰-۵۰۰]\n",
    "    - [۵۰۰-۱۰۰۰]\n",
    "    - [۱۰۰۰-۱۵۰۰]\n",
    "    - [۱۵۰۰-۲۰۰۰]\n",
    "    - [۲۰۰۰+]\n",
    "- **تاریخچه Loss**:\n",
    "  - نمایش Loss آموزشی و اعتبارسنجی\n",
    "\n",
    "## ۵. نتایج\n",
    "\n",
    "### نتایج آموزشی و اعتبارسنجی\n",
    "- **توقف آموزش**: Epoch ۱۳۷ (Early Stopping پس از ۳۰ Epoch بدون بهبود)\n",
    "- **بهترین عملکرد اعتبارسنجی** (Epoch ۱۰۷):\n",
    "  - Loss: ۰.۰۰۵۰\n",
    "  - sMAPE: ۳۶.۳۷٪\n",
    "\n",
    "### نتایج تست\n",
    "- **معیارها**:\n",
    "  - MSE: ۶۳۴۵۳.۶۰\n",
    "  - MAE: ۱۷۶.۱۳\n",
    "  - RMSE: ۲۵۱.۹۰\n",
    "  - R²: ۰.۸۸۶۰\n",
    "  - sMAPE: ۳۵.۴۲٪\n",
    "  - MAE%Max: ۶.۹۶٪\n",
    "\n",
    "</div>"
   ]
  },
  {
   "cell_type": "code",
   "execution_count": null,
   "id": "2cccadbb",
   "metadata": {},
   "outputs": [
    {
     "name": "stdout",
     "output_type": "stream",
     "text": [
      "📦 Preprocessing & Caching (once)...\n"
     ]
    },
    {
     "name": "stderr",
     "output_type": "stream",
     "text": [
      "100%|██████████| 15/15 [04:42<00:00, 18.83s/it]\n"
     ]
    },
    {
     "name": "stdout",
     "output_type": "stream",
     "text": [
      "✅ Cached raw: X=(9216, 2048), y=(9216,), max_rul=2538.00\n",
      "\n",
      "===== Epoch 1/150 =====\n"
     ]
    },
    {
     "name": "stderr",
     "output_type": "stream",
     "text": [
      "                                                      \r"
     ]
    },
    {
     "name": "stdout",
     "output_type": "stream",
     "text": [
      "📉 Train=0.0709 | Val=0.0645 | Val sMAPE=191.35%\n",
      "✅ (best).\n",
      "\n",
      "===== Epoch 2/150 =====\n"
     ]
    },
    {
     "name": "stderr",
     "output_type": "stream",
     "text": [
      "                                                      \r"
     ]
    },
    {
     "name": "stdout",
     "output_type": "stream",
     "text": [
      "📉 Train=0.0676 | Val=0.0606 | Val sMAPE=146.98%\n",
      "✅ (best).\n",
      "\n",
      "===== Epoch 3/150 =====\n"
     ]
    },
    {
     "name": "stderr",
     "output_type": "stream",
     "text": [
      "                                                      \r"
     ]
    },
    {
     "name": "stdout",
     "output_type": "stream",
     "text": [
      "📉 Train=0.0629 | Val=0.0540 | Val sMAPE=112.65%\n",
      "✅ (best).\n",
      "\n",
      "===== Epoch 4/150 =====\n"
     ]
    },
    {
     "name": "stderr",
     "output_type": "stream",
     "text": [
      "                                                      \r"
     ]
    },
    {
     "name": "stdout",
     "output_type": "stream",
     "text": [
      "📉 Train=0.0551 | Val=0.0441 | Val sMAPE=87.97%\n",
      "✅ (best).\n",
      "\n",
      "===== Epoch 5/150 =====\n"
     ]
    },
    {
     "name": "stderr",
     "output_type": "stream",
     "text": [
      "                                                      \r"
     ]
    },
    {
     "name": "stdout",
     "output_type": "stream",
     "text": [
      "📉 Train=0.0448 | Val=0.0344 | Val sMAPE=75.05%\n",
      "✅ (best).\n",
      "\n",
      "===== Epoch 6/150 =====\n"
     ]
    },
    {
     "name": "stderr",
     "output_type": "stream",
     "text": [
      "                                                      \r"
     ]
    },
    {
     "name": "stdout",
     "output_type": "stream",
     "text": [
      "📉 Train=0.0348 | Val=0.0254 | Val sMAPE=65.13%\n",
      "✅ (best).\n",
      "\n",
      "===== Epoch 7/150 =====\n"
     ]
    },
    {
     "name": "stderr",
     "output_type": "stream",
     "text": [
      "                                                      \r"
     ]
    },
    {
     "name": "stdout",
     "output_type": "stream",
     "text": [
      "📉 Train=0.0270 | Val=0.0191 | Val sMAPE=58.75%\n",
      "✅ (best).\n",
      "\n",
      "===== Epoch 8/150 =====\n"
     ]
    },
    {
     "name": "stderr",
     "output_type": "stream",
     "text": [
      "                                                      \r"
     ]
    },
    {
     "name": "stdout",
     "output_type": "stream",
     "text": [
      "📉 Train=0.0215 | Val=0.0158 | Val sMAPE=54.88%\n",
      "✅ (best).\n",
      "\n",
      "===== Epoch 9/150 =====\n"
     ]
    },
    {
     "name": "stderr",
     "output_type": "stream",
     "text": [
      "                                                      \r"
     ]
    },
    {
     "name": "stdout",
     "output_type": "stream",
     "text": [
      "📉 Train=0.0194 | Val=0.0132 | Val sMAPE=50.51%\n",
      "✅ (best).\n",
      "\n",
      "===== Epoch 10/150 =====\n"
     ]
    },
    {
     "name": "stderr",
     "output_type": "stream",
     "text": [
      "                                                      \r"
     ]
    },
    {
     "name": "stdout",
     "output_type": "stream",
     "text": [
      "📉 Train=0.0187 | Val=0.0136 | Val sMAPE=52.29%\n",
      "\n",
      "===== Epoch 11/150 =====\n"
     ]
    },
    {
     "name": "stderr",
     "output_type": "stream",
     "text": [
      "                                                      \r"
     ]
    },
    {
     "name": "stdout",
     "output_type": "stream",
     "text": [
      "📉 Train=0.0187 | Val=0.0149 | Val sMAPE=50.51%\n",
      "\n",
      "===== Epoch 12/150 =====\n"
     ]
    },
    {
     "name": "stderr",
     "output_type": "stream",
     "text": [
      "                                                      \r"
     ]
    },
    {
     "name": "stdout",
     "output_type": "stream",
     "text": [
      "📉 Train=0.0180 | Val=0.0112 | Val sMAPE=46.49%\n",
      "✅ (best).\n",
      "\n",
      "===== Epoch 13/150 =====\n"
     ]
    },
    {
     "name": "stderr",
     "output_type": "stream",
     "text": [
      "                                                      \r"
     ]
    },
    {
     "name": "stdout",
     "output_type": "stream",
     "text": [
      "📉 Train=0.0149 | Val=0.0115 | Val sMAPE=46.78%\n",
      "\n",
      "===== Epoch 14/150 =====\n"
     ]
    },
    {
     "name": "stderr",
     "output_type": "stream",
     "text": [
      "                                                      \r"
     ]
    },
    {
     "name": "stdout",
     "output_type": "stream",
     "text": [
      "📉 Train=0.0156 | Val=0.0169 | Val sMAPE=50.90%\n",
      "\n",
      "===== Epoch 15/150 =====\n"
     ]
    },
    {
     "name": "stderr",
     "output_type": "stream",
     "text": [
      "                                                      \r"
     ]
    },
    {
     "name": "stdout",
     "output_type": "stream",
     "text": [
      "📉 Train=0.0161 | Val=0.0108 | Val sMAPE=46.43%\n",
      "✅ (best).\n",
      "\n",
      "===== Epoch 16/150 =====\n"
     ]
    },
    {
     "name": "stderr",
     "output_type": "stream",
     "text": [
      "                                                      \r"
     ]
    },
    {
     "name": "stdout",
     "output_type": "stream",
     "text": [
      "📉 Train=0.0168 | Val=0.0113 | Val sMAPE=46.43%\n",
      "\n",
      "===== Epoch 17/150 =====\n"
     ]
    },
    {
     "name": "stderr",
     "output_type": "stream",
     "text": [
      "                                                      \r"
     ]
    },
    {
     "name": "stdout",
     "output_type": "stream",
     "text": [
      "📉 Train=0.0153 | Val=0.0127 | Val sMAPE=46.79%\n",
      "\n",
      "===== Epoch 18/150 =====\n"
     ]
    },
    {
     "name": "stderr",
     "output_type": "stream",
     "text": [
      "                                                      \r"
     ]
    },
    {
     "name": "stdout",
     "output_type": "stream",
     "text": [
      "📉 Train=0.0153 | Val=0.0244 | Val sMAPE=63.95%\n",
      "\n",
      "===== Epoch 19/150 =====\n"
     ]
    },
    {
     "name": "stderr",
     "output_type": "stream",
     "text": [
      "                                                      \r"
     ]
    },
    {
     "name": "stdout",
     "output_type": "stream",
     "text": [
      "📉 Train=0.0173 | Val=0.0176 | Val sMAPE=50.93%\n",
      "\n",
      "===== Epoch 20/150 =====\n"
     ]
    },
    {
     "name": "stderr",
     "output_type": "stream",
     "text": [
      "                                                      \r"
     ]
    },
    {
     "name": "stdout",
     "output_type": "stream",
     "text": [
      "📉 Train=0.0153 | Val=0.0099 | Val sMAPE=43.06%\n",
      "✅ (best).\n",
      "\n",
      "===== Epoch 21/150 =====\n"
     ]
    },
    {
     "name": "stderr",
     "output_type": "stream",
     "text": [
      "                                                      \r"
     ]
    },
    {
     "name": "stdout",
     "output_type": "stream",
     "text": [
      "📉 Train=0.0138 | Val=0.0090 | Val sMAPE=42.37%\n",
      "✅ (best).\n",
      "\n",
      "===== Epoch 22/150 =====\n"
     ]
    },
    {
     "name": "stderr",
     "output_type": "stream",
     "text": [
      "                                                      \r"
     ]
    },
    {
     "name": "stdout",
     "output_type": "stream",
     "text": [
      "📉 Train=0.0133 | Val=0.0163 | Val sMAPE=47.30%\n",
      "\n",
      "===== Epoch 23/150 =====\n"
     ]
    },
    {
     "name": "stderr",
     "output_type": "stream",
     "text": [
      "                                                      \r"
     ]
    },
    {
     "name": "stdout",
     "output_type": "stream",
     "text": [
      "📉 Train=0.0124 | Val=0.0157 | Val sMAPE=47.73%\n",
      "\n",
      "===== Epoch 24/150 =====\n"
     ]
    },
    {
     "name": "stderr",
     "output_type": "stream",
     "text": [
      "                                                      \r"
     ]
    },
    {
     "name": "stdout",
     "output_type": "stream",
     "text": [
      "📉 Train=0.0132 | Val=0.0097 | Val sMAPE=41.89%\n",
      "\n",
      "===== Epoch 25/150 =====\n"
     ]
    },
    {
     "name": "stderr",
     "output_type": "stream",
     "text": [
      "                                                      \r"
     ]
    },
    {
     "name": "stdout",
     "output_type": "stream",
     "text": [
      "📉 Train=0.0132 | Val=0.0090 | Val sMAPE=43.04%\n",
      "\n",
      "===== Epoch 26/150 =====\n"
     ]
    },
    {
     "name": "stderr",
     "output_type": "stream",
     "text": [
      "                                                      \r"
     ]
    },
    {
     "name": "stdout",
     "output_type": "stream",
     "text": [
      "📉 Train=0.0121 | Val=0.0089 | Val sMAPE=41.68%\n",
      "✅ (best).\n",
      "\n",
      "===== Epoch 27/150 =====\n"
     ]
    },
    {
     "name": "stderr",
     "output_type": "stream",
     "text": [
      "                                                      \r"
     ]
    },
    {
     "name": "stdout",
     "output_type": "stream",
     "text": [
      "📉 Train=0.0138 | Val=0.0081 | Val sMAPE=42.10%\n",
      "✅ (best).\n",
      "\n",
      "===== Epoch 28/150 =====\n"
     ]
    },
    {
     "name": "stderr",
     "output_type": "stream",
     "text": [
      "                                                      \r"
     ]
    },
    {
     "name": "stdout",
     "output_type": "stream",
     "text": [
      "📉 Train=0.0126 | Val=0.0089 | Val sMAPE=42.06%\n",
      "\n",
      "===== Epoch 29/150 =====\n"
     ]
    },
    {
     "name": "stderr",
     "output_type": "stream",
     "text": [
      "                                                      \r"
     ]
    },
    {
     "name": "stdout",
     "output_type": "stream",
     "text": [
      "📉 Train=0.0116 | Val=0.0091 | Val sMAPE=42.66%\n",
      "\n",
      "===== Epoch 30/150 =====\n"
     ]
    },
    {
     "name": "stderr",
     "output_type": "stream",
     "text": [
      "                                                      \r"
     ]
    },
    {
     "name": "stdout",
     "output_type": "stream",
     "text": [
      "📉 Train=0.0122 | Val=0.0073 | Val sMAPE=39.55%\n",
      "✅ (best).\n",
      "\n",
      "===== Epoch 31/150 =====\n"
     ]
    },
    {
     "name": "stderr",
     "output_type": "stream",
     "text": [
      "                                                      \r"
     ]
    },
    {
     "name": "stdout",
     "output_type": "stream",
     "text": [
      "📉 Train=0.0120 | Val=0.0087 | Val sMAPE=40.91%\n",
      "\n",
      "===== Epoch 32/150 =====\n"
     ]
    },
    {
     "name": "stderr",
     "output_type": "stream",
     "text": [
      "                                                      \r"
     ]
    },
    {
     "name": "stdout",
     "output_type": "stream",
     "text": [
      "📉 Train=0.0110 | Val=0.0181 | Val sMAPE=47.16%\n",
      "\n",
      "===== Epoch 33/150 =====\n"
     ]
    },
    {
     "name": "stderr",
     "output_type": "stream",
     "text": [
      "                                                      \r"
     ]
    },
    {
     "name": "stdout",
     "output_type": "stream",
     "text": [
      "📉 Train=0.0122 | Val=0.0108 | Val sMAPE=42.51%\n",
      "\n",
      "===== Epoch 34/150 =====\n"
     ]
    },
    {
     "name": "stderr",
     "output_type": "stream",
     "text": [
      "                                                      \r"
     ]
    },
    {
     "name": "stdout",
     "output_type": "stream",
     "text": [
      "📉 Train=0.0108 | Val=0.0115 | Val sMAPE=41.84%\n",
      "\n",
      "===== Epoch 35/150 =====\n"
     ]
    },
    {
     "name": "stderr",
     "output_type": "stream",
     "text": [
      "                                                      \r"
     ]
    },
    {
     "name": "stdout",
     "output_type": "stream",
     "text": [
      "📉 Train=0.0114 | Val=0.0096 | Val sMAPE=43.21%\n",
      "\n",
      "===== Epoch 36/150 =====\n"
     ]
    },
    {
     "name": "stderr",
     "output_type": "stream",
     "text": [
      "                                                      \r"
     ]
    },
    {
     "name": "stdout",
     "output_type": "stream",
     "text": [
      "📉 Train=0.0111 | Val=0.0102 | Val sMAPE=43.89%\n",
      "\n",
      "===== Epoch 37/150 =====\n"
     ]
    },
    {
     "name": "stderr",
     "output_type": "stream",
     "text": [
      "                                                      \r"
     ]
    },
    {
     "name": "stdout",
     "output_type": "stream",
     "text": [
      "📉 Train=0.0119 | Val=0.0096 | Val sMAPE=42.72%\n",
      "\n",
      "===== Epoch 38/150 =====\n"
     ]
    },
    {
     "name": "stderr",
     "output_type": "stream",
     "text": [
      "                                                      \r"
     ]
    },
    {
     "name": "stdout",
     "output_type": "stream",
     "text": [
      "📉 Train=0.0109 | Val=0.0076 | Val sMAPE=40.69%\n",
      "\n",
      "===== Epoch 39/150 =====\n"
     ]
    },
    {
     "name": "stderr",
     "output_type": "stream",
     "text": [
      "                                                      \r"
     ]
    },
    {
     "name": "stdout",
     "output_type": "stream",
     "text": [
      "📉 Train=0.0105 | Val=0.0097 | Val sMAPE=42.06%\n",
      "\n",
      "===== Epoch 40/150 =====\n"
     ]
    },
    {
     "name": "stderr",
     "output_type": "stream",
     "text": [
      "                                                      \r"
     ]
    },
    {
     "name": "stdout",
     "output_type": "stream",
     "text": [
      "📉 Train=0.0118 | Val=0.0116 | Val sMAPE=42.81%\n",
      "\n",
      "===== Epoch 41/150 =====\n"
     ]
    },
    {
     "name": "stderr",
     "output_type": "stream",
     "text": [
      "                                                      \r"
     ]
    },
    {
     "name": "stdout",
     "output_type": "stream",
     "text": [
      "📉 Train=0.0096 | Val=0.0100 | Val sMAPE=40.38%\n",
      "\n",
      "===== Epoch 42/150 =====\n"
     ]
    },
    {
     "name": "stderr",
     "output_type": "stream",
     "text": [
      "                                                      \r"
     ]
    },
    {
     "name": "stdout",
     "output_type": "stream",
     "text": [
      "📉 Train=0.0103 | Val=0.0063 | Val sMAPE=37.79%\n",
      "✅ (best).\n",
      "\n",
      "===== Epoch 43/150 =====\n"
     ]
    },
    {
     "name": "stderr",
     "output_type": "stream",
     "text": [
      "                                                      \r"
     ]
    },
    {
     "name": "stdout",
     "output_type": "stream",
     "text": [
      "📉 Train=0.0124 | Val=0.0074 | Val sMAPE=39.13%\n",
      "\n",
      "===== Epoch 44/150 =====\n"
     ]
    },
    {
     "name": "stderr",
     "output_type": "stream",
     "text": [
      "                                                      \r"
     ]
    },
    {
     "name": "stdout",
     "output_type": "stream",
     "text": [
      "📉 Train=0.0104 | Val=0.0088 | Val sMAPE=40.83%\n",
      "\n",
      "===== Epoch 45/150 =====\n"
     ]
    },
    {
     "name": "stderr",
     "output_type": "stream",
     "text": [
      "                                                      \r"
     ]
    },
    {
     "name": "stdout",
     "output_type": "stream",
     "text": [
      "📉 Train=0.0080 | Val=0.0100 | Val sMAPE=40.22%\n",
      "\n",
      "===== Epoch 46/150 =====\n"
     ]
    },
    {
     "name": "stderr",
     "output_type": "stream",
     "text": [
      "                                                      \r"
     ]
    },
    {
     "name": "stdout",
     "output_type": "stream",
     "text": [
      "📉 Train=0.0113 | Val=0.0065 | Val sMAPE=38.30%\n",
      "\n",
      "===== Epoch 47/150 =====\n"
     ]
    },
    {
     "name": "stderr",
     "output_type": "stream",
     "text": [
      "                                                      \r"
     ]
    },
    {
     "name": "stdout",
     "output_type": "stream",
     "text": [
      "📉 Train=0.0111 | Val=0.0068 | Val sMAPE=38.61%\n",
      "\n",
      "===== Epoch 48/150 =====\n"
     ]
    },
    {
     "name": "stderr",
     "output_type": "stream",
     "text": [
      "                                                      \r"
     ]
    },
    {
     "name": "stdout",
     "output_type": "stream",
     "text": [
      "📉 Train=0.0108 | Val=0.0064 | Val sMAPE=38.06%\n",
      "\n",
      "===== Epoch 49/150 =====\n"
     ]
    },
    {
     "name": "stderr",
     "output_type": "stream",
     "text": [
      "                                                      \r"
     ]
    },
    {
     "name": "stdout",
     "output_type": "stream",
     "text": [
      "📉 Train=0.0081 | Val=0.0071 | Val sMAPE=39.39%\n",
      "\n",
      "===== Epoch 50/150 =====\n"
     ]
    },
    {
     "name": "stderr",
     "output_type": "stream",
     "text": [
      "                                                      \r"
     ]
    },
    {
     "name": "stdout",
     "output_type": "stream",
     "text": [
      "📉 Train=0.0087 | Val=0.0066 | Val sMAPE=39.26%\n",
      "\n",
      "===== Epoch 51/150 =====\n"
     ]
    },
    {
     "name": "stderr",
     "output_type": "stream",
     "text": [
      "                                                      \r"
     ]
    },
    {
     "name": "stdout",
     "output_type": "stream",
     "text": [
      "📉 Train=0.0113 | Val=0.0084 | Val sMAPE=40.41%\n",
      "\n",
      "===== Epoch 52/150 =====\n"
     ]
    },
    {
     "name": "stderr",
     "output_type": "stream",
     "text": [
      "                                                      \r"
     ]
    },
    {
     "name": "stdout",
     "output_type": "stream",
     "text": [
      "📉 Train=0.0095 | Val=0.0072 | Val sMAPE=39.21%\n",
      "\n",
      "===== Epoch 53/150 =====\n"
     ]
    },
    {
     "name": "stderr",
     "output_type": "stream",
     "text": [
      "                                                      \r"
     ]
    },
    {
     "name": "stdout",
     "output_type": "stream",
     "text": [
      "📉 Train=0.0086 | Val=0.0084 | Val sMAPE=40.26%\n",
      "\n",
      "===== Epoch 54/150 =====\n"
     ]
    },
    {
     "name": "stderr",
     "output_type": "stream",
     "text": [
      "                                                      \r"
     ]
    },
    {
     "name": "stdout",
     "output_type": "stream",
     "text": [
      "📉 Train=0.0103 | Val=0.0076 | Val sMAPE=39.73%\n",
      "\n",
      "===== Epoch 55/150 =====\n"
     ]
    },
    {
     "name": "stderr",
     "output_type": "stream",
     "text": [
      "                                                      \r"
     ]
    },
    {
     "name": "stdout",
     "output_type": "stream",
     "text": [
      "📉 Train=0.0105 | Val=0.0063 | Val sMAPE=38.86%\n",
      "\n",
      "===== Epoch 56/150 =====\n"
     ]
    },
    {
     "name": "stderr",
     "output_type": "stream",
     "text": [
      "                                                      \r"
     ]
    },
    {
     "name": "stdout",
     "output_type": "stream",
     "text": [
      "📉 Train=0.0107 | Val=0.0057 | Val sMAPE=36.41%\n",
      "✅ (best).\n",
      "\n",
      "===== Epoch 57/150 =====\n"
     ]
    },
    {
     "name": "stderr",
     "output_type": "stream",
     "text": [
      "                                                      \r"
     ]
    },
    {
     "name": "stdout",
     "output_type": "stream",
     "text": [
      "📉 Train=0.0093 | Val=0.0066 | Val sMAPE=37.80%\n",
      "\n",
      "===== Epoch 58/150 =====\n"
     ]
    },
    {
     "name": "stderr",
     "output_type": "stream",
     "text": [
      "                                                      \r"
     ]
    },
    {
     "name": "stdout",
     "output_type": "stream",
     "text": [
      "📉 Train=0.0092 | Val=0.0063 | Val sMAPE=37.93%\n",
      "\n",
      "===== Epoch 59/150 =====\n"
     ]
    },
    {
     "name": "stderr",
     "output_type": "stream",
     "text": [
      "                                                      \r"
     ]
    },
    {
     "name": "stdout",
     "output_type": "stream",
     "text": [
      "📉 Train=0.0086 | Val=0.0053 | Val sMAPE=37.32%\n",
      "✅ (best).\n",
      "\n",
      "===== Epoch 60/150 =====\n"
     ]
    },
    {
     "name": "stderr",
     "output_type": "stream",
     "text": [
      "                                                      \r"
     ]
    },
    {
     "name": "stdout",
     "output_type": "stream",
     "text": [
      "📉 Train=0.0084 | Val=0.0062 | Val sMAPE=37.32%\n",
      "\n",
      "===== Epoch 61/150 =====\n"
     ]
    },
    {
     "name": "stderr",
     "output_type": "stream",
     "text": [
      "                                                      \r"
     ]
    },
    {
     "name": "stdout",
     "output_type": "stream",
     "text": [
      "📉 Train=0.0085 | Val=0.0092 | Val sMAPE=40.62%\n",
      "\n",
      "===== Epoch 62/150 =====\n"
     ]
    },
    {
     "name": "stderr",
     "output_type": "stream",
     "text": [
      "                                                      \r"
     ]
    },
    {
     "name": "stdout",
     "output_type": "stream",
     "text": [
      "📉 Train=0.0087 | Val=0.0069 | Val sMAPE=37.71%\n",
      "\n",
      "===== Epoch 63/150 =====\n"
     ]
    },
    {
     "name": "stderr",
     "output_type": "stream",
     "text": [
      "                                                      \r"
     ]
    },
    {
     "name": "stdout",
     "output_type": "stream",
     "text": [
      "📉 Train=0.0094 | Val=0.0055 | Val sMAPE=36.55%\n",
      "\n",
      "===== Epoch 64/150 =====\n"
     ]
    },
    {
     "name": "stderr",
     "output_type": "stream",
     "text": [
      "                                                      \r"
     ]
    },
    {
     "name": "stdout",
     "output_type": "stream",
     "text": [
      "📉 Train=0.0087 | Val=0.0060 | Val sMAPE=37.28%\n",
      "\n",
      "===== Epoch 65/150 =====\n"
     ]
    },
    {
     "name": "stderr",
     "output_type": "stream",
     "text": [
      "                                                      \r"
     ]
    },
    {
     "name": "stdout",
     "output_type": "stream",
     "text": [
      "📉 Train=0.0106 | Val=0.0057 | Val sMAPE=37.20%\n",
      "\n",
      "===== Epoch 66/150 =====\n"
     ]
    },
    {
     "name": "stderr",
     "output_type": "stream",
     "text": [
      "                                                      \r"
     ]
    },
    {
     "name": "stdout",
     "output_type": "stream",
     "text": [
      "📉 Train=0.0106 | Val=0.0073 | Val sMAPE=38.75%\n",
      "\n",
      "===== Epoch 67/150 =====\n"
     ]
    },
    {
     "name": "stderr",
     "output_type": "stream",
     "text": [
      "                                                      \r"
     ]
    },
    {
     "name": "stdout",
     "output_type": "stream",
     "text": [
      "📉 Train=0.0092 | Val=0.0054 | Val sMAPE=36.53%\n",
      "\n",
      "===== Epoch 68/150 =====\n"
     ]
    },
    {
     "name": "stderr",
     "output_type": "stream",
     "text": [
      "                                                      \r"
     ]
    },
    {
     "name": "stdout",
     "output_type": "stream",
     "text": [
      "📉 Train=0.0096 | Val=0.0065 | Val sMAPE=37.27%\n",
      "\n",
      "===== Epoch 69/150 =====\n"
     ]
    },
    {
     "name": "stderr",
     "output_type": "stream",
     "text": [
      "                                                      \r"
     ]
    },
    {
     "name": "stdout",
     "output_type": "stream",
     "text": [
      "📉 Train=0.0097 | Val=0.0070 | Val sMAPE=38.80%\n",
      "\n",
      "===== Epoch 70/150 =====\n"
     ]
    },
    {
     "name": "stderr",
     "output_type": "stream",
     "text": [
      "                                                      \r"
     ]
    },
    {
     "name": "stdout",
     "output_type": "stream",
     "text": [
      "📉 Train=0.0087 | Val=0.0059 | Val sMAPE=37.68%\n",
      "\n",
      "===== Epoch 71/150 =====\n"
     ]
    },
    {
     "name": "stderr",
     "output_type": "stream",
     "text": [
      "                                                      \r"
     ]
    },
    {
     "name": "stdout",
     "output_type": "stream",
     "text": [
      "📉 Train=0.0102 | Val=0.0057 | Val sMAPE=37.94%\n",
      "\n",
      "===== Epoch 72/150 =====\n"
     ]
    },
    {
     "name": "stderr",
     "output_type": "stream",
     "text": [
      "                                                      \r"
     ]
    },
    {
     "name": "stdout",
     "output_type": "stream",
     "text": [
      "📉 Train=0.0095 | Val=0.0082 | Val sMAPE=40.22%\n",
      "\n",
      "===== Epoch 73/150 =====\n"
     ]
    },
    {
     "name": "stderr",
     "output_type": "stream",
     "text": [
      "                                                      \r"
     ]
    },
    {
     "name": "stdout",
     "output_type": "stream",
     "text": [
      "📉 Train=0.0092 | Val=0.0053 | Val sMAPE=36.01%\n",
      "\n",
      "===== Epoch 74/150 =====\n"
     ]
    },
    {
     "name": "stderr",
     "output_type": "stream",
     "text": [
      "                                                      \r"
     ]
    },
    {
     "name": "stdout",
     "output_type": "stream",
     "text": [
      "📉 Train=0.0077 | Val=0.0060 | Val sMAPE=37.47%\n",
      "\n",
      "===== Epoch 75/150 =====\n"
     ]
    },
    {
     "name": "stderr",
     "output_type": "stream",
     "text": [
      "                                                      \r"
     ]
    },
    {
     "name": "stdout",
     "output_type": "stream",
     "text": [
      "📉 Train=0.0095 | Val=0.0053 | Val sMAPE=36.19%\n",
      "\n",
      "===== Epoch 76/150 =====\n"
     ]
    },
    {
     "name": "stderr",
     "output_type": "stream",
     "text": [
      "                                                      \r"
     ]
    },
    {
     "name": "stdout",
     "output_type": "stream",
     "text": [
      "📉 Train=0.0083 | Val=0.0071 | Val sMAPE=39.21%\n",
      "\n",
      "===== Epoch 77/150 =====\n"
     ]
    },
    {
     "name": "stderr",
     "output_type": "stream",
     "text": [
      "                                                      \r"
     ]
    },
    {
     "name": "stdout",
     "output_type": "stream",
     "text": [
      "📉 Train=0.0082 | Val=0.0064 | Val sMAPE=37.66%\n",
      "\n",
      "===== Epoch 78/150 =====\n"
     ]
    },
    {
     "name": "stderr",
     "output_type": "stream",
     "text": [
      "                                                      \r"
     ]
    },
    {
     "name": "stdout",
     "output_type": "stream",
     "text": [
      "📉 Train=0.0097 | Val=0.0056 | Val sMAPE=36.45%\n",
      "\n",
      "===== Epoch 79/150 =====\n"
     ]
    },
    {
     "name": "stderr",
     "output_type": "stream",
     "text": [
      "                                                      \r"
     ]
    },
    {
     "name": "stdout",
     "output_type": "stream",
     "text": [
      "📉 Train=0.0108 | Val=0.0054 | Val sMAPE=36.78%\n",
      "\n",
      "===== Epoch 80/150 =====\n"
     ]
    },
    {
     "name": "stderr",
     "output_type": "stream",
     "text": [
      "                                                      \r"
     ]
    },
    {
     "name": "stdout",
     "output_type": "stream",
     "text": [
      "📉 Train=0.0091 | Val=0.0066 | Val sMAPE=38.69%\n",
      "\n",
      "===== Epoch 81/150 =====\n"
     ]
    },
    {
     "name": "stderr",
     "output_type": "stream",
     "text": [
      "                                                      \r"
     ]
    },
    {
     "name": "stdout",
     "output_type": "stream",
     "text": [
      "📉 Train=0.0093 | Val=0.0062 | Val sMAPE=37.43%\n",
      "\n",
      "===== Epoch 82/150 =====\n"
     ]
    },
    {
     "name": "stderr",
     "output_type": "stream",
     "text": [
      "                                                      \r"
     ]
    },
    {
     "name": "stdout",
     "output_type": "stream",
     "text": [
      "📉 Train=0.0079 | Val=0.0056 | Val sMAPE=36.04%\n",
      "\n",
      "===== Epoch 83/150 =====\n"
     ]
    },
    {
     "name": "stderr",
     "output_type": "stream",
     "text": [
      "                                                      \r"
     ]
    },
    {
     "name": "stdout",
     "output_type": "stream",
     "text": [
      "📉 Train=0.0097 | Val=0.0053 | Val sMAPE=36.90%\n",
      "\n",
      "===== Epoch 84/150 =====\n"
     ]
    },
    {
     "name": "stderr",
     "output_type": "stream",
     "text": [
      "                                                      \r"
     ]
    },
    {
     "name": "stdout",
     "output_type": "stream",
     "text": [
      "📉 Train=0.0088 | Val=0.0056 | Val sMAPE=37.30%\n",
      "\n",
      "===== Epoch 85/150 =====\n"
     ]
    },
    {
     "name": "stderr",
     "output_type": "stream",
     "text": [
      "                                                      \r"
     ]
    },
    {
     "name": "stdout",
     "output_type": "stream",
     "text": [
      "📉 Train=0.0090 | Val=0.0052 | Val sMAPE=36.66%\n",
      "✅ (best).\n",
      "\n",
      "===== Epoch 86/150 =====\n"
     ]
    },
    {
     "name": "stderr",
     "output_type": "stream",
     "text": [
      "                                                      \r"
     ]
    },
    {
     "name": "stdout",
     "output_type": "stream",
     "text": [
      "📉 Train=0.0096 | Val=0.0070 | Val sMAPE=38.43%\n",
      "\n",
      "===== Epoch 87/150 =====\n"
     ]
    },
    {
     "name": "stderr",
     "output_type": "stream",
     "text": [
      "                                                      \r"
     ]
    },
    {
     "name": "stdout",
     "output_type": "stream",
     "text": [
      "📉 Train=0.0079 | Val=0.0068 | Val sMAPE=37.71%\n",
      "\n",
      "===== Epoch 88/150 =====\n"
     ]
    },
    {
     "name": "stderr",
     "output_type": "stream",
     "text": [
      "                                                      \r"
     ]
    },
    {
     "name": "stdout",
     "output_type": "stream",
     "text": [
      "📉 Train=0.0096 | Val=0.0090 | Val sMAPE=40.54%\n",
      "\n",
      "===== Epoch 89/150 =====\n"
     ]
    },
    {
     "name": "stderr",
     "output_type": "stream",
     "text": [
      "                                                      \r"
     ]
    },
    {
     "name": "stdout",
     "output_type": "stream",
     "text": [
      "📉 Train=0.0091 | Val=0.0060 | Val sMAPE=36.59%\n",
      "\n",
      "===== Epoch 90/150 =====\n"
     ]
    },
    {
     "name": "stderr",
     "output_type": "stream",
     "text": [
      "                                                      \r"
     ]
    },
    {
     "name": "stdout",
     "output_type": "stream",
     "text": [
      "📉 Train=0.0080 | Val=0.0052 | Val sMAPE=37.36%\n",
      "\n",
      "===== Epoch 91/150 =====\n"
     ]
    },
    {
     "name": "stderr",
     "output_type": "stream",
     "text": [
      "                                                      \r"
     ]
    },
    {
     "name": "stdout",
     "output_type": "stream",
     "text": [
      "📉 Train=0.0106 | Val=0.0051 | Val sMAPE=36.12%\n",
      "\n",
      "===== Epoch 92/150 =====\n"
     ]
    },
    {
     "name": "stderr",
     "output_type": "stream",
     "text": [
      "                                                      \r"
     ]
    },
    {
     "name": "stdout",
     "output_type": "stream",
     "text": [
      "📉 Train=0.0092 | Val=0.0067 | Val sMAPE=37.52%\n",
      "\n",
      "===== Epoch 93/150 =====\n"
     ]
    },
    {
     "name": "stderr",
     "output_type": "stream",
     "text": [
      "                                                      \r"
     ]
    },
    {
     "name": "stdout",
     "output_type": "stream",
     "text": [
      "📉 Train=0.0104 | Val=0.0052 | Val sMAPE=37.34%\n",
      "\n",
      "===== Epoch 94/150 =====\n"
     ]
    },
    {
     "name": "stderr",
     "output_type": "stream",
     "text": [
      "                                                      \r"
     ]
    },
    {
     "name": "stdout",
     "output_type": "stream",
     "text": [
      "📉 Train=0.0096 | Val=0.0076 | Val sMAPE=40.06%\n",
      "\n",
      "===== Epoch 95/150 =====\n"
     ]
    },
    {
     "name": "stderr",
     "output_type": "stream",
     "text": [
      "                                                      \r"
     ]
    },
    {
     "name": "stdout",
     "output_type": "stream",
     "text": [
      "📉 Train=0.0086 | Val=0.0063 | Val sMAPE=38.43%\n",
      "\n",
      "===== Epoch 96/150 =====\n"
     ]
    },
    {
     "name": "stderr",
     "output_type": "stream",
     "text": [
      "                                                      \r"
     ]
    },
    {
     "name": "stdout",
     "output_type": "stream",
     "text": [
      "📉 Train=0.0113 | Val=0.0052 | Val sMAPE=36.84%\n",
      "\n",
      "===== Epoch 97/150 =====\n"
     ]
    },
    {
     "name": "stderr",
     "output_type": "stream",
     "text": [
      "                                                      \r"
     ]
    },
    {
     "name": "stdout",
     "output_type": "stream",
     "text": [
      "📉 Train=0.0094 | Val=0.0068 | Val sMAPE=39.13%\n",
      "\n",
      "===== Epoch 98/150 =====\n"
     ]
    },
    {
     "name": "stderr",
     "output_type": "stream",
     "text": [
      "                                                      \r"
     ]
    },
    {
     "name": "stdout",
     "output_type": "stream",
     "text": [
      "📉 Train=0.0108 | Val=0.0061 | Val sMAPE=37.39%\n",
      "\n",
      "===== Epoch 99/150 =====\n"
     ]
    },
    {
     "name": "stderr",
     "output_type": "stream",
     "text": [
      "                                                      \r"
     ]
    },
    {
     "name": "stdout",
     "output_type": "stream",
     "text": [
      "📉 Train=0.0100 | Val=0.0112 | Val sMAPE=43.52%\n",
      "\n",
      "===== Epoch 100/150 =====\n"
     ]
    },
    {
     "name": "stderr",
     "output_type": "stream",
     "text": [
      "                                                      \r"
     ]
    },
    {
     "name": "stdout",
     "output_type": "stream",
     "text": [
      "📉 Train=0.0087 | Val=0.0061 | Val sMAPE=37.44%\n",
      "\n",
      "===== Epoch 101/150 =====\n"
     ]
    },
    {
     "name": "stderr",
     "output_type": "stream",
     "text": [
      "                                                      \r"
     ]
    },
    {
     "name": "stdout",
     "output_type": "stream",
     "text": [
      "📉 Train=0.0095 | Val=0.0063 | Val sMAPE=36.73%\n",
      "\n",
      "===== Epoch 102/150 =====\n"
     ]
    },
    {
     "name": "stderr",
     "output_type": "stream",
     "text": [
      "                                                      \r"
     ]
    },
    {
     "name": "stdout",
     "output_type": "stream",
     "text": [
      "📉 Train=0.0094 | Val=0.0069 | Val sMAPE=38.24%\n",
      "\n",
      "===== Epoch 103/150 =====\n"
     ]
    },
    {
     "name": "stderr",
     "output_type": "stream",
     "text": [
      "                                                      \r"
     ]
    },
    {
     "name": "stdout",
     "output_type": "stream",
     "text": [
      "📉 Train=0.0089 | Val=0.0055 | Val sMAPE=36.05%\n",
      "\n",
      "===== Epoch 104/150 =====\n"
     ]
    },
    {
     "name": "stderr",
     "output_type": "stream",
     "text": [
      "                                                      \r"
     ]
    },
    {
     "name": "stdout",
     "output_type": "stream",
     "text": [
      "📉 Train=0.0098 | Val=0.0052 | Val sMAPE=35.90%\n",
      "\n",
      "===== Epoch 105/150 =====\n"
     ]
    },
    {
     "name": "stderr",
     "output_type": "stream",
     "text": [
      "                                                      \r"
     ]
    },
    {
     "name": "stdout",
     "output_type": "stream",
     "text": [
      "📉 Train=0.0091 | Val=0.0069 | Val sMAPE=38.30%\n",
      "\n",
      "===== Epoch 106/150 =====\n"
     ]
    },
    {
     "name": "stderr",
     "output_type": "stream",
     "text": [
      "                                                      \r"
     ]
    },
    {
     "name": "stdout",
     "output_type": "stream",
     "text": [
      "📉 Train=0.0099 | Val=0.0058 | Val sMAPE=37.27%\n",
      "\n",
      "===== Epoch 107/150 =====\n"
     ]
    },
    {
     "name": "stderr",
     "output_type": "stream",
     "text": [
      "                                                      \r"
     ]
    },
    {
     "name": "stdout",
     "output_type": "stream",
     "text": [
      "📉 Train=0.0098 | Val=0.0050 | Val sMAPE=36.37%\n",
      "✅ (best).\n",
      "\n",
      "===== Epoch 108/150 =====\n"
     ]
    },
    {
     "name": "stderr",
     "output_type": "stream",
     "text": [
      "                                                      \r"
     ]
    },
    {
     "name": "stdout",
     "output_type": "stream",
     "text": [
      "📉 Train=0.0086 | Val=0.0054 | Val sMAPE=36.45%\n",
      "\n",
      "===== Epoch 109/150 =====\n"
     ]
    },
    {
     "name": "stderr",
     "output_type": "stream",
     "text": [
      "                                                      \r"
     ]
    },
    {
     "name": "stdout",
     "output_type": "stream",
     "text": [
      "📉 Train=0.0084 | Val=0.0056 | Val sMAPE=36.16%\n",
      "\n",
      "===== Epoch 110/150 =====\n"
     ]
    },
    {
     "name": "stderr",
     "output_type": "stream",
     "text": [
      "                                                      \r"
     ]
    },
    {
     "name": "stdout",
     "output_type": "stream",
     "text": [
      "📉 Train=0.0087 | Val=0.0069 | Val sMAPE=39.32%\n",
      "\n",
      "===== Epoch 111/150 =====\n"
     ]
    },
    {
     "name": "stderr",
     "output_type": "stream",
     "text": [
      "                                                      \r"
     ]
    },
    {
     "name": "stdout",
     "output_type": "stream",
     "text": [
      "📉 Train=0.0099 | Val=0.0065 | Val sMAPE=37.42%\n",
      "\n",
      "===== Epoch 112/150 =====\n"
     ]
    },
    {
     "name": "stderr",
     "output_type": "stream",
     "text": [
      "                                                      \r"
     ]
    },
    {
     "name": "stdout",
     "output_type": "stream",
     "text": [
      "📉 Train=0.0093 | Val=0.0052 | Val sMAPE=36.35%\n",
      "\n",
      "===== Epoch 113/150 =====\n"
     ]
    },
    {
     "name": "stderr",
     "output_type": "stream",
     "text": [
      "                                                      \r"
     ]
    },
    {
     "name": "stdout",
     "output_type": "stream",
     "text": [
      "📉 Train=0.0086 | Val=0.0058 | Val sMAPE=36.98%\n",
      "\n",
      "===== Epoch 114/150 =====\n"
     ]
    },
    {
     "name": "stderr",
     "output_type": "stream",
     "text": [
      "                                                      \r"
     ]
    },
    {
     "name": "stdout",
     "output_type": "stream",
     "text": [
      "📉 Train=0.0093 | Val=0.0099 | Val sMAPE=41.54%\n",
      "\n",
      "===== Epoch 115/150 =====\n"
     ]
    },
    {
     "name": "stderr",
     "output_type": "stream",
     "text": [
      "                                                      \r"
     ]
    },
    {
     "name": "stdout",
     "output_type": "stream",
     "text": [
      "📉 Train=0.0095 | Val=0.0051 | Val sMAPE=36.00%\n",
      "\n",
      "===== Epoch 116/150 =====\n"
     ]
    },
    {
     "name": "stderr",
     "output_type": "stream",
     "text": [
      "                                                      \r"
     ]
    },
    {
     "name": "stdout",
     "output_type": "stream",
     "text": [
      "📉 Train=0.0097 | Val=0.0076 | Val sMAPE=39.26%\n",
      "\n",
      "===== Epoch 117/150 =====\n"
     ]
    },
    {
     "name": "stderr",
     "output_type": "stream",
     "text": [
      "                                                      \r"
     ]
    },
    {
     "name": "stdout",
     "output_type": "stream",
     "text": [
      "📉 Train=0.0091 | Val=0.0060 | Val sMAPE=36.81%\n",
      "\n",
      "===== Epoch 118/150 =====\n"
     ]
    },
    {
     "name": "stderr",
     "output_type": "stream",
     "text": [
      "                                                      \r"
     ]
    },
    {
     "name": "stdout",
     "output_type": "stream",
     "text": [
      "📉 Train=0.0097 | Val=0.0052 | Val sMAPE=36.41%\n",
      "\n",
      "===== Epoch 119/150 =====\n"
     ]
    },
    {
     "name": "stderr",
     "output_type": "stream",
     "text": [
      "                                                      \r"
     ]
    },
    {
     "name": "stdout",
     "output_type": "stream",
     "text": [
      "📉 Train=0.0102 | Val=0.0055 | Val sMAPE=36.75%\n",
      "\n",
      "===== Epoch 120/150 =====\n"
     ]
    },
    {
     "name": "stderr",
     "output_type": "stream",
     "text": [
      "                                                      \r"
     ]
    },
    {
     "name": "stdout",
     "output_type": "stream",
     "text": [
      "📉 Train=0.0094 | Val=0.0068 | Val sMAPE=38.91%\n",
      "\n",
      "===== Epoch 121/150 =====\n"
     ]
    },
    {
     "name": "stderr",
     "output_type": "stream",
     "text": [
      "                                                      \r"
     ]
    },
    {
     "name": "stdout",
     "output_type": "stream",
     "text": [
      "📉 Train=0.0097 | Val=0.0053 | Val sMAPE=36.39%\n",
      "\n",
      "===== Epoch 122/150 =====\n"
     ]
    },
    {
     "name": "stderr",
     "output_type": "stream",
     "text": [
      "                                                      \r"
     ]
    },
    {
     "name": "stdout",
     "output_type": "stream",
     "text": [
      "📉 Train=0.0082 | Val=0.0077 | Val sMAPE=40.45%\n",
      "\n",
      "===== Epoch 123/150 =====\n"
     ]
    },
    {
     "name": "stderr",
     "output_type": "stream",
     "text": [
      "                                                      \r"
     ]
    },
    {
     "name": "stdout",
     "output_type": "stream",
     "text": [
      "📉 Train=0.0085 | Val=0.0064 | Val sMAPE=37.96%\n",
      "\n",
      "===== Epoch 124/150 =====\n"
     ]
    },
    {
     "name": "stderr",
     "output_type": "stream",
     "text": [
      "                                                      \r"
     ]
    },
    {
     "name": "stdout",
     "output_type": "stream",
     "text": [
      "📉 Train=0.0091 | Val=0.0057 | Val sMAPE=36.63%\n",
      "\n",
      "===== Epoch 125/150 =====\n"
     ]
    },
    {
     "name": "stderr",
     "output_type": "stream",
     "text": [
      "                                                      \r"
     ]
    },
    {
     "name": "stdout",
     "output_type": "stream",
     "text": [
      "📉 Train=0.0095 | Val=0.0055 | Val sMAPE=37.54%\n",
      "\n",
      "===== Epoch 126/150 =====\n"
     ]
    },
    {
     "name": "stderr",
     "output_type": "stream",
     "text": [
      "                                                      \r"
     ]
    },
    {
     "name": "stdout",
     "output_type": "stream",
     "text": [
      "📉 Train=0.0085 | Val=0.0061 | Val sMAPE=37.35%\n",
      "\n",
      "===== Epoch 127/150 =====\n"
     ]
    },
    {
     "name": "stderr",
     "output_type": "stream",
     "text": [
      "                                                      \r"
     ]
    },
    {
     "name": "stdout",
     "output_type": "stream",
     "text": [
      "📉 Train=0.0088 | Val=0.0081 | Val sMAPE=40.05%\n",
      "\n",
      "===== Epoch 128/150 =====\n"
     ]
    },
    {
     "name": "stderr",
     "output_type": "stream",
     "text": [
      "                                                      \r"
     ]
    },
    {
     "name": "stdout",
     "output_type": "stream",
     "text": [
      "📉 Train=0.0090 | Val=0.0061 | Val sMAPE=36.53%\n",
      "\n",
      "===== Epoch 129/150 =====\n"
     ]
    },
    {
     "name": "stderr",
     "output_type": "stream",
     "text": [
      "                                                      \r"
     ]
    },
    {
     "name": "stdout",
     "output_type": "stream",
     "text": [
      "📉 Train=0.0082 | Val=0.0049 | Val sMAPE=37.00%\n",
      "\n",
      "===== Epoch 130/150 =====\n"
     ]
    },
    {
     "name": "stderr",
     "output_type": "stream",
     "text": [
      "                                                      \r"
     ]
    },
    {
     "name": "stdout",
     "output_type": "stream",
     "text": [
      "📉 Train=0.0083 | Val=0.0078 | Val sMAPE=39.59%\n",
      "\n",
      "===== Epoch 131/150 =====\n"
     ]
    },
    {
     "name": "stderr",
     "output_type": "stream",
     "text": [
      "                                                      \r"
     ]
    },
    {
     "name": "stdout",
     "output_type": "stream",
     "text": [
      "📉 Train=0.0089 | Val=0.0065 | Val sMAPE=37.50%\n",
      "\n",
      "===== Epoch 132/150 =====\n"
     ]
    },
    {
     "name": "stderr",
     "output_type": "stream",
     "text": [
      "                                                      \r"
     ]
    },
    {
     "name": "stdout",
     "output_type": "stream",
     "text": [
      "📉 Train=0.0098 | Val=0.0053 | Val sMAPE=35.74%\n",
      "\n",
      "===== Epoch 133/150 =====\n"
     ]
    },
    {
     "name": "stderr",
     "output_type": "stream",
     "text": [
      "                                                      \r"
     ]
    },
    {
     "name": "stdout",
     "output_type": "stream",
     "text": [
      "📉 Train=0.0088 | Val=0.0051 | Val sMAPE=36.28%\n",
      "\n",
      "===== Epoch 134/150 =====\n"
     ]
    },
    {
     "name": "stderr",
     "output_type": "stream",
     "text": [
      "                                                      \r"
     ]
    },
    {
     "name": "stdout",
     "output_type": "stream",
     "text": [
      "📉 Train=0.0091 | Val=0.0065 | Val sMAPE=36.82%\n",
      "\n",
      "===== Epoch 135/150 =====\n"
     ]
    },
    {
     "name": "stderr",
     "output_type": "stream",
     "text": [
      "                                                      \r"
     ]
    },
    {
     "name": "stdout",
     "output_type": "stream",
     "text": [
      "📉 Train=0.0091 | Val=0.0060 | Val sMAPE=36.30%\n",
      "\n",
      "===== Epoch 136/150 =====\n"
     ]
    },
    {
     "name": "stderr",
     "output_type": "stream",
     "text": [
      "                                                      \r"
     ]
    },
    {
     "name": "stdout",
     "output_type": "stream",
     "text": [
      "📉 Train=0.0085 | Val=0.0054 | Val sMAPE=36.74%\n",
      "\n",
      "===== Epoch 137/150 =====\n"
     ]
    },
    {
     "name": "stderr",
     "output_type": "stream",
     "text": [
      "                                                      \r"
     ]
    },
    {
     "name": "stdout",
     "output_type": "stream",
     "text": [
      "📉 Train=0.0075 | Val=0.0114 | Val sMAPE=43.41%\n",
      "⏹️ Early stopping.\n"
     ]
    },
    {
     "data": {
      "image/png": "[encoded data removed]",
      "text/plain": [
       "<Figure size 1000x500 with 1 Axes>"
      ]
     },
     "metadata": {},
     "output_type": "display_data"
    },
    {
     "name": "stderr",
     "output_type": "stream",
     "text": [
      "C:\\Users\\x515a\\AppData\\Local\\Temp\\ipykernel_15280\\2120010099.py:409: FutureWarning: You are using `torch.load` with `weights_only=False` (the current default value), which uses the default pickle module implicitly. It is possible to construct malicious pickle data which will execute arbitrary code during unpickling (See https://github.com/pytorch/pytorch/blob/main/SECURITY.md#untrusted-models for more details). In a future release, the default value for `weights_only` will be flipped to `True`. This limits the functions that could be executed during unpickling. Arbitrary objects will no longer be allowed to be loaded via this mode unless they are explicitly allowlisted by the user via `torch.serialization.add_safe_globals`. We recommend you start setting `weights_only=True` for any use case where you don't have full control of the loaded file. Please open an issue on GitHub for any issues related to this experimental feature.\n",
      "  model.load_state_dict(torch.load(CACHE_DIR / \"best_model_cnn_improved.pth\"))\n",
      "                                                     \r"
     ]
    },
    {
     "name": "stdout",
     "output_type": "stream",
     "text": [
      "✅ Test: MSE=63453.60, MAE=176.13, RMSE=251.90, R2=0.8860, sMAPE=35.42%, MAE%Max=6.96%\n"
     ]
    },
    {
     "data": {
      "image/png": "[encoded data removed]",
      "text/plain": [
       "<Figure size 1000x500 with 1 Axes>"
      ]
     },
     "metadata": {},
     "output_type": "display_data"
    },
    {
     "data": {
      "image/png": "[encoded data removed]",
      "text/plain": [
       "<Figure size 800x600 with 2 Axes>"
      ]
     },
     "metadata": {},
     "output_type": "display_data"
    }
   ],
   "source": [
    "import os\n",
    "import math\n",
    "import random\n",
    "from pathlib import Path\n",
    "\n",
    "import numpy as np\n",
    "import pandas as pd\n",
    "from tqdm import tqdm\n",
    "\n",
    "import torch\n",
    "import torch.nn as nn\n",
    "from torch.utils.data import Dataset, DataLoader\n",
    "from torch.optim.lr_scheduler import ReduceLROnPlateau\n",
    "from sklearn.metrics import mean_squared_error, mean_absolute_error, r2_score, confusion_matrix\n",
    "import matplotlib.pyplot as plt\n",
    "import seaborn as sns\n",
    "\n",
    "BASE_DIR = Path(r\"D:\\DRIVE\\UNI\\moviZ\\TERM8\\ANN-article--AzRiz\\OurWorks\\Data-description\\phase1\")\n",
    "REVERSED_FOLDER = \"reversed\"\n",
    "CACHE_DIR = Path(\"cache_fast_norm\")\n",
    "CACHE_DIR.mkdir(exist_ok=True, parents=True)\n",
    "\n",
    "TARGET_LEN = 2048\n",
    "SMOOTH_KERNEL = 5\n",
    "BATCH_SIZE = 128\n",
    "EPOCHS = 150\n",
    "LR = 7e-5\n",
    "WARMUP_LR = 1e-5\n",
    "WARMUP_EPOCHS = 15\n",
    "WEIGHT_DECAY = 4e-4\n",
    "PATIENCE = 30\n",
    "VAL_RATIO = 0.2\n",
    "TEST_RATIO = 0.2\n",
    "SEED = 42\n",
    "AUGMENT = True\n",
    "DEBUG = False\n",
    "\n",
    "random.seed(SEED)\n",
    "np.random.seed(SEED)\n",
    "torch.manual_seed(SEED)\n",
    "torch.set_num_threads(max(1, os.cpu_count() // 2))\n",
    "\n",
    "def smooth_signal(x, kernel=SMOOTH_KERNEL):\n",
    "    if kernel is None or kernel <= 1:\n",
    "        return x.astype(np.float32, copy=False)\n",
    "    k = np.ones(kernel, dtype=np.float32) / kernel\n",
    "    return np.convolve(x.astype(np.float32, copy=False), k, mode='same')\n",
    "\n",
    "def downsample_avg(signal, target_len):\n",
    "    if len(signal) == target_len:\n",
    "        return signal.astype(np.float32, copy=False)\n",
    "    parts = np.array_split(signal, target_len)\n",
    "    return np.array([p.mean(dtype=np.float32) for p in parts], dtype=np.float32)\n",
    "\n",
    "def clip_signal(signal, clip_percentile=99.5):\n",
    "    clip_value = np.percentile(np.abs(signal), clip_percentile)\n",
    "    return np.clip(signal, -clip_value, clip_value)\n",
    "\n",
    "def frequency_augmentation(signal, scale_range=(0.9, 1.1)):\n",
    "    freq = np.fft.fft(signal)\n",
    "    scale = np.random.uniform(*scale_range)\n",
    "    freq = freq * scale\n",
    "    return np.fft.ifft(freq).real.astype(np.float32)\n",
    "\n",
    "def mixup_data(x, y, alpha=0.25):\n",
    "    if alpha > 0:\n",
    "        lam = np.random.beta(alpha, alpha)\n",
    "    else:\n",
    "        lam = 1\n",
    "    batch_size = x.size(0)\n",
    "    index = torch.randperm(batch_size)\n",
    "    mixed_x = lam * x + (1 - lam) * x[index, :]\n",
    "    y_a, y_b = y, y[index]\n",
    "    return mixed_x, y_a, y_b, lam\n",
    "\n",
    "def get_all_files(base_dir):\n",
    "    files = list(base_dir.rglob(f\"*/{REVERSED_FOLDER}/*.csv\"))\n",
    "    return sorted([f for f in files if f.is_file()])\n",
    "\n",
    "def preprocess_and_cache(files):\n",
    "    print(\"📦 Preprocessing & Caching (once)...\")\n",
    "    X_list, y_list = [], []\n",
    "    max_rul = 0.0\n",
    "    for f in tqdm(files):\n",
    "        df = pd.read_csv(f, header=None, dtype=np.float32)\n",
    "        sigs = df.iloc[:, :-1].values\n",
    "        labels = df.iloc[:, -1].values.astype(np.float32)\n",
    "        if labels.size == 0:\n",
    "            continue\n",
    "        max_rul = max(max_rul, float(labels.max()))\n",
    "        for sig, lab in zip(sigs, labels):\n",
    "            sig = clip_signal(sig)\n",
    "            if SMOOTH_KERNEL > 1:\n",
    "                sig = smooth_signal(sig, SMOOTH_KERNEL)\n",
    "            sig_ds = downsample_avg(sig, TARGET_LEN)\n",
    "            X_list.append(sig_ds)\n",
    "            y_list.append(lab)\n",
    "    X = np.asarray(X_list, dtype=np.float32)\n",
    "    y = np.asarray(y_list, dtype=np.float32)\n",
    "    np.save(CACHE_DIR / \"X_raw.npy\", X)\n",
    "    np.save(CACHE_DIR / \"y.npy\", y)\n",
    "    np.save(CACHE_DIR / \"max_rul.npy\", np.array([max_rul], dtype=np.float32))\n",
    "    print(f\"✅ Cached raw: X={X.shape}, y={y.shape}, max_rul={max_rul:.2f}\")\n",
    "\n",
    "def load_cached_raw():\n",
    "    X = np.load(CACHE_DIR / \"X_raw.npy\")\n",
    "    y = np.load(CACHE_DIR / \"y.npy\")\n",
    "    max_rul = float(np.load(CACHE_DIR / \"max_rul.npy\")[0])\n",
    "    return X, y, max_rul\n",
    "\n",
    "def split_indices(n_samples, test_ratio=TEST_RATIO, val_ratio=VAL_RATIO, seed=SEED):\n",
    "    idx = np.arange(n_samples)\n",
    "    rng = np.random.RandomState(seed)\n",
    "    rng.shuffle(idx)\n",
    "    n_test = int(test_ratio * n_samples)\n",
    "    n_val = int(val_ratio * (n_samples - n_test))\n",
    "    return idx[n_test + n_val:], idx[n_test:n_test + n_val], idx[:n_test]\n",
    "\n",
    "def compute_train_norm_stats(X_train):\n",
    "    mean = X_train.mean(axis=0, dtype=np.float64).astype(np.float32)\n",
    "    std = X_train.std(axis=0, dtype=np.float64).astype(np.float32)\n",
    "    std[std < 1e-6] = 1.0\n",
    "    return mean, std\n",
    "\n",
    "class BearingDataset(Dataset):\n",
    "    def __init__(self, X, y, max_rul, mean, std, train=False, augment=AUGMENT):\n",
    "        self.X_raw = X\n",
    "        self.y = (y / max_rul).astype(np.float32)\n",
    "        self.mean, self.std = mean, std\n",
    "        self.augment = augment and train\n",
    "        self.noise_scale = 0.016\n",
    "        self.shift_max = 5\n",
    "        self.scale_range = (0.925, 1.075)\n",
    "        self.freq_scale_range = (0.9, 1.1)\n",
    "\n",
    "    def __len__(self):\n",
    "        return len(self.X_raw)\n",
    "\n",
    "    def __getitem__(self, idx):\n",
    "        x = self.X_raw[idx].copy()\n",
    "        if self.augment:\n",
    "            noise = np.random.normal(0, self.noise_scale * self.std, size=x.shape).astype(np.float32)\n",
    "            x = x + noise\n",
    "            shift = np.random.randint(-self.shift_max, self.shift_max)\n",
    "            x = np.roll(x, shift)\n",
    "            scale = np.random.uniform(*self.scale_range)\n",
    "            x = x * scale\n",
    "            if np.random.random() < 0.3:\n",
    "                x = frequency_augmentation(x, self.freq_scale_range)\n",
    "        x = ((x - self.mean) / self.std).astype(np.float32)\n",
    "        return torch.from_numpy(x).unsqueeze(0), torch.tensor(self.y[idx], dtype=torch.float32)\n",
    "\n",
    "class SEBlock(nn.Module):\n",
    "    def __init__(self, channel, reduction=16):\n",
    "        super(SEBlock, self).__init__()\n",
    "        self.avg_pool = nn.AdaptiveAvgPool1d(1)\n",
    "        self.fc = nn.Sequential(\n",
    "            nn.Linear(channel, channel // reduction, bias=False),\n",
    "            nn.ReLU(inplace=True),\n",
    "            nn.Linear(channel // reduction, channel, bias=False),\n",
    "            nn.Sigmoid()\n",
    "        )\n",
    "\n",
    "    def forward(self, x):\n",
    "        b, c, _ = x.size()\n",
    "        y = self.avg_pool(x).view(b, c)\n",
    "        y = self.fc(y).view(b, c, 1)\n",
    "        return x * y.expand_as(x)\n",
    "\n",
    "class ImprovedBestModel(nn.Module):\n",
    "    def __init__(self, input_len=TARGET_LEN):\n",
    "        super().__init__()\n",
    "        self.conv1_large = nn.Sequential(\n",
    "            nn.Conv1d(1, 24, kernel_size=15, padding=7),\n",
    "            nn.ReLU(inplace=True),\n",
    "            nn.BatchNorm1d(24, momentum=0.2),\n",
    "            nn.MaxPool1d(3)\n",
    "        )\n",
    "        self.conv1_small = nn.Sequential(\n",
    "            nn.Conv1d(1, 24, kernel_size=5, padding=2),\n",
    "            nn.ReLU(inplace=True),\n",
    "            nn.BatchNorm1d(24, momentum=0.2),\n",
    "            nn.MaxPool1d(3)\n",
    "        )\n",
    "        self.conv2 = nn.Sequential(\n",
    "            nn.Conv1d(48, 96, kernel_size=7, padding=3),\n",
    "            nn.ReLU(inplace=True),\n",
    "            nn.BatchNorm1d(96, momentum=0.2),\n",
    "            nn.MaxPool1d(3)\n",
    "        )\n",
    "        self.se_block = SEBlock(96)\n",
    "        self.conv3 = nn.Sequential(\n",
    "            nn.Conv1d(96, 128, kernel_size=5, padding=2),\n",
    "            nn.ReLU(inplace=True),\n",
    "            nn.BatchNorm1d(128, momentum=0.2),\n",
    "            nn.MaxPool1d(3)\n",
    "        )\n",
    "        self.conv3_extra = nn.Sequential(\n",
    "            nn.Conv1d(128, 192, kernel_size=5, padding=2),\n",
    "            nn.ReLU(inplace=True),\n",
    "            nn.BatchNorm1d(192, momentum=0.2),\n",
    "            nn.MaxPool1d(3)\n",
    "        )\n",
    "        self.conv4 = nn.Sequential(\n",
    "            nn.Conv1d(192, 256, kernel_size=3, padding=1),\n",
    "            nn.ReLU(inplace=True),\n",
    "            nn.BatchNorm1d(256, momentum=0.2),\n",
    "            nn.AdaptiveAvgPool1d(16)\n",
    "        )\n",
    "\n",
    "        with torch.no_grad():\n",
    "            dummy = torch.zeros(1, 1, input_len)\n",
    "            out1 = self.conv1_large(dummy)\n",
    "            out2 = self.conv1_small(dummy)\n",
    "            out = torch.cat([out1, out2], dim=1)\n",
    "            out = self.conv2(out)\n",
    "            out = self.se_block(out)\n",
    "            out = self.conv3(out)\n",
    "            out = self.conv3_extra(out)\n",
    "            out = self.conv4(out)\n",
    "            output_length = out.size(2)\n",
    "            output_channels = out.size(1)\n",
    "\n",
    "        total_downsample = input_len // output_length\n",
    "        self.shortcut = nn.Sequential(\n",
    "            nn.Conv1d(1, output_channels, kernel_size=1, stride=total_downsample),\n",
    "            nn.BatchNorm1d(output_channels, momentum=0.2)\n",
    "        )\n",
    "\n",
    "        out_features = output_channels * output_length\n",
    "        self.lstm = nn.LSTM(input_size=256, hidden_size=128, num_layers=2, batch_first=True, bidirectional=True, dropout=0.2)\n",
    "        self.classifier = nn.Sequential(\n",
    "            nn.Dropout(0.45),\n",
    "            nn.Linear(256, 256),\n",
    "            nn.ReLU(inplace=True),\n",
    "            nn.Dropout(0.35),\n",
    "            nn.Linear(256, 128),\n",
    "            nn.ReLU(inplace=True),\n",
    "            nn.Dropout(0.25),\n",
    "            nn.Linear(128, 64),\n",
    "            nn.ReLU(inplace=True),\n",
    "            nn.Dropout(0.2),\n",
    "            nn.Linear(64, 1)\n",
    "        )\n",
    "\n",
    "    def forward(self, x):\n",
    "        residual = self.shortcut(x)\n",
    "        x1 = self.conv1_large(x)\n",
    "        x2 = self.conv1_small(x)\n",
    "        x = torch.cat([x1, x2], dim=1)\n",
    "        x = self.conv2(x)\n",
    "        x = self.se_block(x)\n",
    "        x = self.conv3(x)\n",
    "        x = self.conv3_extra(x)\n",
    "        x = self.conv4(x)\n",
    "        if DEBUG:\n",
    "            print(f\"x shape: {x.shape}, residual shape: {residual.shape}\")\n",
    "        x = x + residual\n",
    "        x = x.permute(0, 2, 1)  \n",
    "        x, (hn, _) = self.lstm(x)\n",
    "        \n",
    "        num_directions = 2\n",
    "        num_layers = 2\n",
    "        hn = hn.view(num_layers, num_directions, x.size(0), 128) \n",
    "        x = torch.cat((hn[-1, 0], hn[-1, 1]), dim=1)  \n",
    "        x = self.classifier(x)\n",
    "        return x.squeeze(1)\n",
    "\n",
    "def fit(model, train_loader, val_loader, max_epochs, base_lr, warmup_lr, warmup_epochs, weight_decay, patience):\n",
    "    criterion = nn.HuberLoss(delta=0.3)\n",
    "    optimizer = torch.optim.AdamW(model.parameters(), lr=warmup_lr, weight_decay=weight_decay)\n",
    "    scheduler = ReduceLROnPlateau(optimizer, mode='min', factor=0.3, patience=10, min_lr=1e-7)\n",
    "    best_val = float('inf')\n",
    "    best_ep = -1\n",
    "    history = {\"train\": [], \"val\": [], \"val_smape\": []}\n",
    "\n",
    "    for epoch in range(1, max_epochs + 1):\n",
    "        print(f\"\\n===== Epoch {epoch}/{max_epochs} =====\")\n",
    "        if epoch == warmup_epochs + 1:\n",
    "            for param_group in optimizer.param_groups:\n",
    "                param_group['lr'] = base_lr\n",
    "        model.train()\n",
    "        train_loss, n = 0, 0\n",
    "        for X, y in tqdm(train_loader, desc=\"Train\", leave=False):\n",
    "            optimizer.zero_grad()\n",
    "            if np.random.random() < 0.35:\n",
    "                X, y_a, y_b, lam = mixup_data(X, y)\n",
    "                pred = model(X)\n",
    "                huber_loss = lam * criterion(pred, y_a) + (1 - lam) * criterion(pred, y_b)\n",
    "            else:\n",
    "                pred = model(X)\n",
    "                huber_loss = criterion(pred, y)\n",
    "            l1_loss = torch.mean(torch.abs(pred - y)) * 0.05\n",
    "            l2_loss = sum(torch.norm(param, p=2) for param in model.parameters()) * 2e-4\n",
    "            loss = huber_loss + l1_loss + l2_loss\n",
    "            loss.backward()\n",
    "            torch.nn.utils.clip_grad_norm_(model.parameters(), max_norm=0.5)\n",
    "            optimizer.step()\n",
    "            train_loss += huber_loss.item() * X.size(0)\n",
    "            n += X.size(0)\n",
    "        train_loss /= n\n",
    "\n",
    "        model.eval()\n",
    "        val_loss, val_smape, n = 0, 0, 0\n",
    "        with torch.no_grad():\n",
    "            for X, y in tqdm(val_loader, desc=\"Val\", leave=False):\n",
    "                pred = model(X)\n",
    "                huber_loss = criterion(pred, y)\n",
    "                l1_loss = torch.mean(torch.abs(pred - y)) * 0.05\n",
    "                l2_loss = sum(torch.norm(param, p=2) for param in model.parameters()) * 2e-4\n",
    "                loss = huber_loss + l1_loss + l2_loss\n",
    "                val_loss += huber_loss.item() * X.size(0)\n",
    "                val_smape += (2 * torch.abs(pred - y) / (torch.abs(pred) + torch.abs(y) + 1e-6)).mean().item() * X.size(0)\n",
    "                n += X.size(0)\n",
    "        val_loss /= n\n",
    "        val_smape = 100 * val_smape / n\n",
    "\n",
    "        history[\"train\"].append(train_loss)\n",
    "        history[\"val\"].append(val_loss)\n",
    "        history[\"val_smape\"].append(val_smape)\n",
    "        print(f\"📉 Train={train_loss:.4f} | Val={val_loss:.4f} | Val sMAPE={val_smape:.2f}%\")\n",
    "        scheduler.step(val_loss)\n",
    "\n",
    "        if val_loss < best_val - 1e-4:\n",
    "            best_val = val_loss\n",
    "            best_ep = epoch\n",
    "            torch.save(model.state_dict(), CACHE_DIR / \"best_model_cnn_improved.pth\")\n",
    "            print(\"✅ (best).\")\n",
    "        elif epoch - best_ep >= patience:\n",
    "            print(\"⏹️ Early stopping.\")\n",
    "            break\n",
    "    return history\n",
    "\n",
    "def evaluate_test(model, test_loader, max_rul):\n",
    "    model.eval()\n",
    "    preds, trues = [], []\n",
    "    with torch.no_grad():\n",
    "        for X, y in tqdm(test_loader, desc=\"Test\", leave=False):\n",
    "            pred = model(X).numpy() * max_rul\n",
    "            true = y.numpy() * max_rul\n",
    "            preds.extend(pred.tolist())\n",
    "            trues.extend(true.tolist())\n",
    "    preds, trues = np.array(preds), np.array(trues)\n",
    "    mse = mean_squared_error(trues, preds)\n",
    "    mae = mean_absolute_error(trues, preds)\n",
    "    rmse = math.sqrt(mse)\n",
    "    r2 = r2_score(trues, preds)\n",
    "    smape = 100 * np.mean(2 * np.abs(preds - trues) / (np.abs(preds) + np.abs(trues) + 1e-6))\n",
    "    mae_pct = 100 * mae / (trues.max() if trues.max() > 0 else 1.0)\n",
    "    print(f\"✅ Test: MSE={mse:.2f}, MAE={mae:.2f}, RMSE={rmse:.2f}, R2={r2:.4f}, sMAPE={smape:.2f}%, MAE%Max={mae_pct:.2f}%\")\n",
    "    \n",
    "    plt.figure(figsize=(10, 5))\n",
    "    plt.scatter(trues, preds, alpha=0.5, label=\"Predictions\")\n",
    "    plt.plot([trues.min(), trues.max()], [trues.min(), trues.max()], 'r--', label=\"Ideal\")\n",
    "    plt.xlabel(\"True RUL\")\n",
    "    plt.ylabel(\"Predicted RUL\")\n",
    "    plt.title(\"Predictions vs True RUL\")\n",
    "    plt.legend()\n",
    "    plt.grid(True)\n",
    "    plt.show()\n",
    "    \n",
    "    bins = [0, 500, 1000, 1500, 2000, max_rul]  \n",
    "    bin_labels = ['0-500', '500-1000', '1000-1500', '1500-2000', '2000+']\n",
    "    true_bins = np.digitize(trues, bins, right=True)\n",
    "    pred_bins = np.digitize(preds, bins, right=True)\n",
    "    cm = confusion_matrix(true_bins, pred_bins, labels=range(len(bin_labels)))\n",
    "    \n",
    "    plt.figure(figsize=(8, 6))\n",
    "    sns.heatmap(cm, annot=True, fmt='d', cmap='Blues', xticklabels=bin_labels, yticklabels=bin_labels)\n",
    "    plt.xlabel('Predicted RUL Category')\n",
    "    plt.ylabel('True RUL Category')\n",
    "    plt.title('Confusion Matrix for RUL Prediction')\n",
    "    plt.show()\n",
    "    \n",
    "    return preds, trues\n",
    "\n",
    "def plot_history(history):\n",
    "    plt.figure(figsize=(10, 5))\n",
    "    plt.plot(history[\"train\"], label=\"Train Loss\")\n",
    "    plt.plot(history[\"val\"], label=\"Validation Loss\")\n",
    "    plt.xlabel(\"Epoch\")\n",
    "    plt.ylabel(\"Huber Loss\")\n",
    "    plt.title(\"Training and Validation Loss\")\n",
    "    plt.legend()\n",
    "    plt.grid(True)\n",
    "    plt.show()\n",
    "\n",
    "def run():\n",
    "    if not (CACHE_DIR / \"X_raw.npy\").exists():\n",
    "        files = get_all_files(BASE_DIR)\n",
    "        if not files:\n",
    "            raise RuntimeError(\"reversed not found\")\n",
    "        preprocess_and_cache(files)\n",
    "    X_raw, y, max_rul = load_cached_raw()\n",
    "    train_idx, val_idx, test_idx = split_indices(len(X_raw))\n",
    "    mean, std = compute_train_norm_stats(X_raw[train_idx])\n",
    "\n",
    "    train_ds = BearingDataset(X_raw[train_idx], y[train_idx], max_rul, mean, std, train=True)\n",
    "    val_ds = BearingDataset(X_raw[val_idx], y[val_idx], max_rul, mean, std)\n",
    "    test_ds = BearingDataset(X_raw[test_idx], y[test_idx], max_rul, mean, std)\n",
    "\n",
    "    train_loader = DataLoader(train_ds, batch_size=BATCH_SIZE, shuffle=True)\n",
    "    val_loader = DataLoader(val_ds, batch_size=BATCH_SIZE)\n",
    "    test_loader = DataLoader(test_ds, batch_size=BATCH_SIZE)\n",
    "\n",
    "    model = ImprovedBestModel(TARGET_LEN)\n",
    "    history = fit(model, train_loader, val_loader, EPOCHS, LR, WARMUP_LR, WARMUP_EPOCHS, WEIGHT_DECAY, PATIENCE)\n",
    "    plot_history(history)\n",
    "    model.load_state_dict(torch.load(CACHE_DIR / \"best_model_cnn_improved.pth\"))\n",
    "    evaluate_test(model, test_loader, max_rul)\n",
    "\n",
    "if __name__ == \"__main__\":\n",
    "    run()"
   ]
  }
 ],
 "metadata": {
  "kernelspec": {
   "display_name": "Python 3",
   "language": "python",
   "name": "python3"
  },
  "language_info": {
   "codemirror_mode": {
    "name": "ipython",
    "version": 3
   },
   "file_extension": ".py",
   "mimetype": "text/x-python",
   "name": "python",
   "nbconvert_exporter": "python",
   "pygments_lexer": "ipython3",
   "version": "3.12.10"
  }
 },
 "nbformat": 4,
 "nbformat_minor": 5
}
