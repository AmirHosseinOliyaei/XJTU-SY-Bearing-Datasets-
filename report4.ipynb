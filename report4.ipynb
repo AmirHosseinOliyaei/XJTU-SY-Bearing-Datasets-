{
 "cells": [
  {
   "cell_type": "markdown",
   "id": "d6def443",
   "metadata": {},
   "source": [
    "<div style=\"direction: rtl; text-align: right;\">\n",
    "\n",
    "# گزارش مدل (1D CNN با GRU و SEBlock + Clipping)\n",
    "\n",
    "## ۱. خواندن و آماده‌سازی داده‌ها\n",
    "\n",
    "### پیش‌پردازش\n",
    "- **خواندن داده‌ها**:\n",
    "  - فایل‌های CSV با استفاده از `pd.read_csv` خوانده می‌شوند.\n",
    "  - سیگنال‌ها (`sigs`) و برچسب‌ها (`labels`) جدا می‌شوند.\n",
    "- **پردازش سیگنال‌ها**:\n",
    "  - محدود کردن مقادیر خارج از ۹۹.۵ درصدile با `clip_signal`.\n",
    "  - صاف‌سازی سیگنال‌ها با `smooth_signal` و هسته ۷.\n",
    "  - کاهش اندازه به طول ثابت ۲۰۴۸ نمونه با `downsample_avg`.\n",
    "- **سقف‌گذاری (Clipping) برچسب‌ها (RUL)**:\n",
    "  - برچسب‌های RUL با استفاده از `np.clip` به بازه [۰, ۱۳۰] محدود می‌شوند (RUL_CLIP=۱۳۰).\n",
    "  - **دلیل استفاده**: سقف‌گذاری RUL برای جلوگیری از تأثیر مقادیر بسیار بزرگ RUL (که ممکن است نویزی یا غیرقابل اعتماد باشند) بر عملکرد مدل است. این تکنیک به مدل کمک می‌کند تا روی مراحل نزدیک به شکست تمرکز کند، بیش‌برازش را کاهش دهد و دقت پیش‌بینی در مراحل بحرانی را افزایش دهد. این روش در پیش‌بینی RUL برای جلوگیری از overestimation و بهبود تعمیم‌پذیری مدل رایج است.\n",
    "  - **نمونه مقالات استفاده‌کننده از سقف‌گذاری در دیتاست XJTU-SY**:\n",
    "    - Ding et al. (۲۰۲۲) در مقاله \"Prediction of remaining useful life of rolling bearing based on fractal dimension and convolutional neural network\" (منتشر در Measurement and Control) از clipping RUL در دیتاست XJTU-SY برای بهبود دقت پیش‌بینی CNN استفاده کرده‌اند.\n",
    "    - Lin (۲۰۲۱) در مقاله \"A Novel Approach of Label Construction for Predicting Remaining Useful Life of Machinery\" (منتشر در Shock and Vibration) از روش‌های clipping و تنظیم piecewise linear در XJTU-SY bearing data برای بهبود label construction و RUL prediction بهره برده‌اند.\n",
    "    - Wang et al. (۲۰۲۲) در مقاله \"RUL prediction of rolling bearings based on improved variational mode decomposition and LSTM\" (منتشر در Advances in Mechanical Engineering) از capping RUL در XJTU-SY برای تمرکز روی مراحل تخریب و کاهش خطا در مدل LSTM استفاده کرده‌اند.\n",
    "- **ذخیره‌سازی**:\n",
    "  - داده‌ها به صورت آرایه‌های NumPy ذخیره شده و در پوشه `cache_article_ready_vfinal` کش می‌شوند تا از بارگذاری مجدد جلوگیری شود.\n",
    "\n",
    "### تقسیم داده‌ها\n",
    "- داده‌ها به سه مجموعه تقسیم می‌شوند:\n",
    "  - **آموزشی**: ۷۰٪ (۱ - ۰.۱۵ - ۰.۱۵)\n",
    "  - **اعتبارسنجی**: ۱۵٪\n",
    "  - **تست**: ۱۵٪\n",
    "- نرمال‌سازی با میانگین و انحراف معیار مجموعه آموزشی انجام می‌شود.\n",
    "\n",
    "### داده‌افزایی (Augmentation)\n",
    "- در مجموعه آموزشی:\n",
    "  - نویز گاوسی با مقیاس ۰.۰۱۵\n",
    "  - جابجایی تا حداکثر ۱۲\n",
    "  - مقیاس‌دهی بین ۰.۸۵ تا ۱.۱۵\n",
    "  - افزونگی فرکانسی بین ۰.۸ تا ۱.۲\n",
    "- احتمال اعمال: ۵۰٪\n",
    "\n",
    "## ۲. تعریف مدل\n",
    "\n",
    "مدل یک شبکه کانولوشنی یک‌بعدی (1D CNN) بهینه‌شده با GRU و مکانیزم توجه شامل موارد زیر است:\n",
    "\n",
    "### لایه‌های کانولوشنی\n",
    "- **conv1_large**:\n",
    "  - ۳۲ فیلتر، اندازه هسته ۱۵، پدینگ ۷\n",
    "  - MaxPooling با اندازه ۳، Dropout ۰.۱\n",
    "- **conv1_small**:\n",
    "  - ۳۲ فیلتر، اندازه هسته ۵، پدینگ ۲\n",
    "  - MaxPooling با اندازه ۳، Dropout ۰.۱\n",
    "- **ترکیب**:\n",
    "  - خروجی `conv1_large` و `conv1_small` با `torch.cat` ترکیب شده و به ۶۴ کانال می‌رسد.\n",
    "- **conv2**:\n",
    "  - ۱۲۸ فیلتر، هسته ۷، پدینگ ۳\n",
    "  - MaxPooling با اندازه ۳، Dropout ۰.۱۵\n",
    "- **conv3**:\n",
    "  - ۱۹۲ فیلتر، هسته ۵، پدینگ ۲\n",
    "  - MaxPooling با اندازه ۳، Dropout ۰.۲\n",
    "- **conv3_extra**:\n",
    "  - ۲۵۶ فیلتر، هسته ۵، پدینگ ۲\n",
    "  - MaxPooling با اندازه ۳، Dropout ۰.۲۵\n",
    "- **conv4**:\n",
    "  - ۳۲۰ فیلتر، هسته ۳، پدینگ ۱\n",
    "  - `AdaptiveAvgPool1d` به طول ۱۶\n",
    "\n",
    "### بلوک Squeeze-and-Excitation (SE)\n",
    "- پس از `conv2`:\n",
    "  - کاهش ۸ کانالی برای تنظیم پویای کانال‌ها\n",
    "\n",
    "### Shortcut\n",
    "- مسیر مستقیم با کانولوشن ۱×۱ و BatchNorm برای ادغام با خروجی اصلی\n",
    "\n",
    "### لایه GRU\n",
    "- اندازه ورودی: ۳۲۰\n",
    "- اندازه پنهان: ۱۶۰\n",
    "- تعداد لایه‌ها: ۲\n",
    "- دوجهته\n",
    "- Dropout: ۰.۳\n",
    "\n",
    "### مکانیزم توجه (Attention)\n",
    "- اندازه ورودی: ۳۲۰\n",
    "- تعداد سرهای توجه: ۸\n",
    "- Dropout: ۰.۱۵\n",
    "\n",
    "### لایه‌های Fully Connected\n",
    "- لایه‌های خطی:\n",
    "  - ۳۲۰ → ۳۲۰ → ۱۹۲ → ۹۶ → ۱\n",
    "  - هر لایه با ReLU، LayerNorm و Dropout (نسبت‌های ۰.۵، ۰.۴، ۰.۳، ۰.۲)\n",
    "\n",
    "### جریان داده\n",
    "- خروجی‌های کانولوشنی با اتصال کوتاه جمع شده، سپس به GRU منتقل شده، با مکانیزم توجه پردازش شده و در نهایت به طبقه‌بندی‌کننده ارسال می‌شوند.\n",
    "\n",
    "## ۳. یادگیری مدل\n",
    "\n",
    "### بهینه‌سازی\n",
    "- بهینه‌ساز: **AdamW**\n",
    "  - نرخ یادگیری اولیه: `3e-4`\n",
    "  - حداقل نرخ یادگیری: `1e-6`\n",
    "  - گرم‌کردن برای ۱۰ Epoch اول\n",
    "  - وزن‌دهی: `1e-4`\n",
    "- تابع هزینه: **Huber Loss** با دلتا ۱.۰ (برای مقاومت در برابر نویز) همراه با:\n",
    "  - sMAPE با وزن ۰.۰۳\n",
    "  - L1 Loss با وزن ۰.۰۲\n",
    "- محدود کردن گرادیان: حداکثر نورم ۰.۵\n",
    "- انباشت گرادیان: با ACCUM_STEPS=۲\n",
    "\n",
    "### داده‌افزایی در آموزش\n",
    "- **Mixup**:\n",
    "  - آلفا: ۰.۲\n",
    "  - احتمال: ۴۰٪\n",
    "\n",
    "### برنامه‌ریزی نرخ یادگیری\n",
    "- **CosineAnnealingLR**:\n",
    "  - T_max: ۲۹۰ (EPOCHS - WARMUP_EPOCHS)\n",
    "  - حداقل نرخ: `1e-6`\n",
    "- **Stochastic Weight Averaging (SWA)**: شروع از Epoch ۱۵۰ با نرخ یادگیری ۰.۱ برابر پایه\n",
    "\n",
    "### (Early Stopping)\n",
    "- توقف آموزش پس از ۱۰۰ Epoch بدون بهبود.\n",
    "\n",
    "### حفظ بهترین مدل\n",
    "- ذخیره در: `best_model.pth` (بر اساس کمترین خطای اعتبارسنجی) و `swa_model.pth` برای مدل SWA\n",
    "\n",
    "## ۴. تست و نمایش نتایج\n",
    "\n",
    "### ارزیابی\n",
    "- معیارها:\n",
    "  - MSE\n",
    "  - MAE\n",
    "  - RMSE\n",
    "  - R²\n",
    "  - sMAPE\n",
    "  - MAE%Max\n",
    "- استفاده از **Test-Time Augmentation (TTA)** با ۷ افزونه برای بهبود دقت پیش‌بینی.\n",
    "\n",
    "### نمایش گرافیکی\n",
    "- **نمودار پراکندگی**: پیش‌بینی‌شده در مقابل واقعی\n",
    "- **تاریخچه Loss**:\n",
    "  - نمایش Loss آموزشی و اعتبارسنجی همراه با sMAPE اعتبارسنجی\n",
    "\n",
    "## ۵. نتایج\n",
    "\n",
    "### نتایج آموزشی و اعتبارسنجی\n",
    "- آموزش تا حداکثر ۳۰۰ Epoch با Early Stopping.\n",
    "- بهترین عملکرد بر اساس کمترین Loss اعتبارسنجی.\n",
    "\n",
    "### نتایج تست\n",
    "- **معیارها** (با مدل SWA و RUL_CLIP=۱۳۰):\n",
    "  - MSE: ۱۱۸.۸۰\n",
    "  - MAE: ۳.۵۳\n",
    "  - RMSE: ۱۰.۹۰\n",
    "  - R²: ۰.۹۰۸۲\n",
    "  - sMAPE: ۵.۸۳٪\n",
    "  - MAE%Max: ۲.۷۱٪\n",
    "\n",
    "</div>"
   ]
  },
  {
   "cell_type": "code",
   "execution_count": 2,
   "id": "2cccadbb",
   "metadata": {},
   "outputs": [
    {
     "name": "stderr",
     "output_type": "stream",
     "text": [
      "                                                        \r"
     ]
    },
    {
     "name": "stdout",
     "output_type": "stream",
     "text": [
      "📉 Train=0.0108 | Val=0.0042 | Val sMAPE=6.28%\n",
      "\n",
      "===== Epoch 183/300 =====\n"
     ]
    },
    {
     "name": "stderr",
     "output_type": "stream",
     "text": [
      "                                                        \r"
     ]
    },
    {
     "name": "stdout",
     "output_type": "stream",
     "text": [
      "📉 Train=0.0115 | Val=0.0038 | Val sMAPE=6.18%\n",
      "✅ (best).\n",
      "\n",
      "===== Epoch 184/300 =====\n"
     ]
    },
    {
     "name": "stderr",
     "output_type": "stream",
     "text": [
      "                                                        \r"
     ]
    },
    {
     "name": "stdout",
     "output_type": "stream",
     "text": [
      "📉 Train=0.0118 | Val=0.0045 | Val sMAPE=6.62%\n",
      "\n",
      "===== Epoch 185/300 =====\n"
     ]
    },
    {
     "name": "stderr",
     "output_type": "stream",
     "text": [
      "                                                        \r"
     ]
    },
    {
     "name": "stdout",
     "output_type": "stream",
     "text": [
      "📉 Train=0.0114 | Val=0.0048 | Val sMAPE=6.78%\n",
      "\n",
      "===== Epoch 186/300 =====\n"
     ]
    },
    {
     "name": "stderr",
     "output_type": "stream",
     "text": [
      "                                                        \r"
     ]
    },
    {
     "name": "stdout",
     "output_type": "stream",
     "text": [
      "📉 Train=0.0122 | Val=0.0059 | Val sMAPE=7.42%\n",
      "\n",
      "===== Epoch 187/300 =====\n"
     ]
    },
    {
     "name": "stderr",
     "output_type": "stream",
     "text": [
      "                                                        \r"
     ]
    },
    {
     "name": "stdout",
     "output_type": "stream",
     "text": [
      "📉 Train=0.0113 | Val=0.0047 | Val sMAPE=6.38%\n",
      "\n",
      "===== Epoch 188/300 =====\n"
     ]
    },
    {
     "name": "stderr",
     "output_type": "stream",
     "text": [
      "                                                        \r"
     ]
    },
    {
     "name": "stdout",
     "output_type": "stream",
     "text": [
      "📉 Train=0.0119 | Val=0.0044 | Val sMAPE=6.27%\n",
      "\n",
      "===== Epoch 189/300 =====\n"
     ]
    },
    {
     "name": "stderr",
     "output_type": "stream",
     "text": [
      "                                                        \r"
     ]
    },
    {
     "name": "stdout",
     "output_type": "stream",
     "text": [
      "📉 Train=0.0113 | Val=0.0043 | Val sMAPE=6.15%\n",
      "\n",
      "===== Epoch 190/300 =====\n"
     ]
    },
    {
     "name": "stderr",
     "output_type": "stream",
     "text": [
      "                                                        \r"
     ]
    },
    {
     "name": "stdout",
     "output_type": "stream",
     "text": [
      "📉 Train=0.0107 | Val=0.0045 | Val sMAPE=6.50%\n",
      "\n",
      "===== Epoch 191/300 =====\n"
     ]
    },
    {
     "name": "stderr",
     "output_type": "stream",
     "text": [
      "                                                        \r"
     ]
    },
    {
     "name": "stdout",
     "output_type": "stream",
     "text": [
      "📉 Train=0.0127 | Val=0.0047 | Val sMAPE=6.32%\n",
      "\n",
      "===== Epoch 192/300 =====\n"
     ]
    },
    {
     "name": "stderr",
     "output_type": "stream",
     "text": [
      "                                                        \r"
     ]
    },
    {
     "name": "stdout",
     "output_type": "stream",
     "text": [
      "📉 Train=0.0120 | Val=0.0045 | Val sMAPE=6.18%\n",
      "\n",
      "===== Epoch 193/300 =====\n"
     ]
    },
    {
     "name": "stderr",
     "output_type": "stream",
     "text": [
      "                                                        \r"
     ]
    },
    {
     "name": "stdout",
     "output_type": "stream",
     "text": [
      "📉 Train=0.0117 | Val=0.0046 | Val sMAPE=6.22%\n",
      "\n",
      "===== Epoch 194/300 =====\n"
     ]
    },
    {
     "name": "stderr",
     "output_type": "stream",
     "text": [
      "                                                        \r"
     ]
    },
    {
     "name": "stdout",
     "output_type": "stream",
     "text": [
      "📉 Train=0.0114 | Val=0.0044 | Val sMAPE=6.12%\n",
      "\n",
      "===== Epoch 195/300 =====\n"
     ]
    },
    {
     "name": "stderr",
     "output_type": "stream",
     "text": [
      "                                                        \r"
     ]
    },
    {
     "name": "stdout",
     "output_type": "stream",
     "text": [
      "📉 Train=0.0105 | Val=0.0041 | Val sMAPE=6.00%\n",
      "\n",
      "===== Epoch 196/300 =====\n"
     ]
    },
    {
     "name": "stderr",
     "output_type": "stream",
     "text": [
      "                                                        \r"
     ]
    },
    {
     "name": "stdout",
     "output_type": "stream",
     "text": [
      "📉 Train=0.0121 | Val=0.0044 | Val sMAPE=6.25%\n",
      "\n",
      "===== Epoch 197/300 =====\n"
     ]
    },
    {
     "name": "stderr",
     "output_type": "stream",
     "text": [
      "                                                        \r"
     ]
    },
    {
     "name": "stdout",
     "output_type": "stream",
     "text": [
      "📉 Train=0.0118 | Val=0.0044 | Val sMAPE=6.38%\n",
      "\n",
      "===== Epoch 198/300 =====\n"
     ]
    },
    {
     "name": "stderr",
     "output_type": "stream",
     "text": [
      "                                                        \r"
     ]
    },
    {
     "name": "stdout",
     "output_type": "stream",
     "text": [
      "📉 Train=0.0130 | Val=0.0043 | Val sMAPE=6.31%\n",
      "\n",
      "===== Epoch 199/300 =====\n"
     ]
    },
    {
     "name": "stderr",
     "output_type": "stream",
     "text": [
      "                                                        \r"
     ]
    },
    {
     "name": "stdout",
     "output_type": "stream",
     "text": [
      "📉 Train=0.0102 | Val=0.0042 | Val sMAPE=6.42%\n",
      "\n",
      "===== Epoch 200/300 =====\n"
     ]
    },
    {
     "name": "stderr",
     "output_type": "stream",
     "text": [
      "                                                        \r"
     ]
    },
    {
     "name": "stdout",
     "output_type": "stream",
     "text": [
      "📉 Train=0.0102 | Val=0.0044 | Val sMAPE=6.64%\n",
      "\n",
      "===== Epoch 201/300 =====\n"
     ]
    },
    {
     "name": "stderr",
     "output_type": "stream",
     "text": [
      "                                                        \r"
     ]
    },
    {
     "name": "stdout",
     "output_type": "stream",
     "text": [
      "📉 Train=0.0104 | Val=0.0042 | Val sMAPE=6.33%\n",
      "\n",
      "===== Epoch 202/300 =====\n"
     ]
    },
    {
     "name": "stderr",
     "output_type": "stream",
     "text": [
      "                                                        \r"
     ]
    },
    {
     "name": "stdout",
     "output_type": "stream",
     "text": [
      "📉 Train=0.0093 | Val=0.0039 | Val sMAPE=5.94%\n",
      "\n",
      "===== Epoch 203/300 =====\n"
     ]
    },
    {
     "name": "stderr",
     "output_type": "stream",
     "text": [
      "                                                        \r"
     ]
    },
    {
     "name": "stdout",
     "output_type": "stream",
     "text": [
      "📉 Train=0.0120 | Val=0.0044 | Val sMAPE=5.98%\n",
      "\n",
      "===== Epoch 204/300 =====\n"
     ]
    },
    {
     "name": "stderr",
     "output_type": "stream",
     "text": [
      "                                                        \r"
     ]
    },
    {
     "name": "stdout",
     "output_type": "stream",
     "text": [
      "📉 Train=0.0126 | Val=0.0042 | Val sMAPE=6.21%\n",
      "\n",
      "===== Epoch 205/300 =====\n"
     ]
    },
    {
     "name": "stderr",
     "output_type": "stream",
     "text": [
      "                                                        \r"
     ]
    },
    {
     "name": "stdout",
     "output_type": "stream",
     "text": [
      "📉 Train=0.0110 | Val=0.0045 | Val sMAPE=6.59%\n",
      "\n",
      "===== Epoch 206/300 =====\n"
     ]
    },
    {
     "name": "stderr",
     "output_type": "stream",
     "text": [
      "                                                        \r"
     ]
    },
    {
     "name": "stdout",
     "output_type": "stream",
     "text": [
      "📉 Train=0.0118 | Val=0.0044 | Val sMAPE=6.35%\n",
      "\n",
      "===== Epoch 207/300 =====\n"
     ]
    },
    {
     "name": "stderr",
     "output_type": "stream",
     "text": [
      "                                                        \r"
     ]
    },
    {
     "name": "stdout",
     "output_type": "stream",
     "text": [
      "📉 Train=0.0108 | Val=0.0046 | Val sMAPE=6.10%\n",
      "\n",
      "===== Epoch 208/300 =====\n"
     ]
    },
    {
     "name": "stderr",
     "output_type": "stream",
     "text": [
      "                                                        \r"
     ]
    },
    {
     "name": "stdout",
     "output_type": "stream",
     "text": [
      "📉 Train=0.0112 | Val=0.0042 | Val sMAPE=6.78%\n",
      "\n",
      "===== Epoch 209/300 =====\n"
     ]
    },
    {
     "name": "stderr",
     "output_type": "stream",
     "text": [
      "                                                        \r"
     ]
    },
    {
     "name": "stdout",
     "output_type": "stream",
     "text": [
      "📉 Train=0.0113 | Val=0.0047 | Val sMAPE=6.21%\n",
      "\n",
      "===== Epoch 210/300 =====\n"
     ]
    },
    {
     "name": "stderr",
     "output_type": "stream",
     "text": [
      "                                                        \r"
     ]
    },
    {
     "name": "stdout",
     "output_type": "stream",
     "text": [
      "📉 Train=0.0127 | Val=0.0042 | Val sMAPE=6.11%\n",
      "\n",
      "===== Epoch 211/300 =====\n"
     ]
    },
    {
     "name": "stderr",
     "output_type": "stream",
     "text": [
      "                                                        \r"
     ]
    },
    {
     "name": "stdout",
     "output_type": "stream",
     "text": [
      "📉 Train=0.0100 | Val=0.0043 | Val sMAPE=6.50%\n",
      "\n",
      "===== Epoch 212/300 =====\n"
     ]
    },
    {
     "name": "stderr",
     "output_type": "stream",
     "text": [
      "                                                        \r"
     ]
    },
    {
     "name": "stdout",
     "output_type": "stream",
     "text": [
      "📉 Train=0.0114 | Val=0.0044 | Val sMAPE=6.33%\n",
      "\n",
      "===== Epoch 213/300 =====\n"
     ]
    },
    {
     "name": "stderr",
     "output_type": "stream",
     "text": [
      "                                                        \r"
     ]
    },
    {
     "name": "stdout",
     "output_type": "stream",
     "text": [
      "📉 Train=0.0114 | Val=0.0039 | Val sMAPE=6.01%\n",
      "\n",
      "===== Epoch 214/300 =====\n"
     ]
    },
    {
     "name": "stderr",
     "output_type": "stream",
     "text": [
      "                                                        \r"
     ]
    },
    {
     "name": "stdout",
     "output_type": "stream",
     "text": [
      "📉 Train=0.0117 | Val=0.0040 | Val sMAPE=6.12%\n",
      "\n",
      "===== Epoch 215/300 =====\n"
     ]
    },
    {
     "name": "stderr",
     "output_type": "stream",
     "text": [
      "                                                        \r"
     ]
    },
    {
     "name": "stdout",
     "output_type": "stream",
     "text": [
      "📉 Train=0.0103 | Val=0.0043 | Val sMAPE=6.53%\n",
      "\n",
      "===== Epoch 216/300 =====\n"
     ]
    },
    {
     "name": "stderr",
     "output_type": "stream",
     "text": [
      "                                                        \r"
     ]
    },
    {
     "name": "stdout",
     "output_type": "stream",
     "text": [
      "📉 Train=0.0107 | Val=0.0037 | Val sMAPE=5.78%\n",
      "✅ (best).\n",
      "\n",
      "===== Epoch 217/300 =====\n"
     ]
    },
    {
     "name": "stderr",
     "output_type": "stream",
     "text": [
      "                                                        \r"
     ]
    },
    {
     "name": "stdout",
     "output_type": "stream",
     "text": [
      "📉 Train=0.0127 | Val=0.0046 | Val sMAPE=6.30%\n",
      "\n",
      "===== Epoch 218/300 =====\n"
     ]
    },
    {
     "name": "stderr",
     "output_type": "stream",
     "text": [
      "                                                        \r"
     ]
    },
    {
     "name": "stdout",
     "output_type": "stream",
     "text": [
      "📉 Train=0.0108 | Val=0.0042 | Val sMAPE=6.88%\n",
      "\n",
      "===== Epoch 219/300 =====\n"
     ]
    },
    {
     "name": "stderr",
     "output_type": "stream",
     "text": [
      "                                                        \r"
     ]
    },
    {
     "name": "stdout",
     "output_type": "stream",
     "text": [
      "📉 Train=0.0109 | Val=0.0044 | Val sMAPE=6.20%\n",
      "\n",
      "===== Epoch 220/300 =====\n"
     ]
    },
    {
     "name": "stderr",
     "output_type": "stream",
     "text": [
      "                                                        \r"
     ]
    },
    {
     "name": "stdout",
     "output_type": "stream",
     "text": [
      "📉 Train=0.0107 | Val=0.0038 | Val sMAPE=5.97%\n",
      "\n",
      "===== Epoch 221/300 =====\n"
     ]
    },
    {
     "name": "stderr",
     "output_type": "stream",
     "text": [
      "                                                        \r"
     ]
    },
    {
     "name": "stdout",
     "output_type": "stream",
     "text": [
      "📉 Train=0.0118 | Val=0.0043 | Val sMAPE=6.45%\n",
      "\n",
      "===== Epoch 222/300 =====\n"
     ]
    },
    {
     "name": "stderr",
     "output_type": "stream",
     "text": [
      "                                                        \r"
     ]
    },
    {
     "name": "stdout",
     "output_type": "stream",
     "text": [
      "📉 Train=0.0112 | Val=0.0042 | Val sMAPE=5.77%\n",
      "\n",
      "===== Epoch 223/300 =====\n"
     ]
    },
    {
     "name": "stderr",
     "output_type": "stream",
     "text": [
      "                                                        \r"
     ]
    },
    {
     "name": "stdout",
     "output_type": "stream",
     "text": [
      "📉 Train=0.0135 | Val=0.0045 | Val sMAPE=6.49%\n",
      "\n",
      "===== Epoch 224/300 =====\n"
     ]
    },
    {
     "name": "stderr",
     "output_type": "stream",
     "text": [
      "                                                        \r"
     ]
    },
    {
     "name": "stdout",
     "output_type": "stream",
     "text": [
      "📉 Train=0.0115 | Val=0.0041 | Val sMAPE=6.16%\n",
      "\n",
      "===== Epoch 225/300 =====\n"
     ]
    },
    {
     "name": "stderr",
     "output_type": "stream",
     "text": [
      "                                                        \r"
     ]
    },
    {
     "name": "stdout",
     "output_type": "stream",
     "text": [
      "📉 Train=0.0105 | Val=0.0039 | Val sMAPE=6.16%\n",
      "\n",
      "===== Epoch 226/300 =====\n"
     ]
    },
    {
     "name": "stderr",
     "output_type": "stream",
     "text": [
      "                                                        \r"
     ]
    },
    {
     "name": "stdout",
     "output_type": "stream",
     "text": [
      "📉 Train=0.0100 | Val=0.0039 | Val sMAPE=6.65%\n",
      "\n",
      "===== Epoch 227/300 =====\n"
     ]
    },
    {
     "name": "stderr",
     "output_type": "stream",
     "text": [
      "                                                        \r"
     ]
    },
    {
     "name": "stdout",
     "output_type": "stream",
     "text": [
      "📉 Train=0.0102 | Val=0.0043 | Val sMAPE=6.08%\n",
      "\n",
      "===== Epoch 228/300 =====\n"
     ]
    },
    {
     "name": "stderr",
     "output_type": "stream",
     "text": [
      "                                                        \r"
     ]
    },
    {
     "name": "stdout",
     "output_type": "stream",
     "text": [
      "📉 Train=0.0112 | Val=0.0042 | Val sMAPE=6.17%\n",
      "\n",
      "===== Epoch 229/300 =====\n"
     ]
    },
    {
     "name": "stderr",
     "output_type": "stream",
     "text": [
      "                                                        \r"
     ]
    },
    {
     "name": "stdout",
     "output_type": "stream",
     "text": [
      "📉 Train=0.0142 | Val=0.0039 | Val sMAPE=5.81%\n",
      "\n",
      "===== Epoch 230/300 =====\n"
     ]
    },
    {
     "name": "stderr",
     "output_type": "stream",
     "text": [
      "                                                        \r"
     ]
    },
    {
     "name": "stdout",
     "output_type": "stream",
     "text": [
      "📉 Train=0.0120 | Val=0.0041 | Val sMAPE=6.05%\n",
      "\n",
      "===== Epoch 231/300 =====\n"
     ]
    },
    {
     "name": "stderr",
     "output_type": "stream",
     "text": [
      "                                                        \r"
     ]
    },
    {
     "name": "stdout",
     "output_type": "stream",
     "text": [
      "📉 Train=0.0102 | Val=0.0042 | Val sMAPE=6.03%\n",
      "\n",
      "===== Epoch 232/300 =====\n"
     ]
    },
    {
     "name": "stderr",
     "output_type": "stream",
     "text": [
      "                                                        \r"
     ]
    },
    {
     "name": "stdout",
     "output_type": "stream",
     "text": [
      "📉 Train=0.0135 | Val=0.0042 | Val sMAPE=5.93%\n",
      "\n",
      "===== Epoch 233/300 =====\n"
     ]
    },
    {
     "name": "stderr",
     "output_type": "stream",
     "text": [
      "                                                        \r"
     ]
    },
    {
     "name": "stdout",
     "output_type": "stream",
     "text": [
      "📉 Train=0.0116 | Val=0.0040 | Val sMAPE=6.16%\n",
      "\n",
      "===== Epoch 234/300 =====\n"
     ]
    },
    {
     "name": "stderr",
     "output_type": "stream",
     "text": [
      "                                                        \r"
     ]
    },
    {
     "name": "stdout",
     "output_type": "stream",
     "text": [
      "📉 Train=0.0116 | Val=0.0038 | Val sMAPE=5.73%\n",
      "\n",
      "===== Epoch 235/300 =====\n"
     ]
    },
    {
     "name": "stderr",
     "output_type": "stream",
     "text": [
      "                                                        \r"
     ]
    },
    {
     "name": "stdout",
     "output_type": "stream",
     "text": [
      "📉 Train=0.0117 | Val=0.0044 | Val sMAPE=6.45%\n",
      "\n",
      "===== Epoch 236/300 =====\n"
     ]
    },
    {
     "name": "stderr",
     "output_type": "stream",
     "text": [
      "                                                        \r"
     ]
    },
    {
     "name": "stdout",
     "output_type": "stream",
     "text": [
      "📉 Train=0.0099 | Val=0.0041 | Val sMAPE=6.12%\n",
      "\n",
      "===== Epoch 237/300 =====\n"
     ]
    },
    {
     "name": "stderr",
     "output_type": "stream",
     "text": [
      "                                                        \r"
     ]
    },
    {
     "name": "stdout",
     "output_type": "stream",
     "text": [
      "📉 Train=0.0116 | Val=0.0046 | Val sMAPE=5.89%\n",
      "\n",
      "===== Epoch 238/300 =====\n"
     ]
    },
    {
     "name": "stderr",
     "output_type": "stream",
     "text": [
      "                                                        \r"
     ]
    },
    {
     "name": "stdout",
     "output_type": "stream",
     "text": [
      "📉 Train=0.0107 | Val=0.0042 | Val sMAPE=6.46%\n",
      "\n",
      "===== Epoch 239/300 =====\n"
     ]
    },
    {
     "name": "stderr",
     "output_type": "stream",
     "text": [
      "                                                        \r"
     ]
    },
    {
     "name": "stdout",
     "output_type": "stream",
     "text": [
      "📉 Train=0.0125 | Val=0.0045 | Val sMAPE=6.47%\n",
      "\n",
      "===== Epoch 240/300 =====\n"
     ]
    },
    {
     "name": "stderr",
     "output_type": "stream",
     "text": [
      "                                                        \r"
     ]
    },
    {
     "name": "stdout",
     "output_type": "stream",
     "text": [
      "📉 Train=0.0098 | Val=0.0042 | Val sMAPE=6.03%\n",
      "\n",
      "===== Epoch 241/300 =====\n"
     ]
    },
    {
     "name": "stderr",
     "output_type": "stream",
     "text": [
      "                                                        \r"
     ]
    },
    {
     "name": "stdout",
     "output_type": "stream",
     "text": [
      "📉 Train=0.0103 | Val=0.0043 | Val sMAPE=6.00%\n",
      "\n",
      "===== Epoch 242/300 =====\n"
     ]
    },
    {
     "name": "stderr",
     "output_type": "stream",
     "text": [
      "                                                        \r"
     ]
    },
    {
     "name": "stdout",
     "output_type": "stream",
     "text": [
      "📉 Train=0.0115 | Val=0.0043 | Val sMAPE=5.99%\n",
      "\n",
      "===== Epoch 243/300 =====\n"
     ]
    },
    {
     "name": "stderr",
     "output_type": "stream",
     "text": [
      "                                                        \r"
     ]
    },
    {
     "name": "stdout",
     "output_type": "stream",
     "text": [
      "📉 Train=0.0108 | Val=0.0037 | Val sMAPE=6.27%\n",
      "\n",
      "===== Epoch 244/300 =====\n"
     ]
    },
    {
     "name": "stderr",
     "output_type": "stream",
     "text": [
      "                                                        \r"
     ]
    },
    {
     "name": "stdout",
     "output_type": "stream",
     "text": [
      "📉 Train=0.0100 | Val=0.0039 | Val sMAPE=6.20%\n",
      "\n",
      "===== Epoch 245/300 =====\n"
     ]
    },
    {
     "name": "stderr",
     "output_type": "stream",
     "text": [
      "                                                        \r"
     ]
    },
    {
     "name": "stdout",
     "output_type": "stream",
     "text": [
      "📉 Train=0.0120 | Val=0.0041 | Val sMAPE=6.14%\n",
      "\n",
      "===== Epoch 246/300 =====\n"
     ]
    },
    {
     "name": "stderr",
     "output_type": "stream",
     "text": [
      "                                                        \r"
     ]
    },
    {
     "name": "stdout",
     "output_type": "stream",
     "text": [
      "📉 Train=0.0131 | Val=0.0051 | Val sMAPE=6.63%\n",
      "\n",
      "===== Epoch 247/300 =====\n"
     ]
    },
    {
     "name": "stderr",
     "output_type": "stream",
     "text": [
      "                                                        \r"
     ]
    },
    {
     "name": "stdout",
     "output_type": "stream",
     "text": [
      "📉 Train=0.0104 | Val=0.0042 | Val sMAPE=6.14%\n",
      "\n",
      "===== Epoch 248/300 =====\n"
     ]
    },
    {
     "name": "stderr",
     "output_type": "stream",
     "text": [
      "                                                        \r"
     ]
    },
    {
     "name": "stdout",
     "output_type": "stream",
     "text": [
      "📉 Train=0.0096 | Val=0.0036 | Val sMAPE=6.11%\n",
      "✅ (best).\n",
      "\n",
      "===== Epoch 249/300 =====\n"
     ]
    },
    {
     "name": "stderr",
     "output_type": "stream",
     "text": [
      "                                                        \r"
     ]
    },
    {
     "name": "stdout",
     "output_type": "stream",
     "text": [
      "📉 Train=0.0112 | Val=0.0045 | Val sMAPE=6.15%\n",
      "\n",
      "===== Epoch 250/300 =====\n"
     ]
    },
    {
     "name": "stderr",
     "output_type": "stream",
     "text": [
      "                                                        \r"
     ]
    },
    {
     "name": "stdout",
     "output_type": "stream",
     "text": [
      "📉 Train=0.0111 | Val=0.0037 | Val sMAPE=5.82%\n",
      "\n",
      "===== Epoch 251/300 =====\n"
     ]
    },
    {
     "name": "stderr",
     "output_type": "stream",
     "text": [
      "                                                        \r"
     ]
    },
    {
     "name": "stdout",
     "output_type": "stream",
     "text": [
      "📉 Train=0.0091 | Val=0.0037 | Val sMAPE=6.04%\n",
      "\n",
      "===== Epoch 252/300 =====\n"
     ]
    },
    {
     "name": "stderr",
     "output_type": "stream",
     "text": [
      "                                                        \r"
     ]
    },
    {
     "name": "stdout",
     "output_type": "stream",
     "text": [
      "📉 Train=0.0096 | Val=0.0040 | Val sMAPE=5.93%\n",
      "\n",
      "===== Epoch 253/300 =====\n"
     ]
    },
    {
     "name": "stderr",
     "output_type": "stream",
     "text": [
      "                                                        \r"
     ]
    },
    {
     "name": "stdout",
     "output_type": "stream",
     "text": [
      "📉 Train=0.0109 | Val=0.0043 | Val sMAPE=5.96%\n",
      "\n",
      "===== Epoch 254/300 =====\n"
     ]
    },
    {
     "name": "stderr",
     "output_type": "stream",
     "text": [
      "                                                        \r"
     ]
    },
    {
     "name": "stdout",
     "output_type": "stream",
     "text": [
      "📉 Train=0.0135 | Val=0.0044 | Val sMAPE=6.17%\n",
      "\n",
      "===== Epoch 255/300 =====\n"
     ]
    },
    {
     "name": "stderr",
     "output_type": "stream",
     "text": [
      "                                                        \r"
     ]
    },
    {
     "name": "stdout",
     "output_type": "stream",
     "text": [
      "📉 Train=0.0131 | Val=0.0047 | Val sMAPE=6.87%\n",
      "\n",
      "===== Epoch 256/300 =====\n"
     ]
    },
    {
     "name": "stderr",
     "output_type": "stream",
     "text": [
      "                                                        \r"
     ]
    },
    {
     "name": "stdout",
     "output_type": "stream",
     "text": [
      "📉 Train=0.0095 | Val=0.0046 | Val sMAPE=6.54%\n",
      "\n",
      "===== Epoch 257/300 =====\n"
     ]
    },
    {
     "name": "stderr",
     "output_type": "stream",
     "text": [
      "                                                        \r"
     ]
    },
    {
     "name": "stdout",
     "output_type": "stream",
     "text": [
      "📉 Train=0.0120 | Val=0.0044 | Val sMAPE=6.19%\n",
      "\n",
      "===== Epoch 258/300 =====\n"
     ]
    },
    {
     "name": "stderr",
     "output_type": "stream",
     "text": [
      "                                                        \r"
     ]
    },
    {
     "name": "stdout",
     "output_type": "stream",
     "text": [
      "📉 Train=0.0107 | Val=0.0043 | Val sMAPE=6.14%\n",
      "\n",
      "===== Epoch 259/300 =====\n"
     ]
    },
    {
     "name": "stderr",
     "output_type": "stream",
     "text": [
      "                                                        \r"
     ]
    },
    {
     "name": "stdout",
     "output_type": "stream",
     "text": [
      "📉 Train=0.0114 | Val=0.0043 | Val sMAPE=5.84%\n",
      "\n",
      "===== Epoch 260/300 =====\n"
     ]
    },
    {
     "name": "stderr",
     "output_type": "stream",
     "text": [
      "                                                        \r"
     ]
    },
    {
     "name": "stdout",
     "output_type": "stream",
     "text": [
      "📉 Train=0.0107 | Val=0.0043 | Val sMAPE=5.97%\n",
      "\n",
      "===== Epoch 261/300 =====\n"
     ]
    },
    {
     "name": "stderr",
     "output_type": "stream",
     "text": [
      "                                                        \r"
     ]
    },
    {
     "name": "stdout",
     "output_type": "stream",
     "text": [
      "📉 Train=0.0105 | Val=0.0044 | Val sMAPE=6.22%\n",
      "\n",
      "===== Epoch 262/300 =====\n"
     ]
    },
    {
     "name": "stderr",
     "output_type": "stream",
     "text": [
      "                                                        \r"
     ]
    },
    {
     "name": "stdout",
     "output_type": "stream",
     "text": [
      "📉 Train=0.0114 | Val=0.0046 | Val sMAPE=6.26%\n",
      "\n",
      "===== Epoch 263/300 =====\n"
     ]
    },
    {
     "name": "stderr",
     "output_type": "stream",
     "text": [
      "                                                        \r"
     ]
    },
    {
     "name": "stdout",
     "output_type": "stream",
     "text": [
      "📉 Train=0.0111 | Val=0.0042 | Val sMAPE=6.27%\n",
      "\n",
      "===== Epoch 264/300 =====\n"
     ]
    },
    {
     "name": "stderr",
     "output_type": "stream",
     "text": [
      "                                                        \r"
     ]
    },
    {
     "name": "stdout",
     "output_type": "stream",
     "text": [
      "📉 Train=0.0098 | Val=0.0044 | Val sMAPE=5.93%\n",
      "\n",
      "===== Epoch 265/300 =====\n"
     ]
    },
    {
     "name": "stderr",
     "output_type": "stream",
     "text": [
      "                                                        \r"
     ]
    },
    {
     "name": "stdout",
     "output_type": "stream",
     "text": [
      "📉 Train=0.0109 | Val=0.0045 | Val sMAPE=6.05%\n",
      "\n",
      "===== Epoch 266/300 =====\n"
     ]
    },
    {
     "name": "stderr",
     "output_type": "stream",
     "text": [
      "                                                        \r"
     ]
    },
    {
     "name": "stdout",
     "output_type": "stream",
     "text": [
      "📉 Train=0.0116 | Val=0.0043 | Val sMAPE=5.95%\n",
      "\n",
      "===== Epoch 267/300 =====\n"
     ]
    },
    {
     "name": "stderr",
     "output_type": "stream",
     "text": [
      "                                                        \r"
     ]
    },
    {
     "name": "stdout",
     "output_type": "stream",
     "text": [
      "📉 Train=0.0112 | Val=0.0044 | Val sMAPE=6.06%\n",
      "\n",
      "===== Epoch 268/300 =====\n"
     ]
    },
    {
     "name": "stderr",
     "output_type": "stream",
     "text": [
      "                                                        \r"
     ]
    },
    {
     "name": "stdout",
     "output_type": "stream",
     "text": [
      "📉 Train=0.0106 | Val=0.0047 | Val sMAPE=6.69%\n",
      "\n",
      "===== Epoch 269/300 =====\n"
     ]
    },
    {
     "name": "stderr",
     "output_type": "stream",
     "text": [
      "                                                        \r"
     ]
    },
    {
     "name": "stdout",
     "output_type": "stream",
     "text": [
      "📉 Train=0.0115 | Val=0.0045 | Val sMAPE=6.12%\n",
      "\n",
      "===== Epoch 270/300 =====\n"
     ]
    },
    {
     "name": "stderr",
     "output_type": "stream",
     "text": [
      "                                                        \r"
     ]
    },
    {
     "name": "stdout",
     "output_type": "stream",
     "text": [
      "📉 Train=0.0130 | Val=0.0047 | Val sMAPE=6.17%\n",
      "\n",
      "===== Epoch 271/300 =====\n"
     ]
    },
    {
     "name": "stderr",
     "output_type": "stream",
     "text": [
      "                                                        \r"
     ]
    },
    {
     "name": "stdout",
     "output_type": "stream",
     "text": [
      "📉 Train=0.0110 | Val=0.0039 | Val sMAPE=5.68%\n",
      "\n",
      "===== Epoch 272/300 =====\n"
     ]
    },
    {
     "name": "stderr",
     "output_type": "stream",
     "text": [
      "                                                        \r"
     ]
    },
    {
     "name": "stdout",
     "output_type": "stream",
     "text": [
      "📉 Train=0.0109 | Val=0.0040 | Val sMAPE=5.70%\n",
      "\n",
      "===== Epoch 273/300 =====\n"
     ]
    },
    {
     "name": "stderr",
     "output_type": "stream",
     "text": [
      "                                                        \r"
     ]
    },
    {
     "name": "stdout",
     "output_type": "stream",
     "text": [
      "📉 Train=0.0106 | Val=0.0041 | Val sMAPE=6.00%\n",
      "\n",
      "===== Epoch 274/300 =====\n"
     ]
    },
    {
     "name": "stderr",
     "output_type": "stream",
     "text": [
      "                                                        \r"
     ]
    },
    {
     "name": "stdout",
     "output_type": "stream",
     "text": [
      "📉 Train=0.0114 | Val=0.0044 | Val sMAPE=6.08%\n",
      "\n",
      "===== Epoch 275/300 =====\n"
     ]
    },
    {
     "name": "stderr",
     "output_type": "stream",
     "text": [
      "                                                        \r"
     ]
    },
    {
     "name": "stdout",
     "output_type": "stream",
     "text": [
      "📉 Train=0.0115 | Val=0.0040 | Val sMAPE=5.61%\n",
      "\n",
      "===== Epoch 276/300 =====\n"
     ]
    },
    {
     "name": "stderr",
     "output_type": "stream",
     "text": [
      "                                                        \r"
     ]
    },
    {
     "name": "stdout",
     "output_type": "stream",
     "text": [
      "📉 Train=0.0110 | Val=0.0039 | Val sMAPE=5.62%\n",
      "\n",
      "===== Epoch 277/300 =====\n"
     ]
    },
    {
     "name": "stderr",
     "output_type": "stream",
     "text": [
      "                                                        \r"
     ]
    },
    {
     "name": "stdout",
     "output_type": "stream",
     "text": [
      "📉 Train=0.0103 | Val=0.0043 | Val sMAPE=6.03%\n",
      "\n",
      "===== Epoch 278/300 =====\n"
     ]
    },
    {
     "name": "stderr",
     "output_type": "stream",
     "text": [
      "                                                        \r"
     ]
    },
    {
     "name": "stdout",
     "output_type": "stream",
     "text": [
      "📉 Train=0.0098 | Val=0.0040 | Val sMAPE=5.61%\n",
      "\n",
      "===== Epoch 279/300 =====\n"
     ]
    },
    {
     "name": "stderr",
     "output_type": "stream",
     "text": [
      "                                                        \r"
     ]
    },
    {
     "name": "stdout",
     "output_type": "stream",
     "text": [
      "📉 Train=0.0110 | Val=0.0041 | Val sMAPE=5.89%\n",
      "\n",
      "===== Epoch 280/300 =====\n"
     ]
    },
    {
     "name": "stderr",
     "output_type": "stream",
     "text": [
      "                                                        \r"
     ]
    },
    {
     "name": "stdout",
     "output_type": "stream",
     "text": [
      "📉 Train=0.0113 | Val=0.0041 | Val sMAPE=5.91%\n",
      "\n",
      "===== Epoch 281/300 =====\n"
     ]
    },
    {
     "name": "stderr",
     "output_type": "stream",
     "text": [
      "                                                        \r"
     ]
    },
    {
     "name": "stdout",
     "output_type": "stream",
     "text": [
      "📉 Train=0.0108 | Val=0.0039 | Val sMAPE=5.52%\n",
      "\n",
      "===== Epoch 282/300 =====\n"
     ]
    },
    {
     "name": "stderr",
     "output_type": "stream",
     "text": [
      "                                                        \r"
     ]
    },
    {
     "name": "stdout",
     "output_type": "stream",
     "text": [
      "📉 Train=0.0109 | Val=0.0044 | Val sMAPE=6.23%\n",
      "\n",
      "===== Epoch 283/300 =====\n"
     ]
    },
    {
     "name": "stderr",
     "output_type": "stream",
     "text": [
      "                                                        \r"
     ]
    },
    {
     "name": "stdout",
     "output_type": "stream",
     "text": [
      "📉 Train=0.0117 | Val=0.0039 | Val sMAPE=5.99%\n",
      "\n",
      "===== Epoch 284/300 =====\n"
     ]
    },
    {
     "name": "stderr",
     "output_type": "stream",
     "text": [
      "                                                        \r"
     ]
    },
    {
     "name": "stdout",
     "output_type": "stream",
     "text": [
      "📉 Train=0.0109 | Val=0.0042 | Val sMAPE=5.85%\n",
      "\n",
      "===== Epoch 285/300 =====\n"
     ]
    },
    {
     "name": "stderr",
     "output_type": "stream",
     "text": [
      "                                                        \r"
     ]
    },
    {
     "name": "stdout",
     "output_type": "stream",
     "text": [
      "📉 Train=0.0110 | Val=0.0039 | Val sMAPE=5.79%\n",
      "\n",
      "===== Epoch 286/300 =====\n"
     ]
    },
    {
     "name": "stderr",
     "output_type": "stream",
     "text": [
      "                                                        \r"
     ]
    },
    {
     "name": "stdout",
     "output_type": "stream",
     "text": [
      "📉 Train=0.0104 | Val=0.0041 | Val sMAPE=6.19%\n",
      "\n",
      "===== Epoch 287/300 =====\n"
     ]
    },
    {
     "name": "stderr",
     "output_type": "stream",
     "text": [
      "                                                        \r"
     ]
    },
    {
     "name": "stdout",
     "output_type": "stream",
     "text": [
      "📉 Train=0.0116 | Val=0.0037 | Val sMAPE=6.13%\n",
      "\n",
      "===== Epoch 288/300 =====\n"
     ]
    },
    {
     "name": "stderr",
     "output_type": "stream",
     "text": [
      "                                                        \r"
     ]
    },
    {
     "name": "stdout",
     "output_type": "stream",
     "text": [
      "📉 Train=0.0101 | Val=0.0042 | Val sMAPE=6.05%\n",
      "\n",
      "===== Epoch 289/300 =====\n"
     ]
    },
    {
     "name": "stderr",
     "output_type": "stream",
     "text": [
      "                                                        \r"
     ]
    },
    {
     "name": "stdout",
     "output_type": "stream",
     "text": [
      "📉 Train=0.0109 | Val=0.0038 | Val sMAPE=6.10%\n",
      "\n",
      "===== Epoch 290/300 =====\n"
     ]
    },
    {
     "name": "stderr",
     "output_type": "stream",
     "text": [
      "                                                        \r"
     ]
    },
    {
     "name": "stdout",
     "output_type": "stream",
     "text": [
      "📉 Train=0.0097 | Val=0.0040 | Val sMAPE=6.15%\n",
      "\n",
      "===== Epoch 291/300 =====\n"
     ]
    },
    {
     "name": "stderr",
     "output_type": "stream",
     "text": [
      "                                                        \r"
     ]
    },
    {
     "name": "stdout",
     "output_type": "stream",
     "text": [
      "📉 Train=0.0110 | Val=0.0041 | Val sMAPE=6.03%\n",
      "\n",
      "===== Epoch 292/300 =====\n"
     ]
    },
    {
     "name": "stderr",
     "output_type": "stream",
     "text": [
      "                                                        \r"
     ]
    },
    {
     "name": "stdout",
     "output_type": "stream",
     "text": [
      "📉 Train=0.0103 | Val=0.0041 | Val sMAPE=5.54%\n",
      "\n",
      "===== Epoch 293/300 =====\n"
     ]
    },
    {
     "name": "stderr",
     "output_type": "stream",
     "text": [
      "                                                        \r"
     ]
    },
    {
     "name": "stdout",
     "output_type": "stream",
     "text": [
      "📉 Train=0.0101 | Val=0.0040 | Val sMAPE=6.07%\n",
      "\n",
      "===== Epoch 294/300 =====\n"
     ]
    },
    {
     "name": "stderr",
     "output_type": "stream",
     "text": [
      "                                                        \r"
     ]
    },
    {
     "name": "stdout",
     "output_type": "stream",
     "text": [
      "📉 Train=0.0118 | Val=0.0046 | Val sMAPE=5.87%\n",
      "\n",
      "===== Epoch 295/300 =====\n"
     ]
    },
    {
     "name": "stderr",
     "output_type": "stream",
     "text": [
      "                                                        \r"
     ]
    },
    {
     "name": "stdout",
     "output_type": "stream",
     "text": [
      "📉 Train=0.0130 | Val=0.0045 | Val sMAPE=5.97%\n",
      "\n",
      "===== Epoch 296/300 =====\n"
     ]
    },
    {
     "name": "stderr",
     "output_type": "stream",
     "text": [
      "                                                        \r"
     ]
    },
    {
     "name": "stdout",
     "output_type": "stream",
     "text": [
      "📉 Train=0.0107 | Val=0.0041 | Val sMAPE=5.55%\n",
      "\n",
      "===== Epoch 297/300 =====\n"
     ]
    },
    {
     "name": "stderr",
     "output_type": "stream",
     "text": [
      "                                                        \r"
     ]
    },
    {
     "name": "stdout",
     "output_type": "stream",
     "text": [
      "📉 Train=0.0121 | Val=0.0041 | Val sMAPE=5.93%\n",
      "\n",
      "===== Epoch 298/300 =====\n"
     ]
    },
    {
     "name": "stderr",
     "output_type": "stream",
     "text": [
      "                                                        \r"
     ]
    },
    {
     "name": "stdout",
     "output_type": "stream",
     "text": [
      "📉 Train=0.0127 | Val=0.0039 | Val sMAPE=5.93%\n",
      "\n",
      "===== Epoch 299/300 =====\n"
     ]
    },
    {
     "name": "stderr",
     "output_type": "stream",
     "text": [
      "                                                        \r"
     ]
    },
    {
     "name": "stdout",
     "output_type": "stream",
     "text": [
      "📉 Train=0.0113 | Val=0.0038 | Val sMAPE=5.80%\n",
      "\n",
      "===== Epoch 300/300 =====\n"
     ]
    },
    {
     "name": "stderr",
     "output_type": "stream",
     "text": [
      "C:\\Users\\x515a\\AppData\\Local\\Temp\\ipykernel_9248\\3199010961.py:516: UserWarning: Glyph 128201 (\\N{CHART WITH DOWNWARDS TREND}) missing from current font.\n",
      "  plt.tight_layout()\n",
      "C:\\Users\\x515a\\AppData\\Local\\Temp\\ipykernel_9248\\3199010961.py:516: UserWarning: Glyph 128200 (\\N{CHART WITH UPWARDS TREND}) missing from current font.\n",
      "  plt.tight_layout()\n"
     ]
    },
    {
     "name": "stdout",
     "output_type": "stream",
     "text": [
      "📉 Train=0.0107 | Val=0.0041 | Val sMAPE=5.77%\n"
     ]
    },
    {
     "data": {
      "image/png": "[encoded data removed]",
      "text/plain": [
       "<Figure size 1200x500 with 2 Axes>"
      ]
     },
     "metadata": {},
     "output_type": "display_data"
    },
    {
     "name": "stdout",
     "output_type": "stream",
     "text": [
      "\n",
      "=== 🧪 Final Evaluation with SWA Model ===\n",
      "🧪 Using SWA model for evaluation...\n"
     ]
    },
    {
     "name": "stderr",
     "output_type": "stream",
     "text": [
      "C:\\Users\\x515a\\AppData\\Local\\Temp\\ipykernel_9248\\3199010961.py:493: UserWarning: Glyph 9989 (\\N{WHITE HEAVY CHECK MARK}) missing from current font.\n",
      "  plt.tight_layout()\n"
     ]
    },
    {
     "name": "stdout",
     "output_type": "stream",
     "text": [
      "\n",
      "============================================================\n",
      "✅ FINAL TEST RESULTS (RUL_CLIP=130):\n",
      "📊 MSE=118.80 | MAE=3.53 | RMSE=10.90\n",
      "📈 R²=0.9082 | sMAPE=5.83% | MAE%Max=2.71%\n",
      "============================================================\n"
     ]
    },
    {
     "name": "stderr",
     "output_type": "stream",
     "text": [
      "C:\\Users\\x515a\\AppData\\Local\\Packages\\PythonSoftwareFoundation.Python.3.12_qbz5n2kfra8p0\\LocalCache\\local-packages\\Python312\\site-packages\\IPython\\core\\pylabtools.py:152: UserWarning: Glyph 9989 (\\N{WHITE HEAVY CHECK MARK}) missing from current font.\n",
      "  fig.canvas.print_figure(bytes_io, **kw)\n"
     ]
    },
    {
     "data": {
      "image/png": "[encoded data removed]",
      "text/plain": [
       "<Figure size 1000x500 with 1 Axes>"
      ]
     },
     "metadata": {},
     "output_type": "display_data"
    }
   ],
   "source": [
    "import os\n",
    "import math\n",
    "import random\n",
    "from pathlib import Path\n",
    "\n",
    "import numpy as np\n",
    "import pandas as pd\n",
    "from tqdm import tqdm\n",
    "from scipy.stats import kurtosis\n",
    "\n",
    "import torch\n",
    "import torch.nn as nn\n",
    "import torch.nn.functional as F\n",
    "from torch.utils.data import Dataset, DataLoader\n",
    "from torch.optim.lr_scheduler import CosineAnnealingLR\n",
    "from torch.optim.swa_utils import AveragedModel, SWALR\n",
    "from sklearn.metrics import mean_squared_error, mean_absolute_error, r2_score\n",
    "import matplotlib.pyplot as plt\n",
    "import seaborn as sns\n",
    "\n",
    "# ========== تنظیمات بهینه شده برای مقاله ==========\n",
    "BASE_DIR = Path(r\"D:\\DRIVE\\UNI\\moviZ\\TERM8\\ANN-article--AzRiz\\OurWorks\\Data-description\\phase1\")\n",
    "REVERSED_FOLDER = \"reversed\"\n",
    "CACHE_DIR = Path(\"cache_article_ready_vfinal\")\n",
    "CACHE_DIR.mkdir(exist_ok=True, parents=True)\n",
    "\n",
    "TARGET_LEN = 2048\n",
    "SMOOTH_KERNEL = 7\n",
    "BATCH_SIZE = 64\n",
    "ACCUM_STEPS = 2\n",
    "EPOCHS = 300\n",
    "LR = 3e-4\n",
    "MIN_LR = 1e-6\n",
    "WARMUP_EPOCHS = 10\n",
    "WEIGHT_DECAY = 1e-4\n",
    "PATIENCE = 100\n",
    "VAL_RATIO = 0.15\n",
    "TEST_RATIO = 0.15\n",
    "SEED = 42\n",
    "AUGMENT = True\n",
    "DEBUG = False\n",
    "RUL_CLIP = 130\n",
    "USE_HUBER_LOSS = True\n",
    "USE_TTA = True\n",
    "SWA_START = 150\n",
    "\n",
    "# ========== تنظیم seed و دستگاه ==========\n",
    "random.seed(SEED)\n",
    "np.random.seed(SEED)\n",
    "torch.manual_seed(SEED)\n",
    "if torch.cuda.is_available():\n",
    "    torch.cuda.manual_seed_all(SEED)\n",
    "    torch.backends.cudnn.deterministic = True\n",
    "    torch.backends.cudnn.benchmark = False\n",
    "\n",
    "device = torch.device('cuda' if torch.cuda.is_available() else 'cpu')\n",
    "print(f\"🚀 Using device: {device}\")\n",
    "\n",
    "# ========== توابع پیش‌پردازش ==========\n",
    "def smooth_signal(x, kernel=SMOOTH_KERNEL):\n",
    "    if kernel is None or kernel <= 1:\n",
    "        return x.astype(np.float32, copy=False)\n",
    "    k = np.ones(kernel, dtype=np.float32) / kernel\n",
    "    return np.convolve(x.astype(np.float32, copy=False), k, mode='same')\n",
    "\n",
    "def downsample_avg(signal, target_len):\n",
    "    if len(signal) == target_len:\n",
    "        return signal.astype(np.float32, copy=False)\n",
    "    parts = np.array_split(signal, target_len)\n",
    "    return np.array([p.mean(dtype=np.float32) for p in parts], dtype=np.float32)\n",
    "\n",
    "def clip_signal(signal, clip_percentile=99.5):\n",
    "    clip_value = np.percentile(np.abs(signal), clip_percentile)\n",
    "    return np.clip(signal, -clip_value, clip_value)\n",
    "\n",
    "def frequency_augmentation(signal, scale_range=(0.85, 1.15)):\n",
    "    freq = np.fft.fft(signal)\n",
    "    scale = np.random.uniform(*scale_range)\n",
    "    freq = freq * scale\n",
    "    return np.fft.ifft(freq).real.astype(np.float32)\n",
    "\n",
    "def mixup_data(x, y, alpha=0.2):\n",
    "    if alpha > 0:\n",
    "        lam = np.random.beta(alpha, alpha)\n",
    "    else:\n",
    "        lam = 1\n",
    "    batch_size = x.size(0)\n",
    "    index = torch.randperm(batch_size)\n",
    "    mixed_x = lam * x + (1 - lam) * x[index, :]\n",
    "    y_a, y_b = y, y[index]\n",
    "    return mixed_x, y_a, y_b, lam\n",
    "\n",
    "def get_all_files(base_dir):\n",
    "    files = list(base_dir.rglob(f\"*/{REVERSED_FOLDER}/*.csv\"))\n",
    "    return sorted([f for f in files if f.is_file()])\n",
    "\n",
    "def find_degradation_start(signals):\n",
    "    kurt = np.array([kurtosis(s) for s in signals])\n",
    "    kurt = smooth_signal(kurt, kernel=5)\n",
    "    normal_end = min(50, len(kurt) // 5)\n",
    "    mean_normal = np.mean(kurt[:normal_end])\n",
    "    std_normal = np.std(kurt[:normal_end])\n",
    "    threshold = mean_normal + 3 * std_normal\n",
    "    for i in range(normal_end, len(kurt)):\n",
    "        if kurt[i] > threshold:\n",
    "            return i\n",
    "    return len(kurt) // 2\n",
    "\n",
    "def preprocess_and_cache(files):\n",
    "    print(\"📦 Preprocessing & Caching (once)...\")\n",
    "    X_list, y_list = [], []\n",
    "    max_rul = 0.0\n",
    "    for f in tqdm(files):\n",
    "        df = pd.read_csv(f, header=None, dtype=np.float32)\n",
    "        sigs = df.iloc[:, :-1].values\n",
    "        labels = df.iloc[:, -1].values.astype(np.float32)\n",
    "        if labels.size == 0:\n",
    "            continue\n",
    "        deg_start = find_degradation_start(sigs)\n",
    "        rul_at_start = labels[deg_start]\n",
    "        adjusted_labels = labels.copy()\n",
    "        adjusted_labels[:deg_start] = rul_at_start\n",
    "        adjusted_labels = np.clip(adjusted_labels, 0, RUL_CLIP)\n",
    "        max_rul = max(max_rul, float(adjusted_labels.max()))\n",
    "        for sig, lab in zip(sigs, adjusted_labels):\n",
    "            sig = clip_signal(sig)\n",
    "            if SMOOTH_KERNEL > 1:\n",
    "                sig = smooth_signal(sig, SMOOTH_KERNEL)\n",
    "            sig_ds = downsample_avg(sig, TARGET_LEN)\n",
    "            X_list.append(sig_ds)\n",
    "            y_list.append(lab)\n",
    "    X = np.asarray(X_list, dtype=np.float32)\n",
    "    y = np.asarray(y_list, dtype=np.float32)\n",
    "    np.save(CACHE_DIR / \"X_raw.npy\", X)\n",
    "    np.save(CACHE_DIR / \"y.npy\", y)\n",
    "    np.save(CACHE_DIR / \"max_rul.npy\", np.array([max_rul], dtype=np.float32))\n",
    "    print(f\"✅ Cached raw: X={X.shape}, y={y.shape}, max_rul={max_rul:.2f}\")\n",
    "\n",
    "def load_cached_raw():\n",
    "    X = np.load(CACHE_DIR / \"X_raw.npy\")\n",
    "    y = np.load(CACHE_DIR / \"y.npy\")\n",
    "    max_rul = float(np.load(CACHE_DIR / \"max_rul.npy\")[0])\n",
    "    return X, y, max_rul\n",
    "\n",
    "def split_indices(n_samples, test_ratio=TEST_RATIO, val_ratio=VAL_RATIO, seed=SEED):\n",
    "    idx = np.arange(n_samples)\n",
    "    rng = np.random.RandomState(seed)\n",
    "    rng.shuffle(idx)\n",
    "    n_test = int(test_ratio * n_samples)\n",
    "    n_val = int(val_ratio * (n_samples - n_test))\n",
    "    return idx[n_test + n_val:], idx[n_test:n_test + n_val], idx[:n_test]\n",
    "\n",
    "def compute_train_norm_stats(X_train):\n",
    "    mean = X_train.mean(axis=0, dtype=np.float64).astype(np.float32)\n",
    "    std = X_train.std(axis=0, dtype=np.float64).astype(np.float32)\n",
    "    std[std < 1e-6] = 1.0\n",
    "    return mean, std\n",
    "\n",
    "# ========== دیتاست ==========\n",
    "class BearingDataset(Dataset):\n",
    "    def __init__(self, X, y, max_rul, mean, std, train=False, augment=AUGMENT):\n",
    "        self.X_raw = X\n",
    "        self.y_raw = y\n",
    "        self.y = (y / max_rul).astype(np.float32)\n",
    "        self.max_rul = max_rul\n",
    "        self.mean, self.std = mean, std\n",
    "        self.augment = augment and train\n",
    "        self.noise_scale = 0.015\n",
    "        self.shift_max = 12\n",
    "        self.scale_range = (0.85, 1.15)\n",
    "        self.freq_scale_range = (0.8, 1.2)\n",
    "\n",
    "    def __len__(self):\n",
    "        return len(self.X_raw)\n",
    "\n",
    "    def __getitem__(self, idx):\n",
    "        x = self.X_raw[idx].copy()\n",
    "        if self.augment:\n",
    "            noise = np.random.normal(0, self.noise_scale * self.std, size=x.shape).astype(np.float32)\n",
    "            x = x + noise\n",
    "            shift = np.random.randint(-self.shift_max, self.shift_max)\n",
    "            x = np.roll(x, shift)\n",
    "            scale = np.random.uniform(*self.scale_range)\n",
    "            x = x * scale\n",
    "            if np.random.random() < 0.5:\n",
    "                x = frequency_augmentation(x, self.freq_scale_range)\n",
    "        x = ((x - self.mean) / self.std).astype(np.float32)\n",
    "        weight = max(1.0, (self.max_rul - self.y_raw[idx]) / 50.0)\n",
    "        return torch.from_numpy(x).unsqueeze(0), torch.tensor(self.y[idx], dtype=torch.float32), torch.tensor(weight, dtype=torch.float32)\n",
    "\n",
    "# ========== مدل ==========\n",
    "class SEBlock(nn.Module):\n",
    "    def __init__(self, channel, reduction=8):\n",
    "        super(SEBlock, self).__init__()\n",
    "        self.avg_pool = nn.AdaptiveAvgPool1d(1)\n",
    "        self.fc = nn.Sequential(\n",
    "            nn.Linear(channel, channel // reduction, bias=False),\n",
    "            nn.ReLU(inplace=True),\n",
    "            nn.Linear(channel // reduction, channel, bias=False),\n",
    "            nn.Sigmoid()\n",
    "        )\n",
    "\n",
    "    def forward(self, x):\n",
    "        b, c, _ = x.size()\n",
    "        y = self.avg_pool(x).view(b, c)\n",
    "        y = self.fc(y).view(b, c, 1)\n",
    "        return x * y.expand_as(x)\n",
    "\n",
    "class OptimizedModel(nn.Module):\n",
    "    def __init__(self, input_len=TARGET_LEN):\n",
    "        super().__init__()\n",
    "        self.conv1_large = nn.Sequential(\n",
    "            nn.Conv1d(1, 32, kernel_size=15, padding=7),\n",
    "            nn.ReLU(inplace=True),\n",
    "            nn.BatchNorm1d(32, momentum=0.1),\n",
    "            nn.Dropout1d(0.1),\n",
    "            nn.MaxPool1d(3)\n",
    "        )\n",
    "        self.conv1_small = nn.Sequential(\n",
    "            nn.Conv1d(1, 32, kernel_size=5, padding=2),\n",
    "            nn.ReLU(inplace=True),\n",
    "            nn.BatchNorm1d(32, momentum=0.1),\n",
    "            nn.Dropout1d(0.1),\n",
    "            nn.MaxPool1d(3)\n",
    "        )\n",
    "        self.conv2 = nn.Sequential(\n",
    "            nn.Conv1d(64, 128, kernel_size=7, padding=3),\n",
    "            nn.ReLU(inplace=True),\n",
    "            nn.BatchNorm1d(128, momentum=0.1),\n",
    "            nn.Dropout1d(0.15),\n",
    "            nn.MaxPool1d(3)\n",
    "        )\n",
    "        self.se_block = SEBlock(128, reduction=8)\n",
    "        self.conv3 = nn.Sequential(\n",
    "            nn.Conv1d(128, 192, kernel_size=5, padding=2),\n",
    "            nn.ReLU(inplace=True),\n",
    "            nn.BatchNorm1d(192, momentum=0.1),\n",
    "            nn.Dropout1d(0.2),\n",
    "            nn.MaxPool1d(3)\n",
    "        )\n",
    "        self.conv3_extra = nn.Sequential(\n",
    "            nn.Conv1d(192, 256, kernel_size=5, padding=2),\n",
    "            nn.ReLU(inplace=True),\n",
    "            nn.BatchNorm1d(256, momentum=0.1),\n",
    "            nn.Dropout1d(0.25),\n",
    "            nn.MaxPool1d(3)\n",
    "        )\n",
    "        self.conv4 = nn.Sequential(\n",
    "            nn.Conv1d(256, 320, kernel_size=3, padding=1),\n",
    "            nn.ReLU(inplace=True),\n",
    "            nn.BatchNorm1d(320, momentum=0.1),\n",
    "            nn.AdaptiveAvgPool1d(16)\n",
    "        )\n",
    "\n",
    "        with torch.no_grad():\n",
    "            dummy = torch.zeros(1, 1, input_len)\n",
    "            out1 = self.conv1_large(dummy)\n",
    "            out2 = self.conv1_small(dummy)\n",
    "            out = torch.cat([out1, out2], dim=1)\n",
    "            out = self.conv2(out)\n",
    "            out = self.se_block(out)\n",
    "            out = self.conv3(out)\n",
    "            out = self.conv3_extra(out)\n",
    "            out = self.conv4(out)\n",
    "            output_length = out.size(2)\n",
    "            output_channels = out.size(1)\n",
    "\n",
    "        total_downsample = input_len // output_length\n",
    "        self.shortcut = nn.Sequential(\n",
    "            nn.Conv1d(1, output_channels, kernel_size=1, stride=total_downsample),\n",
    "            nn.BatchNorm1d(output_channels, momentum=0.1)\n",
    "        )\n",
    "\n",
    "        self.gru = nn.GRU(input_size=320, hidden_size=160, num_layers=2, batch_first=True, bidirectional=True, dropout=0.3)\n",
    "        self.attn = nn.MultiheadAttention(embed_dim=320, num_heads=8, dropout=0.15, batch_first=True)\n",
    "        self.classifier = nn.Sequential(\n",
    "            nn.Dropout(0.5),\n",
    "            nn.Linear(320, 320),\n",
    "            nn.ReLU(inplace=True),\n",
    "            nn.LayerNorm(320),\n",
    "            nn.Dropout(0.4),\n",
    "            nn.Linear(320, 192),\n",
    "            nn.ReLU(inplace=True),\n",
    "            nn.LayerNorm(192),\n",
    "            nn.Dropout(0.3),\n",
    "            nn.Linear(192, 96),\n",
    "            nn.ReLU(inplace=True),\n",
    "            nn.LayerNorm(96),\n",
    "            nn.Dropout(0.2),\n",
    "            nn.Linear(96, 1)\n",
    "        )\n",
    "\n",
    "    def forward(self, x):\n",
    "        residual = self.shortcut(x)\n",
    "        x1 = self.conv1_large(x)\n",
    "        x2 = self.conv1_small(x)\n",
    "        x = torch.cat([x1, x2], dim=1)\n",
    "        x = self.conv2(x)\n",
    "        x = self.se_block(x)\n",
    "        x = self.conv3(x)\n",
    "        x = self.conv3_extra(x)\n",
    "        x = self.conv4(x)\n",
    "        x = x + residual\n",
    "        x = x.permute(0, 2, 1)\n",
    "        x, _ = self.gru(x)\n",
    "        x = self.attn(x, x, x)[0]\n",
    "        x = x.mean(dim=1)\n",
    "        x = self.classifier(x)\n",
    "        return x.squeeze(1)\n",
    "\n",
    "# ========== Loss و Train ==========\n",
    "def smape_loss(pred, y):\n",
    "    return torch.mean(2 * torch.abs(pred - y) / (torch.abs(pred) + torch.abs(y) + 1e-8))\n",
    "\n",
    "def huber_loss(pred, y, delta=1.0):\n",
    "    err = pred - y\n",
    "    abs_err = torch.abs(err)\n",
    "    quadratic = torch.clamp(abs_err, max=delta)\n",
    "    linear = abs_err - quadratic\n",
    "    return torch.mean(0.5 * quadratic**2 + delta * linear)\n",
    "\n",
    "def fit(model, train_loader, val_loader, max_epochs, base_lr, min_lr, warmup_epochs, weight_decay, patience, device, swa_start):\n",
    "    if USE_HUBER_LOSS:\n",
    "        criterion = huber_loss\n",
    "    else:\n",
    "        criterion = nn.MSELoss()\n",
    "\n",
    "    optimizer = torch.optim.AdamW(model.parameters(), lr=base_lr, weight_decay=weight_decay)\n",
    "    scheduler = CosineAnnealingLR(optimizer, T_max=max_epochs - warmup_epochs, eta_min=min_lr)\n",
    "    swa_model = AveragedModel(model)\n",
    "    swa_scheduler = SWALR(optimizer, swa_lr=base_lr * 0.1)\n",
    "\n",
    "    model = model.to(device)\n",
    "    best_val = float('inf')\n",
    "    best_ep = -1\n",
    "    history = {\"train\": [], \"val\": [], \"val_smape\": []}\n",
    "\n",
    "    for epoch in range(1, max_epochs + 1):\n",
    "        print(f\"\\n===== Epoch {epoch}/{max_epochs} =====\")\n",
    "        if epoch <= warmup_epochs:\n",
    "            lr = base_lr * (epoch / warmup_epochs)\n",
    "            for param_group in optimizer.param_groups:\n",
    "                param_group['lr'] = lr\n",
    "\n",
    "        model.train()\n",
    "        train_loss, n = 0, 0\n",
    "        optimizer.zero_grad()\n",
    "        for i, (X, y, w) in enumerate(tqdm(train_loader, desc=\"Train\", leave=False)):\n",
    "            X, y, w = X.to(device), y.to(device), w.to(device)\n",
    "            if np.random.random() < 0.4:\n",
    "                X, y_a, y_b, lam = mixup_data(X, y, alpha=0.2)\n",
    "                pred = model(X)\n",
    "                if USE_HUBER_LOSS:\n",
    "                    loss_a = huber_loss(pred, y_a)\n",
    "                    loss_b = huber_loss(pred, y_b)\n",
    "                    mse_loss = lam * loss_a + (1 - lam) * loss_b\n",
    "                else:\n",
    "                    mse_loss = lam * criterion(pred, y_a) + (1 - lam) * criterion(pred, y_b)\n",
    "                smape = lam * smape_loss(pred, y_a) + (1 - lam) * smape_loss(pred, y_b)\n",
    "            else:\n",
    "                pred = model(X)\n",
    "                if USE_HUBER_LOSS:\n",
    "                    mse_loss = huber_loss(pred, y)\n",
    "                else:\n",
    "                    mse_loss = criterion(pred, y)\n",
    "                smape = smape_loss(pred, y)\n",
    "\n",
    "            l1_loss = torch.mean(torch.abs(pred - y)) * 0.02\n",
    "            loss = mse_loss + 0.03 * smape + l1_loss\n",
    "            loss = loss / ACCUM_STEPS\n",
    "            loss.backward()\n",
    "\n",
    "            if (i + 1) % ACCUM_STEPS == 0 or (i + 1) == len(train_loader):\n",
    "                torch.nn.utils.clip_grad_norm_(model.parameters(), max_norm=0.5)\n",
    "                optimizer.step()\n",
    "                optimizer.zero_grad()\n",
    "\n",
    "            train_loss += loss.item() * X.size(0) * ACCUM_STEPS\n",
    "            n += X.size(0)\n",
    "\n",
    "        train_loss /= n\n",
    "\n",
    "        model.eval()\n",
    "        val_loss, val_smape, n = 0, 0, 0\n",
    "        with torch.no_grad():\n",
    "            for X, y, _ in tqdm(val_loader, desc=\"Val\", leave=False):\n",
    "                X, y = X.to(device), y.to(device)\n",
    "                pred = model(X)\n",
    "                if USE_HUBER_LOSS:\n",
    "                    loss = huber_loss(pred, y)\n",
    "                else:\n",
    "                    loss = criterion(pred, y)\n",
    "                val_loss += loss.item() * X.size(0)\n",
    "                val_smape += (2 * torch.abs(pred - y) / (torch.abs(pred) + torch.abs(y) + 1e-8)).mean().item() * X.size(0)\n",
    "                n += X.size(0)\n",
    "        val_loss /= n\n",
    "        val_smape = 100 * val_smape / n\n",
    "\n",
    "        history[\"train\"].append(train_loss)\n",
    "        history[\"val\"].append(val_loss)\n",
    "        history[\"val_smape\"].append(val_smape)\n",
    "        print(f\"📉 Train={train_loss:.4f} | Val={val_loss:.4f} | Val sMAPE={val_smape:.2f}%\")\n",
    "\n",
    "        if epoch > warmup_epochs:\n",
    "            if epoch < swa_start:\n",
    "                scheduler.step()\n",
    "            else:\n",
    "                swa_model.update_parameters(model)\n",
    "                swa_scheduler.step()\n",
    "\n",
    "        if val_loss < best_val - 1e-5:\n",
    "            best_val = val_loss\n",
    "            best_ep = epoch\n",
    "            torch.save(model.state_dict(), CACHE_DIR / \"best_model.pth\")\n",
    "            print(\"✅ (best).\")\n",
    "        elif epoch - best_ep >= patience:\n",
    "            print(\"⏹️ Early stopping.\")\n",
    "            break\n",
    "\n",
    "    torch.save(swa_model.state_dict(), CACHE_DIR / \"swa_model.pth\")\n",
    "    return history, swa_model\n",
    "\n",
    "# ========== TTA ==========\n",
    "def tta_predict(model, x, n_aug=7):\n",
    "    model.eval()\n",
    "    preds = []\n",
    "    with torch.no_grad():\n",
    "        for _ in range(n_aug):\n",
    "            x_aug = x.clone()\n",
    "            if np.random.random() < 0.6:\n",
    "                noise = torch.randn_like(x_aug) * 0.01\n",
    "                x_aug += noise\n",
    "            if np.random.random() < 0.5:\n",
    "                shift = np.random.randint(-5, 5)\n",
    "                x_aug = torch.roll(x_aug, shifts=shift, dims=-1)\n",
    "            if np.random.random() < 0.5:\n",
    "                scale = np.random.uniform(0.95, 1.05)\n",
    "                x_aug = x_aug * scale\n",
    "            pred = model(x_aug)\n",
    "            preds.append(pred)\n",
    "    return torch.stack(preds).mean(dim=0)\n",
    "\n",
    "# ========== ارزیابی تست — بدون Confusion Matrix — با اصلاح دستگاه ==========\n",
    "def evaluate_test(model, test_loader, max_rul, use_swa=False, swa_model=None):\n",
    "    if use_swa and swa_model is not None:\n",
    "        model = swa_model\n",
    "        model = model.to(device)  # ✅ اصلاح مهم: انتقال مدل به دستگاه صحیح\n",
    "        model.eval()\n",
    "        print(\"🧪 Using SWA model for evaluation...\")\n",
    "    else:\n",
    "        model.load_state_dict(torch.load(CACHE_DIR / \"best_model.pth\", map_location=device))\n",
    "        model = model.to(device)\n",
    "        print(\"🧪 Using best model for evaluation...\")\n",
    "\n",
    "    model.eval()\n",
    "    preds, trues = [], []\n",
    "    with torch.no_grad():\n",
    "        for batch in tqdm(test_loader, desc=\"Test\", leave=False):\n",
    "            X, y, _ = batch\n",
    "            X, y = X.to(device), y.to(device)\n",
    "            if USE_TTA:\n",
    "                pred = tta_predict(model, X, n_aug=7)\n",
    "            else:\n",
    "                pred = model(X)\n",
    "            pred = pred.cpu().numpy() * max_rul\n",
    "            true = y.cpu().numpy() * max_rul\n",
    "            preds.extend(pred.tolist())\n",
    "            trues.extend(true.tolist())\n",
    "\n",
    "    preds, trues = np.array(preds), np.array(trues)\n",
    "    mse = mean_squared_error(trues, preds)\n",
    "    mae = mean_absolute_error(trues, preds)\n",
    "    rmse = math.sqrt(mse)\n",
    "    r2 = r2_score(trues, preds)\n",
    "    smape = 100 * np.mean(2 * np.abs(preds - trues) / (np.abs(preds) + np.abs(trues) + 1e-8))\n",
    "    mae_pct = 100 * mae / (trues.max() if trues.max() > 0 else 1.0)\n",
    "\n",
    "    print(f\"\\n\" + \"=\"*60)\n",
    "    print(f\"✅ FINAL TEST RESULTS (RUL_CLIP={RUL_CLIP}):\")\n",
    "    print(f\"📊 MSE={mse:.2f} | MAE={mae:.2f} | RMSE={rmse:.2f}\")\n",
    "    print(f\"📈 R²={r2:.4f} | sMAPE={smape:.2f}% | MAE%Max={mae_pct:.2f}%\")\n",
    "    print(\"=\"*60)\n",
    "\n",
    "    # فقط نمودار پراکندگی — بدون Confusion Matrix\n",
    "    plt.figure(figsize=(10, 5))\n",
    "    plt.scatter(trues, preds, alpha=0.6, color='#1f77b4', edgecolors='w', linewidth=0.5, label=\"Predictions\")\n",
    "    plt.plot([trues.min(), trues.max()], [trues.min(), trues.max()], 'r--', lw=2, label=\"Ideal Fit\")\n",
    "    plt.xlabel(\"True RUL\", fontsize=12)\n",
    "    plt.ylabel(\"Predicted RUL\", fontsize=12)\n",
    "    plt.title(\"✅ Predicted vs True RUL (Optimized Model — Article Ready)\", fontsize=14, fontweight='bold')\n",
    "    plt.legend()\n",
    "    plt.grid(True, alpha=0.3)\n",
    "    plt.tight_layout()\n",
    "    plt.show()\n",
    "\n",
    "    return preds, trues\n",
    "\n",
    "def plot_history(history):\n",
    "    plt.figure(figsize=(12, 5))\n",
    "    plt.subplot(1, 2, 1)\n",
    "    plt.plot(history[\"train\"], label=\"Train Loss\", color='blue', lw=2)\n",
    "    plt.plot(history[\"val\"], label=\"Validation Loss\", color='orange', lw=2)\n",
    "    plt.xlabel(\"Epoch\")\n",
    "    plt.ylabel(\"Loss\")\n",
    "    plt.title(\"📉 Training & Validation Loss\")\n",
    "    plt.legend()\n",
    "    plt.grid(True, alpha=0.3)\n",
    "\n",
    "    plt.subplot(1, 2, 2)\n",
    "    plt.plot(history[\"val_smape\"], label=\"Validation sMAPE%\", color='green', lw=2)\n",
    "    plt.xlabel(\"Epoch\")\n",
    "    plt.ylabel(\"sMAPE %\")\n",
    "    plt.title(\"📈 Validation sMAPE Over Time\")\n",
    "    plt.legend()\n",
    "    plt.grid(True, alpha=0.3)\n",
    "    plt.tight_layout()\n",
    "    plt.show()\n",
    "\n",
    "# ========== اجرای نهایی — با یک evaluate (SWA) ==========\n",
    "def run():\n",
    "    if not (CACHE_DIR / \"X_raw.npy\").exists():\n",
    "        files = get_all_files(BASE_DIR)\n",
    "        if not files:\n",
    "            raise RuntimeError(\"reversed not found\")\n",
    "        preprocess_and_cache(files)\n",
    "\n",
    "    X_raw, y, max_rul = load_cached_raw()\n",
    "    train_idx, val_idx, test_idx = split_indices(len(X_raw))\n",
    "    mean, std = compute_train_norm_stats(X_raw[train_idx])\n",
    "\n",
    "    train_ds = BearingDataset(X_raw[train_idx], y[train_idx], max_rul, mean, std, train=True)\n",
    "    val_ds = BearingDataset(X_raw[val_idx], y[val_idx], max_rul, mean, std)\n",
    "    test_ds = BearingDataset(X_raw[test_idx], y[test_idx], max_rul, mean, std)\n",
    "\n",
    "    train_loader = DataLoader(train_ds, batch_size=BATCH_SIZE, shuffle=True, num_workers=0)\n",
    "    val_loader = DataLoader(val_ds, batch_size=BATCH_SIZE, num_workers=0)\n",
    "    test_loader = DataLoader(test_ds, batch_size=BATCH_SIZE, num_workers=0)\n",
    "\n",
    "    model = OptimizedModel(TARGET_LEN)\n",
    "    history, swa_model = fit(model, train_loader, val_loader, EPOCHS, LR, MIN_LR, WARMUP_EPOCHS, WEIGHT_DECAY, PATIENCE, device, SWA_START)\n",
    "    plot_history(history)\n",
    "\n",
    "    # ✅ فقط یک بار ارزیابی — با مدل SWA (بهترین نتیجه)\n",
    "    print(\"\\n=== 🧪 Final Evaluation with SWA Model ===\")\n",
    "    evaluate_test(model, test_loader, max_rul, use_swa=True, swa_model=swa_model)\n",
    "\n",
    "if __name__ == \"__main__\":\n",
    "    run()"
   ]
  }
 ],
 "metadata": {
  "kernelspec": {
   "display_name": "Python 3",
   "language": "python",
   "name": "python3"
  },
  "language_info": {
   "codemirror_mode": {
    "name": "ipython",
    "version": 3
   },
   "file_extension": ".py",
   "mimetype": "text/x-python",
   "name": "python",
   "nbconvert_exporter": "python",
   "pygments_lexer": "ipython3",
   "version": "3.12.10"
  }
 },
 "nbformat": 4,
 "nbformat_minor": 5
}
