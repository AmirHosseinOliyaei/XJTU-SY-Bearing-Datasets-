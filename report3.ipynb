{
 "cells": [
  {
   "cell_type": "markdown",
   "id": "22a7c2e7",
   "metadata": {},
   "source": [
    "<div style=\"direction: rtl; text-align: right;\">\n",
    "\n",
    "# گزارش مدل (1D CNN با GRU و SEBlock)\n",
    "\n",
    "## ۱. خواندن و آماده‌سازی داده‌ها\n",
    "\n",
    "### پیش‌پردازش\n",
    "- **خواندن داده‌ها**:\n",
    "  - فایل‌های CSV با استفاده از `pd.read_csv` خوانده می‌شوند.\n",
    "  - سیگنال‌ها (`sigs`) و برچسب‌ها (`labels`) جدا می‌شوند.\n",
    "- **پردازش سیگنال‌ها**:\n",
    "  - محدود کردن مقادیر خارج از ۹۹.۵ درصدile با `clip_signal`.\n",
    "  - صاف‌سازی سیگنال‌ها با `smooth_signal` و هسته ۷.\n",
    "  - کاهش اندازه به طول ثابت ۲۰۴۸ نمونه با `downsample_avg`.\n",
    "- **ذخیره‌سازی**:\n",
    "  - داده‌ها به صورت آرایه‌های NumPy ذخیره شده و در پوشه `cache_fast_norm` کش می‌شوند تا از بارگذاری مجدد جلوگیری شود.\n",
    "\n",
    "### تقسیم داده‌ها\n",
    "- داده‌ها به سه مجموعه تقسیم می‌شوند:\n",
    "  - **آموزشی**: ۶۰٪\n",
    "  - **اعتبارسنجی**: ۲۰٪\n",
    "  - **تست**: ۲۰٪\n",
    "- نرمال‌سازی با میانگین و انحراف معیار مجموعه آموزشی انجام می‌شود.\n",
    "\n",
    "### داده‌افزایی (Augmentation)\n",
    "- در مجموعه آموزشی:\n",
    "  - نویز گاوسی با مقیاس ۰.۰۲\n",
    "  - جابجایی تا حداکثر ۸\n",
    "  - مقیاس‌دهی بین ۰.۹ تا ۱.۱\n",
    "  - افزونگی فرکانسی بین ۰.۸۵ تا ۱.۱۵\n",
    "- احتمال اعمال: ۴۰٪\n",
    "\n",
    "## ۲. تعریف مدل\n",
    "\n",
    "مدل یک شبکه کانولوشنی یک‌بعدی (1D CNN) بهبودیافته با GRU و مکانیزم توجه شامل موارد زیر است:\n",
    "\n",
    "### لایه‌های کانولوشنی\n",
    "- **conv1_large**:\n",
    "  - ۳۲ فیلتر، اندازه هسته ۱۵، پدینگ ۷\n",
    "  - MaxPooling با اندازه ۳\n",
    "- **conv1_small**:\n",
    "  - ۳۲ فیلتر، اندازه هسته ۵، پدینگ ۲\n",
    "  - MaxPooling با اندازه ۳\n",
    "- **ترکیب**:\n",
    "  - خروجی `conv1_large` و `conv1_small` با `torch.cat` ترکیب شده و به ۶۴ کانال می‌رسد.\n",
    "- **conv2**:\n",
    "  - ۱۲۸ فیلتر، هسته ۷، پدینگ ۳\n",
    "  - MaxPooling با اندازه ۳\n",
    "- **conv3**:\n",
    "  - ۱۹۲ فیلتر، هسته ۵، پدینگ ۲\n",
    "  - MaxPooling با اندازه ۳\n",
    "- **conv3_extra**:\n",
    "  - ۲۵۶ فیلتر، هسته ۵، پدینگ ۲\n",
    "  - MaxPooling با اندازه ۳\n",
    "- **conv4**:\n",
    "  - ۳۲۰ فیلتر، هسته ۳، پدینگ ۱\n",
    "  - `AdaptiveAvgPool1d` به طول ۱۶\n",
    "\n",
    "### بلوک Squeeze-and-Excitation (SE)\n",
    "- پس از `conv2`:\n",
    "  - کاهش ۱۶ کانالی برای تنظیم پویای کانال‌ها\n",
    "\n",
    "### Shortcut\n",
    "- مسیر مستقیم با کانولوشن ۱×۱ و BatchNorm برای ادغام با خروجی اصلی\n",
    "\n",
    "### لایه GRU\n",
    "- اندازه ورودی: ۳۲۰\n",
    "- اندازه پنهان: ۱۶۰\n",
    "- تعداد لایه‌ها: ۲\n",
    "- دوجهته\n",
    "- Dropout: ۰.۲۵\n",
    "\n",
    "### مکانیزم توجه (Attention)\n",
    "- اندازه ورودی: ۳۲۰\n",
    "- تعداد سرهای توجه: ۸\n",
    "- Dropout: ۰.۱\n",
    "\n",
    "### لایه‌های Fully Connected\n",
    "- لایه‌های خطی:\n",
    "  - ۳۲۰ → ۳۲۰ → ۱۹۲ → ۹۶ → ۱\n",
    "  - هر لایه با ReLU و Dropout (نسبت‌های ۰.۵، ۰.۴، ۰.۳، ۰.۲)\n",
    "\n",
    "### جریان داده\n",
    "- خروجی‌های کانولوشنی با اتصال کوتاه جمع شده، سپس به GRU منتقل شده، با مکانیزم توجه پردازش شده و در نهایت به طبقه‌بندی‌کننده ارسال می‌شوند.\n",
    "\n",
    "## ۳. یادگیری مدل\n",
    "\n",
    "### بهینه‌سازی\n",
    "- بهینه‌ساز: **AdamW**\n",
    "  - نرخ یادگیری اولیه (گرم‌کردن): `5e-6` برای ۲۰ Epoch اول، سپس `5e-5`\n",
    "  - وزن‌دهی: `1e-4`\n",
    "- تابع هزینه: **MSE Loss** با ترکیب:\n",
    "  - sMAPE با وزن ۰.۰۵\n",
    "  - L1 Loss با وزن ۰.۰۳\n",
    "- محدود کردن گرادیان: حداکثر نورم ۰.۷۵\n",
    "\n",
    "### داده‌افزایی در آموزش\n",
    "- **Mixup**:\n",
    "  - آلفا: ۰.۴\n",
    "  - احتمال: ۴۵٪\n",
    "\n",
    "### برنامه‌ریزی نرخ یادگیری\n",
    "- **ReduceLROnPlateau**:\n",
    "  - فاکتور: ۰.۳\n",
    "  - صبر: ۱۵\n",
    "  - حداقل نرخ یادگیری: `1e-8`\n",
    "\n",
    "### (Early Stopping)\n",
    "- توقف آموزش پس از ۶۰ Epoch بدون بهبود.\n",
    "\n",
    "### حفظ بهترین مدل\n",
    "- ذخیره در: `best_model_cnn_improved.pth` (بر اساس کمترین خطای اعتبارسنجی)\n",
    "\n",
    "## ۴. تست و نمایش نتایج\n",
    "\n",
    "### ارزیابی\n",
    "- معیارها:\n",
    "  - MSE\n",
    "  - MAE\n",
    "  - RMSE\n",
    "  - R²\n",
    "  - sMAPE\n",
    "  - MAE%Max\n",
    "\n",
    "### نمایش گرافیکی\n",
    "- **نمودار پراکندگی**: پیش‌بینی‌شده در مقابل واقعی\n",
    "- **تاریخچه Loss**:\n",
    "  - نمایش Loss آموزشی و اعتبارسنجی\n",
    "\n",
    "## ۵. نتایج\n",
    "\n",
    "### نتایج آموزشی و اعتبارسنجی\n",
    "- **توقف آموزش**: Epoch ۸۲ (Early Stopping پس از ۶۰ Epoch بدون بهبود)\n",
    "- **بهترین عملکرد اعتبارسنجی** (Epoch ۲۲):\n",
    "  - Loss: ۰.۰۰۴۹\n",
    "  - sMAPE: ۲۶.۰۰٪\n",
    "\n",
    "### نتایج تست\n",
    "- **معیارها**:\n",
    "  - MSE: ۳۷۲۶.۴۷\n",
    "  - MAE: ۳۴.۹۷\n",
    "  - RMSE: ۶۱.۰۴\n",
    "  - R²: ۰.۹۶۰۶\n",
    "  - sMAPE: ۲۵.۷۲٪\n",
    "  - MAE%Max: ۴.۰۸٪\n",
    "\n",
    "</div>"
   ]
  },
  {
   "cell_type": "code",
   "execution_count": 2,
   "id": "2cccadbb",
   "metadata": {},
   "outputs": [
    {
     "name": "stdout",
     "output_type": "stream",
     "text": [
      "Using device: cuda\n",
      "\n",
      "===== Epoch 1/300 =====\n"
     ]
    },
    {
     "name": "stderr",
     "output_type": "stream",
     "text": [
      "                                                      \r"
     ]
    },
    {
     "name": "stdout",
     "output_type": "stream",
     "text": [
      "📉 Train=0.3153 | Val=0.1943 | Val sMAPE=136.39%\n",
      "✅ (best).\n",
      "\n",
      "===== Epoch 2/300 =====\n"
     ]
    },
    {
     "name": "stderr",
     "output_type": "stream",
     "text": [
      "                                                      \r"
     ]
    },
    {
     "name": "stdout",
     "output_type": "stream",
     "text": [
      "📉 Train=0.2872 | Val=0.1810 | Val sMAPE=109.64%\n",
      "✅ (best).\n",
      "\n",
      "===== Epoch 3/300 =====\n"
     ]
    },
    {
     "name": "stderr",
     "output_type": "stream",
     "text": [
      "                                                      \r"
     ]
    },
    {
     "name": "stdout",
     "output_type": "stream",
     "text": [
      "📉 Train=0.2525 | Val=0.1533 | Val sMAPE=80.49%\n",
      "✅ (best).\n",
      "\n",
      "===== Epoch 4/300 =====\n"
     ]
    },
    {
     "name": "stderr",
     "output_type": "stream",
     "text": [
      "                                                      \r"
     ]
    },
    {
     "name": "stdout",
     "output_type": "stream",
     "text": [
      "📉 Train=0.1874 | Val=0.0779 | Val sMAPE=56.93%\n",
      "✅ (best).\n",
      "\n",
      "===== Epoch 5/300 =====\n"
     ]
    },
    {
     "name": "stderr",
     "output_type": "stream",
     "text": [
      "                                                      \r"
     ]
    },
    {
     "name": "stdout",
     "output_type": "stream",
     "text": [
      "📉 Train=0.1049 | Val=0.0225 | Val sMAPE=39.46%\n",
      "✅ (best).\n",
      "\n",
      "===== Epoch 6/300 =====\n"
     ]
    },
    {
     "name": "stderr",
     "output_type": "stream",
     "text": [
      "                                                      \r"
     ]
    },
    {
     "name": "stdout",
     "output_type": "stream",
     "text": [
      "📉 Train=0.0732 | Val=0.0102 | Val sMAPE=32.36%\n",
      "✅ (best).\n",
      "\n",
      "===== Epoch 7/300 =====\n"
     ]
    },
    {
     "name": "stderr",
     "output_type": "stream",
     "text": [
      "                                                      \r"
     ]
    },
    {
     "name": "stdout",
     "output_type": "stream",
     "text": [
      "📉 Train=0.0725 | Val=0.0092 | Val sMAPE=32.69%\n",
      "✅ (best).\n",
      "\n",
      "===== Epoch 8/300 =====\n"
     ]
    },
    {
     "name": "stderr",
     "output_type": "stream",
     "text": [
      "                                                      \r"
     ]
    },
    {
     "name": "stdout",
     "output_type": "stream",
     "text": [
      "📉 Train=0.0628 | Val=0.0094 | Val sMAPE=33.10%\n",
      "\n",
      "===== Epoch 9/300 =====\n"
     ]
    },
    {
     "name": "stderr",
     "output_type": "stream",
     "text": [
      "                                                      \r"
     ]
    },
    {
     "name": "stdout",
     "output_type": "stream",
     "text": [
      "📉 Train=0.0653 | Val=0.0075 | Val sMAPE=30.37%\n",
      "✅ (best).\n",
      "\n",
      "===== Epoch 10/300 =====\n"
     ]
    },
    {
     "name": "stderr",
     "output_type": "stream",
     "text": [
      "                                                      \r"
     ]
    },
    {
     "name": "stdout",
     "output_type": "stream",
     "text": [
      "📉 Train=0.0592 | Val=0.0068 | Val sMAPE=29.50%\n",
      "✅ (best).\n",
      "\n",
      "===== Epoch 11/300 =====\n"
     ]
    },
    {
     "name": "stderr",
     "output_type": "stream",
     "text": [
      "                                                      \r"
     ]
    },
    {
     "name": "stdout",
     "output_type": "stream",
     "text": [
      "📉 Train=0.0575 | Val=0.0069 | Val sMAPE=28.20%\n",
      "\n",
      "===== Epoch 12/300 =====\n"
     ]
    },
    {
     "name": "stderr",
     "output_type": "stream",
     "text": [
      "                                                      \r"
     ]
    },
    {
     "name": "stdout",
     "output_type": "stream",
     "text": [
      "📉 Train=0.0608 | Val=0.0071 | Val sMAPE=28.67%\n",
      "\n",
      "===== Epoch 13/300 =====\n"
     ]
    },
    {
     "name": "stderr",
     "output_type": "stream",
     "text": [
      "                                                      \r"
     ]
    },
    {
     "name": "stdout",
     "output_type": "stream",
     "text": [
      "📉 Train=0.0601 | Val=0.0074 | Val sMAPE=29.41%\n",
      "\n",
      "===== Epoch 14/300 =====\n"
     ]
    },
    {
     "name": "stderr",
     "output_type": "stream",
     "text": [
      "                                                      \r"
     ]
    },
    {
     "name": "stdout",
     "output_type": "stream",
     "text": [
      "📉 Train=0.0638 | Val=0.0077 | Val sMAPE=29.96%\n",
      "\n",
      "===== Epoch 15/300 =====\n"
     ]
    },
    {
     "name": "stderr",
     "output_type": "stream",
     "text": [
      "                                                      \r"
     ]
    },
    {
     "name": "stdout",
     "output_type": "stream",
     "text": [
      "📉 Train=0.0665 | Val=0.0075 | Val sMAPE=33.70%\n",
      "\n",
      "===== Epoch 16/300 =====\n"
     ]
    },
    {
     "name": "stderr",
     "output_type": "stream",
     "text": [
      "                                                      \r"
     ]
    },
    {
     "name": "stdout",
     "output_type": "stream",
     "text": [
      "📉 Train=0.0572 | Val=0.0062 | Val sMAPE=29.11%\n",
      "✅ (best).\n",
      "\n",
      "===== Epoch 17/300 =====\n"
     ]
    },
    {
     "name": "stderr",
     "output_type": "stream",
     "text": [
      "                                                      \r"
     ]
    },
    {
     "name": "stdout",
     "output_type": "stream",
     "text": [
      "📉 Train=0.0581 | Val=0.0056 | Val sMAPE=28.20%\n",
      "✅ (best).\n",
      "\n",
      "===== Epoch 18/300 =====\n"
     ]
    },
    {
     "name": "stderr",
     "output_type": "stream",
     "text": [
      "                                                      \r"
     ]
    },
    {
     "name": "stdout",
     "output_type": "stream",
     "text": [
      "📉 Train=0.0520 | Val=0.0061 | Val sMAPE=26.98%\n",
      "\n",
      "===== Epoch 19/300 =====\n"
     ]
    },
    {
     "name": "stderr",
     "output_type": "stream",
     "text": [
      "                                                      \r"
     ]
    },
    {
     "name": "stdout",
     "output_type": "stream",
     "text": [
      "📉 Train=0.0581 | Val=0.0068 | Val sMAPE=29.51%\n",
      "\n",
      "===== Epoch 20/300 =====\n"
     ]
    },
    {
     "name": "stderr",
     "output_type": "stream",
     "text": [
      "                                                      \r"
     ]
    },
    {
     "name": "stdout",
     "output_type": "stream",
     "text": [
      "📉 Train=0.0513 | Val=0.0059 | Val sMAPE=26.32%\n",
      "\n",
      "===== Epoch 21/300 =====\n"
     ]
    },
    {
     "name": "stderr",
     "output_type": "stream",
     "text": [
      "                                                      \r"
     ]
    },
    {
     "name": "stdout",
     "output_type": "stream",
     "text": [
      "📉 Train=0.0560 | Val=0.0074 | Val sMAPE=30.72%\n",
      "\n",
      "===== Epoch 22/300 =====\n"
     ]
    },
    {
     "name": "stderr",
     "output_type": "stream",
     "text": [
      "                                                      \r"
     ]
    },
    {
     "name": "stdout",
     "output_type": "stream",
     "text": [
      "📉 Train=0.0556 | Val=0.0049 | Val sMAPE=26.00%\n",
      "✅ (best).\n",
      "\n",
      "===== Epoch 23/300 =====\n"
     ]
    },
    {
     "name": "stderr",
     "output_type": "stream",
     "text": [
      "                                                      \r"
     ]
    },
    {
     "name": "stdout",
     "output_type": "stream",
     "text": [
      "📉 Train=0.0531 | Val=0.0056 | Val sMAPE=26.33%\n",
      "\n",
      "===== Epoch 24/300 =====\n"
     ]
    },
    {
     "name": "stderr",
     "output_type": "stream",
     "text": [
      "                                                      \r"
     ]
    },
    {
     "name": "stdout",
     "output_type": "stream",
     "text": [
      "📉 Train=0.0517 | Val=0.0111 | Val sMAPE=29.53%\n",
      "\n",
      "===== Epoch 25/300 =====\n"
     ]
    },
    {
     "name": "stderr",
     "output_type": "stream",
     "text": [
      "                                                      \r"
     ]
    },
    {
     "name": "stdout",
     "output_type": "stream",
     "text": [
      "📉 Train=0.0490 | Val=0.0102 | Val sMAPE=29.17%\n",
      "\n",
      "===== Epoch 26/300 =====\n"
     ]
    },
    {
     "name": "stderr",
     "output_type": "stream",
     "text": [
      "                                                      \r"
     ]
    },
    {
     "name": "stdout",
     "output_type": "stream",
     "text": [
      "📉 Train=0.0554 | Val=0.0093 | Val sMAPE=30.45%\n",
      "\n",
      "===== Epoch 27/300 =====\n"
     ]
    },
    {
     "name": "stderr",
     "output_type": "stream",
     "text": [
      "                                                      \r"
     ]
    },
    {
     "name": "stdout",
     "output_type": "stream",
     "text": [
      "📉 Train=0.0528 | Val=0.0078 | Val sMAPE=30.20%\n",
      "\n",
      "===== Epoch 28/300 =====\n"
     ]
    },
    {
     "name": "stderr",
     "output_type": "stream",
     "text": [
      "                                                      \r"
     ]
    },
    {
     "name": "stdout",
     "output_type": "stream",
     "text": [
      "📉 Train=0.0523 | Val=0.0100 | Val sMAPE=31.25%\n",
      "\n",
      "===== Epoch 29/300 =====\n"
     ]
    },
    {
     "name": "stderr",
     "output_type": "stream",
     "text": [
      "                                                      \r"
     ]
    },
    {
     "name": "stdout",
     "output_type": "stream",
     "text": [
      "📉 Train=0.0462 | Val=0.0050 | Val sMAPE=30.43%\n",
      "\n",
      "===== Epoch 30/300 =====\n"
     ]
    },
    {
     "name": "stderr",
     "output_type": "stream",
     "text": [
      "                                                      \r"
     ]
    },
    {
     "name": "stdout",
     "output_type": "stream",
     "text": [
      "📉 Train=0.0516 | Val=0.0074 | Val sMAPE=27.42%\n",
      "\n",
      "===== Epoch 31/300 =====\n"
     ]
    },
    {
     "name": "stderr",
     "output_type": "stream",
     "text": [
      "                                                      \r"
     ]
    },
    {
     "name": "stdout",
     "output_type": "stream",
     "text": [
      "📉 Train=0.0515 | Val=0.0073 | Val sMAPE=33.79%\n",
      "\n",
      "===== Epoch 32/300 =====\n"
     ]
    },
    {
     "name": "stderr",
     "output_type": "stream",
     "text": [
      "                                                      \r"
     ]
    },
    {
     "name": "stdout",
     "output_type": "stream",
     "text": [
      "📉 Train=0.0491 | Val=0.0060 | Val sMAPE=28.98%\n",
      "\n",
      "===== Epoch 33/300 =====\n"
     ]
    },
    {
     "name": "stderr",
     "output_type": "stream",
     "text": [
      "                                                      \r"
     ]
    },
    {
     "name": "stdout",
     "output_type": "stream",
     "text": [
      "📉 Train=0.0447 | Val=0.0085 | Val sMAPE=29.78%\n",
      "\n",
      "===== Epoch 34/300 =====\n"
     ]
    },
    {
     "name": "stderr",
     "output_type": "stream",
     "text": [
      "                                                      \r"
     ]
    },
    {
     "name": "stdout",
     "output_type": "stream",
     "text": [
      "📉 Train=0.0490 | Val=0.0056 | Val sMAPE=29.12%\n",
      "\n",
      "===== Epoch 35/300 =====\n"
     ]
    },
    {
     "name": "stderr",
     "output_type": "stream",
     "text": [
      "                                                      \r"
     ]
    },
    {
     "name": "stdout",
     "output_type": "stream",
     "text": [
      "📉 Train=0.0447 | Val=0.0064 | Val sMAPE=31.27%\n",
      "\n",
      "===== Epoch 36/300 =====\n"
     ]
    },
    {
     "name": "stderr",
     "output_type": "stream",
     "text": [
      "                                                      \r"
     ]
    },
    {
     "name": "stdout",
     "output_type": "stream",
     "text": [
      "📉 Train=0.0425 | Val=0.0082 | Val sMAPE=31.47%\n",
      "\n",
      "===== Epoch 37/300 =====\n"
     ]
    },
    {
     "name": "stderr",
     "output_type": "stream",
     "text": [
      "                                                      \r"
     ]
    },
    {
     "name": "stdout",
     "output_type": "stream",
     "text": [
      "📉 Train=0.0455 | Val=0.0062 | Val sMAPE=30.12%\n",
      "\n",
      "===== Epoch 38/300 =====\n"
     ]
    },
    {
     "name": "stderr",
     "output_type": "stream",
     "text": [
      "                                                      \r"
     ]
    },
    {
     "name": "stdout",
     "output_type": "stream",
     "text": [
      "📉 Train=0.0466 | Val=0.0079 | Val sMAPE=30.31%\n",
      "\n",
      "===== Epoch 39/300 =====\n"
     ]
    },
    {
     "name": "stderr",
     "output_type": "stream",
     "text": [
      "                                                      \r"
     ]
    },
    {
     "name": "stdout",
     "output_type": "stream",
     "text": [
      "📉 Train=0.0470 | Val=0.0077 | Val sMAPE=29.62%\n",
      "\n",
      "===== Epoch 40/300 =====\n"
     ]
    },
    {
     "name": "stderr",
     "output_type": "stream",
     "text": [
      "                                                      \r"
     ]
    },
    {
     "name": "stdout",
     "output_type": "stream",
     "text": [
      "📉 Train=0.0427 | Val=0.0064 | Val sMAPE=28.15%\n",
      "\n",
      "===== Epoch 41/300 =====\n"
     ]
    },
    {
     "name": "stderr",
     "output_type": "stream",
     "text": [
      "                                                      \r"
     ]
    },
    {
     "name": "stdout",
     "output_type": "stream",
     "text": [
      "📉 Train=0.0451 | Val=0.0075 | Val sMAPE=29.10%\n",
      "\n",
      "===== Epoch 42/300 =====\n"
     ]
    },
    {
     "name": "stderr",
     "output_type": "stream",
     "text": [
      "                                                      \r"
     ]
    },
    {
     "name": "stdout",
     "output_type": "stream",
     "text": [
      "📉 Train=0.0401 | Val=0.0059 | Val sMAPE=29.44%\n",
      "\n",
      "===== Epoch 43/300 =====\n"
     ]
    },
    {
     "name": "stderr",
     "output_type": "stream",
     "text": [
      "                                                      \r"
     ]
    },
    {
     "name": "stdout",
     "output_type": "stream",
     "text": [
      "📉 Train=0.0405 | Val=0.0062 | Val sMAPE=28.88%\n",
      "\n",
      "===== Epoch 44/300 =====\n"
     ]
    },
    {
     "name": "stderr",
     "output_type": "stream",
     "text": [
      "                                                      \r"
     ]
    },
    {
     "name": "stdout",
     "output_type": "stream",
     "text": [
      "📉 Train=0.0405 | Val=0.0087 | Val sMAPE=33.57%\n",
      "\n",
      "===== Epoch 45/300 =====\n"
     ]
    },
    {
     "name": "stderr",
     "output_type": "stream",
     "text": [
      "                                                      \r"
     ]
    },
    {
     "name": "stdout",
     "output_type": "stream",
     "text": [
      "📉 Train=0.0454 | Val=0.0086 | Val sMAPE=29.22%\n",
      "\n",
      "===== Epoch 46/300 =====\n"
     ]
    },
    {
     "name": "stderr",
     "output_type": "stream",
     "text": [
      "                                                      \r"
     ]
    },
    {
     "name": "stdout",
     "output_type": "stream",
     "text": [
      "📉 Train=0.0489 | Val=0.0070 | Val sMAPE=29.07%\n",
      "\n",
      "===== Epoch 47/300 =====\n"
     ]
    },
    {
     "name": "stderr",
     "output_type": "stream",
     "text": [
      "                                                      \r"
     ]
    },
    {
     "name": "stdout",
     "output_type": "stream",
     "text": [
      "📉 Train=0.0397 | Val=0.0075 | Val sMAPE=28.59%\n",
      "\n",
      "===== Epoch 48/300 =====\n"
     ]
    },
    {
     "name": "stderr",
     "output_type": "stream",
     "text": [
      "                                                      \r"
     ]
    },
    {
     "name": "stdout",
     "output_type": "stream",
     "text": [
      "📉 Train=0.0391 | Val=0.0054 | Val sMAPE=27.41%\n",
      "\n",
      "===== Epoch 49/300 =====\n"
     ]
    },
    {
     "name": "stderr",
     "output_type": "stream",
     "text": [
      "                                                      \r"
     ]
    },
    {
     "name": "stdout",
     "output_type": "stream",
     "text": [
      "📉 Train=0.0370 | Val=0.0058 | Val sMAPE=27.99%\n",
      "\n",
      "===== Epoch 50/300 =====\n"
     ]
    },
    {
     "name": "stderr",
     "output_type": "stream",
     "text": [
      "                                                      \r"
     ]
    },
    {
     "name": "stdout",
     "output_type": "stream",
     "text": [
      "📉 Train=0.0402 | Val=0.0055 | Val sMAPE=27.18%\n",
      "\n",
      "===== Epoch 51/300 =====\n"
     ]
    },
    {
     "name": "stderr",
     "output_type": "stream",
     "text": [
      "                                                      \r"
     ]
    },
    {
     "name": "stdout",
     "output_type": "stream",
     "text": [
      "📉 Train=0.0370 | Val=0.0057 | Val sMAPE=27.74%\n",
      "\n",
      "===== Epoch 52/300 =====\n"
     ]
    },
    {
     "name": "stderr",
     "output_type": "stream",
     "text": [
      "                                                      \r"
     ]
    },
    {
     "name": "stdout",
     "output_type": "stream",
     "text": [
      "📉 Train=0.0373 | Val=0.0082 | Val sMAPE=27.67%\n",
      "\n",
      "===== Epoch 53/300 =====\n"
     ]
    },
    {
     "name": "stderr",
     "output_type": "stream",
     "text": [
      "                                                      \r"
     ]
    },
    {
     "name": "stdout",
     "output_type": "stream",
     "text": [
      "📉 Train=0.0450 | Val=0.0056 | Val sMAPE=26.95%\n",
      "\n",
      "===== Epoch 54/300 =====\n"
     ]
    },
    {
     "name": "stderr",
     "output_type": "stream",
     "text": [
      "                                                      \r"
     ]
    },
    {
     "name": "stdout",
     "output_type": "stream",
     "text": [
      "📉 Train=0.0420 | Val=0.0067 | Val sMAPE=28.28%\n",
      "\n",
      "===== Epoch 55/300 =====\n"
     ]
    },
    {
     "name": "stderr",
     "output_type": "stream",
     "text": [
      "                                                      \r"
     ]
    },
    {
     "name": "stdout",
     "output_type": "stream",
     "text": [
      "📉 Train=0.0427 | Val=0.0081 | Val sMAPE=28.92%\n",
      "\n",
      "===== Epoch 56/300 =====\n"
     ]
    },
    {
     "name": "stderr",
     "output_type": "stream",
     "text": [
      "                                                      \r"
     ]
    },
    {
     "name": "stdout",
     "output_type": "stream",
     "text": [
      "📉 Train=0.0407 | Val=0.0075 | Val sMAPE=28.00%\n",
      "\n",
      "===== Epoch 57/300 =====\n"
     ]
    },
    {
     "name": "stderr",
     "output_type": "stream",
     "text": [
      "                                                      \r"
     ]
    },
    {
     "name": "stdout",
     "output_type": "stream",
     "text": [
      "📉 Train=0.0423 | Val=0.0064 | Val sMAPE=26.93%\n",
      "\n",
      "===== Epoch 58/300 =====\n"
     ]
    },
    {
     "name": "stderr",
     "output_type": "stream",
     "text": [
      "                                                      \r"
     ]
    },
    {
     "name": "stdout",
     "output_type": "stream",
     "text": [
      "📉 Train=0.0365 | Val=0.0067 | Val sMAPE=27.91%\n",
      "\n",
      "===== Epoch 59/300 =====\n"
     ]
    },
    {
     "name": "stderr",
     "output_type": "stream",
     "text": [
      "                                                      \r"
     ]
    },
    {
     "name": "stdout",
     "output_type": "stream",
     "text": [
      "📉 Train=0.0455 | Val=0.0076 | Val sMAPE=28.60%\n",
      "\n",
      "===== Epoch 60/300 =====\n"
     ]
    },
    {
     "name": "stderr",
     "output_type": "stream",
     "text": [
      "                                                      \r"
     ]
    },
    {
     "name": "stdout",
     "output_type": "stream",
     "text": [
      "📉 Train=0.0412 | Val=0.0074 | Val sMAPE=27.24%\n",
      "\n",
      "===== Epoch 61/300 =====\n"
     ]
    },
    {
     "name": "stderr",
     "output_type": "stream",
     "text": [
      "                                                      \r"
     ]
    },
    {
     "name": "stdout",
     "output_type": "stream",
     "text": [
      "📉 Train=0.0442 | Val=0.0085 | Val sMAPE=29.22%\n",
      "\n",
      "===== Epoch 62/300 =====\n"
     ]
    },
    {
     "name": "stderr",
     "output_type": "stream",
     "text": [
      "                                                      \r"
     ]
    },
    {
     "name": "stdout",
     "output_type": "stream",
     "text": [
      "📉 Train=0.0408 | Val=0.0065 | Val sMAPE=26.78%\n",
      "\n",
      "===== Epoch 63/300 =====\n"
     ]
    },
    {
     "name": "stderr",
     "output_type": "stream",
     "text": [
      "                                                      \r"
     ]
    },
    {
     "name": "stdout",
     "output_type": "stream",
     "text": [
      "📉 Train=0.0414 | Val=0.0095 | Val sMAPE=29.72%\n",
      "\n",
      "===== Epoch 64/300 =====\n"
     ]
    },
    {
     "name": "stderr",
     "output_type": "stream",
     "text": [
      "                                                      \r"
     ]
    },
    {
     "name": "stdout",
     "output_type": "stream",
     "text": [
      "📉 Train=0.0383 | Val=0.0079 | Val sMAPE=28.25%\n",
      "\n",
      "===== Epoch 65/300 =====\n"
     ]
    },
    {
     "name": "stderr",
     "output_type": "stream",
     "text": [
      "                                                      \r"
     ]
    },
    {
     "name": "stdout",
     "output_type": "stream",
     "text": [
      "📉 Train=0.0468 | Val=0.0086 | Val sMAPE=28.72%\n",
      "\n",
      "===== Epoch 66/300 =====\n"
     ]
    },
    {
     "name": "stderr",
     "output_type": "stream",
     "text": [
      "                                                      \r"
     ]
    },
    {
     "name": "stdout",
     "output_type": "stream",
     "text": [
      "📉 Train=0.0360 | Val=0.0062 | Val sMAPE=27.44%\n",
      "\n",
      "===== Epoch 67/300 =====\n"
     ]
    },
    {
     "name": "stderr",
     "output_type": "stream",
     "text": [
      "                                                      \r"
     ]
    },
    {
     "name": "stdout",
     "output_type": "stream",
     "text": [
      "📉 Train=0.0398 | Val=0.0059 | Val sMAPE=26.52%\n",
      "\n",
      "===== Epoch 68/300 =====\n"
     ]
    },
    {
     "name": "stderr",
     "output_type": "stream",
     "text": [
      "                                                      \r"
     ]
    },
    {
     "name": "stdout",
     "output_type": "stream",
     "text": [
      "📉 Train=0.0380 | Val=0.0059 | Val sMAPE=29.91%\n",
      "\n",
      "===== Epoch 69/300 =====\n"
     ]
    },
    {
     "name": "stderr",
     "output_type": "stream",
     "text": [
      "                                                      \r"
     ]
    },
    {
     "name": "stdout",
     "output_type": "stream",
     "text": [
      "📉 Train=0.0367 | Val=0.0075 | Val sMAPE=28.44%\n",
      "\n",
      "===== Epoch 70/300 =====\n"
     ]
    },
    {
     "name": "stderr",
     "output_type": "stream",
     "text": [
      "                                                      \r"
     ]
    },
    {
     "name": "stdout",
     "output_type": "stream",
     "text": [
      "📉 Train=0.0347 | Val=0.0058 | Val sMAPE=26.54%\n",
      "\n",
      "===== Epoch 71/300 =====\n"
     ]
    },
    {
     "name": "stderr",
     "output_type": "stream",
     "text": [
      "                                                      \r"
     ]
    },
    {
     "name": "stdout",
     "output_type": "stream",
     "text": [
      "📉 Train=0.0358 | Val=0.0067 | Val sMAPE=28.08%\n",
      "\n",
      "===== Epoch 72/300 =====\n"
     ]
    },
    {
     "name": "stderr",
     "output_type": "stream",
     "text": [
      "                                                      \r"
     ]
    },
    {
     "name": "stdout",
     "output_type": "stream",
     "text": [
      "📉 Train=0.0452 | Val=0.0072 | Val sMAPE=27.78%\n",
      "\n",
      "===== Epoch 73/300 =====\n"
     ]
    },
    {
     "name": "stderr",
     "output_type": "stream",
     "text": [
      "                                                      \r"
     ]
    },
    {
     "name": "stdout",
     "output_type": "stream",
     "text": [
      "📉 Train=0.0380 | Val=0.0066 | Val sMAPE=27.33%\n",
      "\n",
      "===== Epoch 74/300 =====\n"
     ]
    },
    {
     "name": "stderr",
     "output_type": "stream",
     "text": [
      "                                                      \r"
     ]
    },
    {
     "name": "stdout",
     "output_type": "stream",
     "text": [
      "📉 Train=0.0432 | Val=0.0065 | Val sMAPE=27.76%\n",
      "\n",
      "===== Epoch 75/300 =====\n"
     ]
    },
    {
     "name": "stderr",
     "output_type": "stream",
     "text": [
      "                                                      \r"
     ]
    },
    {
     "name": "stdout",
     "output_type": "stream",
     "text": [
      "📉 Train=0.0432 | Val=0.0067 | Val sMAPE=26.39%\n",
      "\n",
      "===== Epoch 76/300 =====\n"
     ]
    },
    {
     "name": "stderr",
     "output_type": "stream",
     "text": [
      "                                                      \r"
     ]
    },
    {
     "name": "stdout",
     "output_type": "stream",
     "text": [
      "📉 Train=0.0306 | Val=0.0053 | Val sMAPE=26.48%\n",
      "\n",
      "===== Epoch 77/300 =====\n"
     ]
    },
    {
     "name": "stderr",
     "output_type": "stream",
     "text": [
      "                                                      \r"
     ]
    },
    {
     "name": "stdout",
     "output_type": "stream",
     "text": [
      "📉 Train=0.0384 | Val=0.0064 | Val sMAPE=27.14%\n",
      "\n",
      "===== Epoch 78/300 =====\n"
     ]
    },
    {
     "name": "stderr",
     "output_type": "stream",
     "text": [
      "                                                      \r"
     ]
    },
    {
     "name": "stdout",
     "output_type": "stream",
     "text": [
      "📉 Train=0.0405 | Val=0.0067 | Val sMAPE=26.81%\n",
      "\n",
      "===== Epoch 79/300 =====\n"
     ]
    },
    {
     "name": "stderr",
     "output_type": "stream",
     "text": [
      "                                                      \r"
     ]
    },
    {
     "name": "stdout",
     "output_type": "stream",
     "text": [
      "📉 Train=0.0414 | Val=0.0068 | Val sMAPE=26.82%\n",
      "\n",
      "===== Epoch 80/300 =====\n"
     ]
    },
    {
     "name": "stderr",
     "output_type": "stream",
     "text": [
      "                                                      \r"
     ]
    },
    {
     "name": "stdout",
     "output_type": "stream",
     "text": [
      "📉 Train=0.0428 | Val=0.0066 | Val sMAPE=26.31%\n",
      "\n",
      "===== Epoch 81/300 =====\n"
     ]
    },
    {
     "name": "stderr",
     "output_type": "stream",
     "text": [
      "                                                      \r"
     ]
    },
    {
     "name": "stdout",
     "output_type": "stream",
     "text": [
      "📉 Train=0.0395 | Val=0.0065 | Val sMAPE=27.95%\n",
      "\n",
      "===== Epoch 82/300 =====\n"
     ]
    },
    {
     "name": "stderr",
     "output_type": "stream",
     "text": [
      "                                                      \r"
     ]
    },
    {
     "name": "stdout",
     "output_type": "stream",
     "text": [
      "📉 Train=0.0392 | Val=0.0069 | Val sMAPE=27.67%\n",
      "⏹️ Early stopping.\n"
     ]
    },
    {
     "data": {
      "image/png": "[encoded data removed]",
      "text/plain": [
       "<Figure size 1000x500 with 1 Axes>"
      ]
     },
     "metadata": {},
     "output_type": "display_data"
    },
    {
     "name": "stderr",
     "output_type": "stream",
     "text": [
      "C:\\Users\\x515a\\AppData\\Local\\Temp\\ipykernel_23912\\758600130.py:446: FutureWarning: You are using `torch.load` with `weights_only=False` (the current default value), which uses the default pickle module implicitly. It is possible to construct malicious pickle data which will execute arbitrary code during unpickling (See https://github.com/pytorch/pytorch/blob/main/SECURITY.md#untrusted-models for more details). In a future release, the default value for `weights_only` will be flipped to `True`. This limits the functions that could be executed during unpickling. Arbitrary objects will no longer be allowed to be loaded via this mode unless they are explicitly allowlisted by the user via `torch.serialization.add_safe_globals`. We recommend you start setting `weights_only=True` for any use case where you don't have full control of the loaded file. Please open an issue on GitHub for any issues related to this experimental feature.\n",
      "  model.load_state_dict(torch.load(CACHE_DIR / \"best_model_cnn_improved.pth\"))\n",
      "                                                     \r"
     ]
    },
    {
     "name": "stdout",
     "output_type": "stream",
     "text": [
      "✅ Test: MSE=3726.47, MAE=34.97, RMSE=61.04, R2=0.9606, sMAPE=25.72%, MAE%Max=4.08%\n"
     ]
    },
    {
     "data": {
      "image/png": "[encoded data removed]",
      "text/plain": [
       "<Figure size 1000x500 with 1 Axes>"
      ]
     },
     "metadata": {},
     "output_type": "display_data"
    },
    {
     "ename": "ValueError",
     "evalue": "bins must be monotonically increasing or decreasing",
     "output_type": "error",
     "traceback": [
      "\u001b[1;31m---------------------------------------------------------------------------\u001b[0m",
      "\u001b[1;31mValueError\u001b[0m                                Traceback (most recent call last)",
      "Cell \u001b[1;32mIn[2], line 450\u001b[0m\n\u001b[0;32m    447\u001b[0m     evaluate_test(model, test_loader, max_rul)\n\u001b[0;32m    449\u001b[0m \u001b[38;5;28;01mif\u001b[39;00m \u001b[38;5;18m__name__\u001b[39m \u001b[38;5;241m==\u001b[39m \u001b[38;5;124m\"\u001b[39m\u001b[38;5;124m__main__\u001b[39m\u001b[38;5;124m\"\u001b[39m:\n\u001b[1;32m--> 450\u001b[0m     \u001b[43mrun\u001b[49m\u001b[43m(\u001b[49m\u001b[43m)\u001b[49m\n",
      "Cell \u001b[1;32mIn[2], line 447\u001b[0m, in \u001b[0;36mrun\u001b[1;34m()\u001b[0m\n\u001b[0;32m    445\u001b[0m plot_history(history)\n\u001b[0;32m    446\u001b[0m model\u001b[38;5;241m.\u001b[39mload_state_dict(torch\u001b[38;5;241m.\u001b[39mload(CACHE_DIR \u001b[38;5;241m/\u001b[39m \u001b[38;5;124m\"\u001b[39m\u001b[38;5;124mbest_model_cnn_improved.pth\u001b[39m\u001b[38;5;124m\"\u001b[39m))\n\u001b[1;32m--> 447\u001b[0m \u001b[43mevaluate_test\u001b[49m\u001b[43m(\u001b[49m\u001b[43mmodel\u001b[49m\u001b[43m,\u001b[49m\u001b[43m \u001b[49m\u001b[43mtest_loader\u001b[49m\u001b[43m,\u001b[49m\u001b[43m \u001b[49m\u001b[43mmax_rul\u001b[49m\u001b[43m)\u001b[49m\n",
      "Cell \u001b[1;32mIn[2], line 401\u001b[0m, in \u001b[0;36mevaluate_test\u001b[1;34m(model, test_loader, max_rul)\u001b[0m\n\u001b[0;32m    398\u001b[0m     bins \u001b[38;5;241m=\u001b[39m base_bins[:\u001b[38;5;241m4\u001b[39m] \u001b[38;5;241m+\u001b[39m [max_rul \u001b[38;5;241m+\u001b[39m \u001b[38;5;241m1\u001b[39m]\n\u001b[0;32m    399\u001b[0m     bin_labels \u001b[38;5;241m=\u001b[39m [\u001b[38;5;124m'\u001b[39m\u001b[38;5;124m0-500\u001b[39m\u001b[38;5;124m'\u001b[39m, \u001b[38;5;124m'\u001b[39m\u001b[38;5;124m500-1000\u001b[39m\u001b[38;5;124m'\u001b[39m, \u001b[38;5;124m'\u001b[39m\u001b[38;5;124m1000-1500\u001b[39m\u001b[38;5;124m'\u001b[39m, \u001b[38;5;124mf\u001b[39m\u001b[38;5;124m'\u001b[39m\u001b[38;5;124m1500+\u001b[39m\u001b[38;5;124m'\u001b[39m]\n\u001b[1;32m--> 401\u001b[0m true_bins \u001b[38;5;241m=\u001b[39m \u001b[43mnp\u001b[49m\u001b[38;5;241;43m.\u001b[39;49m\u001b[43mdigitize\u001b[49m\u001b[43m(\u001b[49m\u001b[43mtrues\u001b[49m\u001b[43m,\u001b[49m\u001b[43m \u001b[49m\u001b[43mbins\u001b[49m\u001b[43m,\u001b[49m\u001b[43m \u001b[49m\u001b[43mright\u001b[49m\u001b[38;5;241;43m=\u001b[39;49m\u001b[38;5;28;43;01mFalse\u001b[39;49;00m\u001b[43m)\u001b[49m\n\u001b[0;32m    402\u001b[0m pred_bins \u001b[38;5;241m=\u001b[39m np\u001b[38;5;241m.\u001b[39mdigitize(preds, bins, right\u001b[38;5;241m=\u001b[39m\u001b[38;5;28;01mFalse\u001b[39;00m)\n\u001b[0;32m    403\u001b[0m cm \u001b[38;5;241m=\u001b[39m confusion_matrix(true_bins, pred_bins, labels\u001b[38;5;241m=\u001b[39m\u001b[38;5;28mrange\u001b[39m(\u001b[38;5;28mlen\u001b[39m(bin_labels)))\n",
      "File \u001b[1;32m~\\AppData\\Local\\Packages\\PythonSoftwareFoundation.Python.3.12_qbz5n2kfra8p0\\LocalCache\\local-packages\\Python312\\site-packages\\numpy\\lib\\function_base.py:5725\u001b[0m, in \u001b[0;36mdigitize\u001b[1;34m(x, bins, right)\u001b[0m\n\u001b[0;32m   5723\u001b[0m mono \u001b[38;5;241m=\u001b[39m _monotonicity(bins)\n\u001b[0;32m   5724\u001b[0m \u001b[38;5;28;01mif\u001b[39;00m mono \u001b[38;5;241m==\u001b[39m \u001b[38;5;241m0\u001b[39m:\n\u001b[1;32m-> 5725\u001b[0m     \u001b[38;5;28;01mraise\u001b[39;00m \u001b[38;5;167;01mValueError\u001b[39;00m(\u001b[38;5;124m\"\u001b[39m\u001b[38;5;124mbins must be monotonically increasing or decreasing\u001b[39m\u001b[38;5;124m\"\u001b[39m)\n\u001b[0;32m   5727\u001b[0m \u001b[38;5;66;03m# this is backwards because the arguments below are swapped\u001b[39;00m\n\u001b[0;32m   5728\u001b[0m side \u001b[38;5;241m=\u001b[39m \u001b[38;5;124m'\u001b[39m\u001b[38;5;124mleft\u001b[39m\u001b[38;5;124m'\u001b[39m \u001b[38;5;28;01mif\u001b[39;00m right \u001b[38;5;28;01melse\u001b[39;00m \u001b[38;5;124m'\u001b[39m\u001b[38;5;124mright\u001b[39m\u001b[38;5;124m'\u001b[39m\n",
      "\u001b[1;31mValueError\u001b[0m: bins must be monotonically increasing or decreasing"
     ]
    }
   ],
   "source": [
    "import os\n",
    "import math\n",
    "import random\n",
    "from pathlib import Path\n",
    "\n",
    "import numpy as np\n",
    "import pandas as pd\n",
    "from tqdm import tqdm\n",
    "from scipy.stats import kurtosis\n",
    "\n",
    "import torch\n",
    "import torch.nn as nn\n",
    "import torch.nn.functional as F\n",
    "from torch.utils.data import Dataset, DataLoader\n",
    "from torch.optim.lr_scheduler import ReduceLROnPlateau\n",
    "from sklearn.metrics import mean_squared_error, mean_absolute_error, r2_score, confusion_matrix\n",
    "import matplotlib.pyplot as plt\n",
    "import seaborn as sns\n",
    "\n",
    "\n",
    "BASE_DIR = Path(r\"D:\\DRIVE\\UNI\\moviZ\\TERM8\\ANN-article--AzRiz\\OurWorks\\Data-description\\phase1\")\n",
    "REVERSED_FOLDER = \"reversed\"\n",
    "CACHE_DIR = Path(\"cache_fast_norm\")\n",
    "CACHE_DIR.mkdir(exist_ok=True, parents=True)\n",
    "\n",
    "TARGET_LEN = 2048\n",
    "SMOOTH_KERNEL = 7\n",
    "BATCH_SIZE = 64\n",
    "EPOCHS = 300\n",
    "LR = 5e-5\n",
    "WARMUP_LR = 5e-6\n",
    "WARMUP_EPOCHS = 20\n",
    "WEIGHT_DECAY = 1e-4\n",
    "PATIENCE = 60\n",
    "VAL_RATIO = 0.2\n",
    "TEST_RATIO = 0.2\n",
    "SEED = 42\n",
    "AUGMENT = True\n",
    "DEBUG = False\n",
    "\n",
    "random.seed(SEED)\n",
    "np.random.seed(SEED)\n",
    "torch.manual_seed(SEED)\n",
    "torch.set_num_threads(max(1, os.cpu_count() // 2))\n",
    "\n",
    "def smooth_signal(x, kernel=SMOOTH_KERNEL):\n",
    "    if kernel is None or kernel <= 1:\n",
    "        return x.astype(np.float32, copy=False)\n",
    "    k = np.ones(kernel, dtype=np.float32) / kernel\n",
    "    return np.convolve(x.astype(np.float32, copy=False), k, mode='same')\n",
    "\n",
    "def downsample_avg(signal, target_len):\n",
    "    if len(signal) == target_len:\n",
    "        return signal.astype(np.float32, copy=False)\n",
    "    parts = np.array_split(signal, target_len)\n",
    "    return np.array([p.mean(dtype=np.float32) for p in parts], dtype=np.float32)\n",
    "\n",
    "def clip_signal(signal, clip_percentile=99.5):\n",
    "    clip_value = np.percentile(np.abs(signal), clip_percentile)\n",
    "    return np.clip(signal, -clip_value, clip_value)\n",
    "\n",
    "def frequency_augmentation(signal, scale_range=(0.85, 1.15)):\n",
    "    freq = np.fft.fft(signal)\n",
    "    scale = np.random.uniform(*scale_range)\n",
    "    freq = freq * scale\n",
    "    return np.fft.ifft(freq).real.astype(np.float32)\n",
    "\n",
    "def mixup_data(x, y, alpha=0.4):\n",
    "    if alpha > 0:\n",
    "        lam = np.random.beta(alpha, alpha)\n",
    "    else:\n",
    "        lam = 1\n",
    "    batch_size = x.size(0)\n",
    "    index = torch.randperm(batch_size)\n",
    "    mixed_x = lam * x + (1 - lam) * x[index, :]\n",
    "    y_a, y_b = y, y[index]\n",
    "    return mixed_x, y_a, y_b, lam\n",
    "\n",
    "def get_all_files(base_dir):\n",
    "    files = list(base_dir.rglob(f\"*/{REVERSED_FOLDER}/*.csv\"))\n",
    "    return sorted([f for f in files if f.is_file()])\n",
    "\n",
    "def find_degradation_start(signals):\n",
    "    kurt = np.array([kurtosis(s) for s in signals])\n",
    "    kurt = smooth_signal(kurt, kernel=5)\n",
    "    normal_end = min(50, len(kurt) // 5)\n",
    "    mean_normal = np.mean(kurt[:normal_end])\n",
    "    std_normal = np.std(kurt[:normal_end])\n",
    "    threshold = mean_normal + 3 * std_normal\n",
    "    for i in range(normal_end, len(kurt)):\n",
    "        if kurt[i] > threshold:\n",
    "            return i\n",
    "    return len(kurt) // 2\n",
    "\n",
    "def preprocess_and_cache(files):\n",
    "    print(\"📦 Preprocessing & Caching (once)...\")\n",
    "    X_list, y_list = [], []\n",
    "    max_rul = 0.0\n",
    "    for f in tqdm(files):\n",
    "        df = pd.read_csv(f, header=None, dtype=np.float32)\n",
    "        sigs = df.iloc[:, :-1].values\n",
    "        labels = df.iloc[:, -1].values.astype(np.float32)\n",
    "        if labels.size == 0:\n",
    "            continue\n",
    "        deg_start = find_degradation_start(sigs)\n",
    "        rul_at_start = labels[deg_start]\n",
    "        adjusted_labels = labels.copy()\n",
    "        adjusted_labels[:deg_start] = rul_at_start\n",
    "        max_rul = max(max_rul, float(adjusted_labels.max()))\n",
    "        for sig, lab in zip(sigs, adjusted_labels):\n",
    "            sig = clip_signal(sig)\n",
    "            if SMOOTH_KERNEL > 1:\n",
    "                sig = smooth_signal(sig, SMOOTH_KERNEL)\n",
    "            sig_ds = downsample_avg(sig, TARGET_LEN)\n",
    "            X_list.append(sig_ds)\n",
    "            y_list.append(lab)\n",
    "    X = np.asarray(X_list, dtype=np.float32)\n",
    "    y = np.asarray(y_list, dtype=np.float32)\n",
    "    np.save(CACHE_DIR / \"X_raw.npy\", X)\n",
    "    np.save(CACHE_DIR / \"y.npy\", y)\n",
    "    np.save(CACHE_DIR / \"max_rul.npy\", np.array([max_rul], dtype=np.float32))\n",
    "    print(f\"✅ Cached raw: X={X.shape}, y={y.shape}, max_rul={max_rul:.2f}\")\n",
    "\n",
    "def load_cached_raw():\n",
    "    X = np.load(CACHE_DIR / \"X_raw.npy\")\n",
    "    y = np.load(CACHE_DIR / \"y.npy\")\n",
    "    max_rul = float(np.load(CACHE_DIR / \"max_rul.npy\")[0])\n",
    "    return X, y, max_rul\n",
    "\n",
    "def split_indices(n_samples, test_ratio=TEST_RATIO, val_ratio=VAL_RATIO, seed=SEED):\n",
    "    idx = np.arange(n_samples)\n",
    "    rng = np.random.RandomState(seed)\n",
    "    rng.shuffle(idx)\n",
    "    n_test = int(test_ratio * n_samples)\n",
    "    n_val = int(val_ratio * (n_samples - n_test))\n",
    "    return idx[n_test + n_val:], idx[n_test:n_test + n_val], idx[:n_test]\n",
    "\n",
    "def compute_train_norm_stats(X_train):\n",
    "    mean = X_train.mean(axis=0, dtype=np.float64).astype(np.float32)\n",
    "    std = X_train.std(axis=0, dtype=np.float64).astype(np.float32)\n",
    "    std[std < 1e-6] = 1.0\n",
    "    return mean, std\n",
    "\n",
    "class BearingDataset(Dataset):\n",
    "    def __init__(self, X, y, max_rul, mean, std, train=False, augment=AUGMENT):\n",
    "        self.X_raw = X\n",
    "        self.y = (y / max_rul).astype(np.float32)\n",
    "        self.mean, self.std = mean, std\n",
    "        self.augment = augment and train\n",
    "        self.noise_scale = 0.02\n",
    "        self.shift_max = 8\n",
    "        self.scale_range = (0.9, 1.1)\n",
    "        self.freq_scale_range = (0.85, 1.15)\n",
    "\n",
    "    def __len__(self):\n",
    "        return len(self.X_raw)\n",
    "\n",
    "    def __getitem__(self, idx):\n",
    "        x = self.X_raw[idx].copy()\n",
    "        if self.augment:\n",
    "            noise = np.random.normal(0, self.noise_scale * self.std, size=x.shape).astype(np.float32)\n",
    "            x = x + noise\n",
    "            shift = np.random.randint(-self.shift_max, self.shift_max)\n",
    "            x = np.roll(x, shift)\n",
    "            scale = np.random.uniform(*self.scale_range)\n",
    "            x = x * scale\n",
    "            if np.random.random() < 0.4:\n",
    "                x = frequency_augmentation(x, self.freq_scale_range)\n",
    "        x = ((x - self.mean) / self.std).astype(np.float32)\n",
    "        return torch.from_numpy(x).unsqueeze(0), torch.tensor(self.y[idx], dtype=torch.float32)\n",
    "\n",
    "class SEBlock(nn.Module):\n",
    "    def __init__(self, channel, reduction=16):\n",
    "        super(SEBlock, self).__init__()\n",
    "        self.avg_pool = nn.AdaptiveAvgPool1d(1)\n",
    "        self.fc = nn.Sequential(\n",
    "            nn.Linear(channel, channel // reduction, bias=False),\n",
    "            nn.ReLU(inplace=True),\n",
    "            nn.Linear(channel // reduction, channel, bias=False),\n",
    "            nn.Sigmoid()\n",
    "        )\n",
    "\n",
    "    def forward(self, x):\n",
    "        b, c, _ = x.size()\n",
    "        y = self.avg_pool(x).view(b, c)\n",
    "        y = self.fc(y).view(b, c, 1)\n",
    "        return x * y.expand_as(x)\n",
    "\n",
    "class ImprovedBestModel(nn.Module):\n",
    "    def __init__(self, input_len=TARGET_LEN):\n",
    "        super().__init__()\n",
    "        self.conv1_large = nn.Sequential(\n",
    "            nn.Conv1d(1, 32, kernel_size=15, padding=7),\n",
    "            nn.ReLU(inplace=True),\n",
    "            nn.BatchNorm1d(32, momentum=0.2),\n",
    "            nn.MaxPool1d(3)\n",
    "        )\n",
    "        self.conv1_small = nn.Sequential(\n",
    "            nn.Conv1d(1, 32, kernel_size=5, padding=2),\n",
    "            nn.ReLU(inplace=True),\n",
    "            nn.BatchNorm1d(32, momentum=0.2),\n",
    "            nn.MaxPool1d(3)\n",
    "        )\n",
    "        self.conv2 = nn.Sequential(\n",
    "            nn.Conv1d(64, 128, kernel_size=7, padding=3),\n",
    "            nn.ReLU(inplace=True),\n",
    "            nn.BatchNorm1d(128, momentum=0.2),\n",
    "            nn.MaxPool1d(3)\n",
    "        )\n",
    "        self.se_block = SEBlock(128)\n",
    "        self.conv3 = nn.Sequential(\n",
    "            nn.Conv1d(128, 192, kernel_size=5, padding=2),\n",
    "            nn.ReLU(inplace=True),\n",
    "            nn.BatchNorm1d(192, momentum=0.2),\n",
    "            nn.MaxPool1d(3)\n",
    "        )\n",
    "        self.conv3_extra = nn.Sequential(\n",
    "            nn.Conv1d(192, 256, kernel_size=5, padding=2),\n",
    "            nn.ReLU(inplace=True),\n",
    "            nn.BatchNorm1d(256, momentum=0.2),\n",
    "            nn.MaxPool1d(3)\n",
    "        )\n",
    "        self.conv4 = nn.Sequential(\n",
    "            nn.Conv1d(256, 320, kernel_size=3, padding=1),\n",
    "            nn.ReLU(inplace=True),\n",
    "            nn.BatchNorm1d(320, momentum=0.2),\n",
    "            nn.AdaptiveAvgPool1d(16)\n",
    "        )\n",
    "\n",
    "        with torch.no_grad():\n",
    "            dummy = torch.zeros(1, 1, input_len)\n",
    "            out1 = self.conv1_large(dummy)\n",
    "            out2 = self.conv1_small(dummy)\n",
    "            out = torch.cat([out1, out2], dim=1)\n",
    "            out = self.conv2(out)\n",
    "            out = self.se_block(out)\n",
    "            out = self.conv3(out)\n",
    "            out = self.conv3_extra(out)\n",
    "            out = self.conv4(out)\n",
    "            output_length = out.size(2)\n",
    "            output_channels = out.size(1)\n",
    "\n",
    "        total_downsample = input_len // output_length\n",
    "        self.shortcut = nn.Sequential(\n",
    "            nn.Conv1d(1, output_channels, kernel_size=1, stride=total_downsample),\n",
    "            nn.BatchNorm1d(output_channels, momentum=0.2)\n",
    "        )\n",
    "\n",
    "        self.gru = nn.GRU(input_size=320, hidden_size=160, num_layers=2, batch_first=True, bidirectional=True, dropout=0.25)\n",
    "        self.attn = nn.MultiheadAttention(embed_dim=320, num_heads=8, dropout=0.1, batch_first=True)\n",
    "        self.classifier = nn.Sequential(\n",
    "            nn.Dropout(0.5),\n",
    "            nn.Linear(320, 320),\n",
    "            nn.ReLU(inplace=True),\n",
    "            nn.Dropout(0.4),\n",
    "            nn.Linear(320, 192),\n",
    "            nn.ReLU(inplace=True),\n",
    "            nn.Dropout(0.3),\n",
    "            nn.Linear(192, 96),\n",
    "            nn.ReLU(inplace=True),\n",
    "            nn.Dropout(0.2),\n",
    "            nn.Linear(96, 1)\n",
    "        )\n",
    "\n",
    "    def forward(self, x):\n",
    "        residual = self.shortcut(x)\n",
    "        x1 = self.conv1_large(x)\n",
    "        x2 = self.conv1_small(x)\n",
    "        x = torch.cat([x1, x2], dim=1)\n",
    "        x = self.conv2(x)\n",
    "        x = self.se_block(x)\n",
    "        x = self.conv3(x)\n",
    "        x = self.conv3_extra(x)\n",
    "        x = self.conv4(x)\n",
    "        if DEBUG:\n",
    "            print(f\"x shape: {x.shape}, residual shape: {residual.shape}\")\n",
    "        x = x + residual\n",
    "        x = x.permute(0, 2, 1)  # (batch, seq_len=16, feature=320)\n",
    "        x, hn = self.gru(x)\n",
    "        hn = hn.view(2, 2, x.size(0), 160)\n",
    "        last_hn = torch.cat((hn[-1, 0], hn[-1, 1]), dim=1)  # For GRU, hn is (num_layers*dir, batch, hidden)\n",
    "        x = self.attn(x, x, x)[0]\n",
    "        x = x.mean(dim=1)\n",
    "        x = self.classifier(x)\n",
    "        return x.squeeze(1)\n",
    "\n",
    "def smape_loss(pred, y):\n",
    "    return torch.mean(2 * torch.abs(pred - y) / (torch.abs(pred) + torch.abs(y) + 1e-6))\n",
    "\n",
    "def fit(model, train_loader, val_loader, max_epochs, base_lr, warmup_lr, warmup_epochs, weight_decay, patience):\n",
    "    criterion = nn.MSELoss()\n",
    "    optimizer = torch.optim.AdamW(model.parameters(), lr=warmup_lr, weight_decay=weight_decay)\n",
    "    scheduler = ReduceLROnPlateau(optimizer, mode='min', factor=0.3, patience=15, min_lr=1e-8)\n",
    "    best_val = float('inf')\n",
    "    best_ep = -1\n",
    "    history = {\"train\": [], \"val\": [], \"val_smape\": []}\n",
    "\n",
    "    # Check for CUDA availability\n",
    "    device = torch.device('cuda' if torch.cuda.is_available() else 'cpu')\n",
    "    model = model.to(device)\n",
    "    print(f\"Using device: {device}\")\n",
    "\n",
    "    for epoch in range(1, max_epochs + 1):\n",
    "        print(f\"\\n===== Epoch {epoch}/{max_epochs} =====\")\n",
    "        if epoch == warmup_epochs + 1:\n",
    "            for param_group in optimizer.param_groups:\n",
    "                param_group['lr'] = base_lr\n",
    "        model.train()\n",
    "        train_loss, n = 0, 0\n",
    "        for X, y in tqdm(train_loader, desc=\"Train\", leave=False):\n",
    "            X, y = X.to(device), y.to(device)\n",
    "            optimizer.zero_grad()\n",
    "            if np.random.random() < 0.45:\n",
    "                X, y_a, y_b, lam = mixup_data(X, y)\n",
    "                pred = model(X)\n",
    "                mse_loss = lam * criterion(pred, y_a) + (1 - lam) * criterion(pred, y_b)\n",
    "                smape = lam * smape_loss(pred, y_a) + (1 - lam) * smape_loss(pred, y_b)\n",
    "            else:\n",
    "                pred = model(X)\n",
    "                mse_loss = criterion(pred, y)\n",
    "                smape = smape_loss(pred, y)\n",
    "            l1_loss = torch.mean(torch.abs(pred - y)) * 0.03\n",
    "            loss = mse_loss + 0.05 * smape + l1_loss\n",
    "            loss.backward()\n",
    "            torch.nn.utils.clip_grad_norm_(model.parameters(), max_norm=0.75)\n",
    "            optimizer.step()\n",
    "            train_loss += loss.item() * X.size(0)\n",
    "            n += X.size(0)\n",
    "        train_loss /= n\n",
    "\n",
    "        model.eval()\n",
    "        val_loss, val_smape, n = 0, 0, 0\n",
    "        with torch.no_grad():\n",
    "            for X, y in tqdm(val_loader, desc=\"Val\", leave=False):\n",
    "                X, y = X.to(device), y.to(device)\n",
    "                pred = model(X)\n",
    "                loss = criterion(pred, y)\n",
    "                val_loss += loss.item() * X.size(0)\n",
    "                val_smape += (2 * torch.abs(pred - y) / (torch.abs(pred) + torch.abs(y) + 1e-6)).mean().item() * X.size(0)\n",
    "                n += X.size(0)\n",
    "        val_loss /= n\n",
    "        val_smape = 100 * val_smape / n\n",
    "\n",
    "        history[\"train\"].append(train_loss)\n",
    "        history[\"val\"].append(val_loss)\n",
    "        history[\"val_smape\"].append(val_smape)\n",
    "        print(f\"📉 Train={train_loss:.4f} | Val={val_loss:.4f} | Val sMAPE={val_smape:.2f}%\")\n",
    "        scheduler.step(val_loss)\n",
    "\n",
    "        if val_loss < best_val - 1e-4:\n",
    "            best_val = val_loss\n",
    "            best_ep = epoch\n",
    "            torch.save(model.state_dict(), CACHE_DIR / \"best_model_cnn_improved.pth\")\n",
    "            print(\"✅ (best).\")\n",
    "        elif epoch - best_ep >= patience:\n",
    "            print(\"⏹️ Early stopping.\")\n",
    "            break\n",
    "    return history\n",
    "\n",
    "def evaluate_test(model, test_loader, max_rul):\n",
    "    # Check for CUDA availability\n",
    "    device = torch.device('cuda' if torch.cuda.is_available() else 'cpu')\n",
    "    model = model.to(device)\n",
    "    model.eval()\n",
    "    preds, trues = [], []\n",
    "    with torch.no_grad():\n",
    "        for X, y in tqdm(test_loader, desc=\"Test\", leave=False):\n",
    "            X, y = X.to(device), y.to(device)\n",
    "            pred = model(X).cpu().numpy() * max_rul\n",
    "            true = y.cpu().numpy() * max_rul\n",
    "            preds.extend(pred.tolist())\n",
    "            trues.extend(true.tolist())\n",
    "    preds, trues = np.array(preds), np.array(trues)\n",
    "    mse = mean_squared_error(trues, preds)\n",
    "    mae = mean_absolute_error(trues, preds)\n",
    "    rmse = math.sqrt(mse)\n",
    "    r2 = r2_score(trues, preds)\n",
    "    smape = 100 * np.mean(2 * np.abs(preds - trues) / (np.abs(preds) + np.abs(trues) + 1e-6))\n",
    "    mae_pct = 100 * mae / (trues.max() if trues.max() > 0 else 1.0)\n",
    "    print(f\"✅ Test: MSE={mse:.2f}, MAE={mae:.2f}, RMSE={rmse:.2f}, R2={r2:.4f}, sMAPE={smape:.2f}%, MAE%Max={mae_pct:.2f}%\")\n",
    "    \n",
    "    plt.figure(figsize=(10, 5))\n",
    "    plt.scatter(trues, preds, alpha=0.5, label=\"Predictions\")\n",
    "    plt.plot([trues.min(), trues.max()], [trues.min(), trues.max()], 'r--', label=\"Ideal\")\n",
    "    plt.xlabel(\"True RUL\")\n",
    "    plt.ylabel(\"Predicted RUL\")\n",
    "    plt.title(\"Predictions vs True RUL\")\n",
    "    plt.legend()\n",
    "    plt.grid(True)\n",
    "    plt.show()\n",
    "    \n",
    "    # Ensure bins are monotonically increasing\n",
    "    base_bins = [0, 500, 1000, 1500, 2000]\n",
    "    if max_rul > 2000:\n",
    "        bins = base_bins + [max_rul + 1]\n",
    "        bin_labels = ['0-500', '500-1000', '1000-1500', '1500-2000', f'2000+']\n",
    "    else:\n",
    "        bins = base_bins[:4] + [max_rul + 1]\n",
    "        bin_labels = ['0-500', '500-1000', '1000-1500', f'1500+']\n",
    "    \n",
    "    true_bins = np.digitize(trues, bins, right=False)\n",
    "    pred_bins = np.digitize(preds, bins, right=False)\n",
    "    cm = confusion_matrix(true_bins, pred_bins, labels=range(len(bin_labels)))\n",
    "    \n",
    "    plt.figure(figsize=(8, 6))\n",
    "    sns.heatmap(cm, annot=True, fmt='d', cmap='Blues', xticklabels=bin_labels, yticklabels=bin_labels)\n",
    "    plt.xlabel('Predicted RUL Category')\n",
    "    plt.ylabel('True RUL Category')\n",
    "    plt.title('Confusion Matrix for RUL Prediction')\n",
    "    plt.show()\n",
    "    \n",
    "    return preds, trues\n",
    "\n",
    "def plot_history(history):\n",
    "    plt.figure(figsize=(10, 5))\n",
    "    plt.plot(history[\"train\"], label=\"Train Loss\")\n",
    "    plt.plot(history[\"val\"], label=\"Validation Loss\")\n",
    "    plt.xlabel(\"Epoch\")\n",
    "    plt.ylabel(\"Loss\")\n",
    "    plt.title(\"Training and Validation Loss\")\n",
    "    plt.legend()\n",
    "    plt.grid(True)\n",
    "    plt.show()\n",
    "\n",
    "def run():\n",
    "    if not (CACHE_DIR / \"X_raw.npy\").exists():\n",
    "        files = get_all_files(BASE_DIR)\n",
    "        if not files:\n",
    "            raise RuntimeError(\"reversed not found\")\n",
    "        preprocess_and_cache(files)\n",
    "    X_raw, y, max_rul = load_cached_raw()\n",
    "    train_idx, val_idx, test_idx = split_indices(len(X_raw))\n",
    "    mean, std = compute_train_norm_stats(X_raw[train_idx])\n",
    "\n",
    "    train_ds = BearingDataset(X_raw[train_idx], y[train_idx], max_rul, mean, std, train=True)\n",
    "    val_ds = BearingDataset(X_raw[val_idx], y[val_idx], max_rul, mean, std)\n",
    "    test_ds = BearingDataset(X_raw[test_idx], y[test_idx], max_rul, mean, std)\n",
    "\n",
    "    train_loader = DataLoader(train_ds, batch_size=BATCH_SIZE, shuffle=True)\n",
    "    val_loader = DataLoader(val_ds, batch_size=BATCH_SIZE)\n",
    "    test_loader = DataLoader(test_ds, batch_size=BATCH_SIZE)\n",
    "\n",
    "    model = ImprovedBestModel(TARGET_LEN)\n",
    "    history = fit(model, train_loader, val_loader, EPOCHS, LR, WARMUP_LR, WARMUP_EPOCHS, WEIGHT_DECAY, PATIENCE)\n",
    "    plot_history(history)\n",
    "    model.load_state_dict(torch.load(CACHE_DIR / \"best_model_cnn_improved.pth\"))\n",
    "    evaluate_test(model, test_loader, max_rul)\n",
    "\n",
    "if __name__ == \"__main__\":\n",
    "    run()"
   ]
  }
 ],
 "metadata": {
  "kernelspec": {
   "display_name": "Python 3",
   "language": "python",
   "name": "python3"
  },
  "language_info": {
   "codemirror_mode": {
    "name": "ipython",
    "version": 3
   },
   "file_extension": ".py",
   "mimetype": "text/x-python",
   "name": "python",
   "nbconvert_exporter": "python",
   "pygments_lexer": "ipython3",
   "version": "3.12.10"
  }
 },
 "nbformat": 4,
 "nbformat_minor": 5
}
